{
 "cells": [
  {
   "cell_type": "code",
   "execution_count": 1,
   "id": "cc21b508",
   "metadata": {},
   "outputs": [],
   "source": [
    "import pandas as pd \n",
    "import numpy as np \n",
    "import seaborn as sns\n",
    "import matplotlib.pyplot as plt\n",
    "import plotly.express as px \n",
    "from plotly.subplots import make_subplots\n",
    "from scipy.stats import shapiro\n",
    "from scipy.stats import spearmanr, pearsonr, kendalltau\n",
    "from scipy.stats import f_oneway\n",
    "from scipy.stats import chi2_contingency\n",
    "from sklearn.linear_model import LinearRegression\n",
    "import statsmodels.api as sm\n",
    "from statsmodels.formula.api import ols\n"
   ]
  },
  {
   "cell_type": "code",
   "execution_count": 2,
   "id": "0eb23eda",
   "metadata": {},
   "outputs": [],
   "source": [
    "salesdata = pd.read_csv('Cleanedsales.csv')"
   ]
  },
  {
   "cell_type": "code",
   "execution_count": 3,
   "id": "b0fd6a90",
   "metadata": {},
   "outputs": [
    {
     "data": {
      "application/vnd.microsoft.datawrangler.viewer.v0+json": {
       "columns": [
        {
         "name": "index",
         "rawType": "int64",
         "type": "integer"
        },
        {
         "name": "Unnamed: 0",
         "rawType": "int64",
         "type": "integer"
        },
        {
         "name": "Date",
         "rawType": "object",
         "type": "string"
        },
        {
         "name": "Year",
         "rawType": "int64",
         "type": "integer"
        },
        {
         "name": "Customer ID",
         "rawType": "int64",
         "type": "integer"
        },
        {
         "name": "Customer Age",
         "rawType": "int64",
         "type": "integer"
        },
        {
         "name": "Customer Gender",
         "rawType": "object",
         "type": "string"
        },
        {
         "name": "Country",
         "rawType": "object",
         "type": "string"
        },
        {
         "name": "State",
         "rawType": "object",
         "type": "string"
        },
        {
         "name": "Product Category",
         "rawType": "object",
         "type": "string"
        },
        {
         "name": "Sub Category",
         "rawType": "object",
         "type": "string"
        },
        {
         "name": "Product",
         "rawType": "object",
         "type": "string"
        },
        {
         "name": "Order Quantity",
         "rawType": "int64",
         "type": "integer"
        },
        {
         "name": "Unit Cost",
         "rawType": "int64",
         "type": "integer"
        },
        {
         "name": "Unit Price",
         "rawType": "int64",
         "type": "integer"
        },
        {
         "name": "Cost",
         "rawType": "int64",
         "type": "integer"
        },
        {
         "name": "Revenue",
         "rawType": "int64",
         "type": "integer"
        }
       ],
       "conversionMethod": "pd.DataFrame",
       "ref": "2bc81467-b401-4426-b8b0-1c2609971c32",
       "rows": [
        [
         "0",
         "0",
         "2013-11-06",
         "2013",
         "11019",
         "19",
         "M",
         "Canada",
         "British Columbia",
         "Accessories",
         "Bike Racks",
         "Hitch Rack - 4-Bike",
         "8",
         "45",
         "120",
         "360",
         "950"
        ],
        [
         "1",
         "1",
         "2015-11-06",
         "2015",
         "11019",
         "19",
         "M",
         "Canada",
         "British Columbia",
         "Accessories",
         "Bike Racks",
         "Hitch Rack - 4-Bike",
         "8",
         "45",
         "120",
         "360",
         "950"
        ],
        [
         "2",
         "2",
         "2014-03-03",
         "2014",
         "11039",
         "49",
         "M",
         "Australia",
         "New South Wales",
         "Accessories",
         "Bike Racks",
         "Hitch Rack - 4-Bike",
         "23",
         "45",
         "120",
         "1035",
         "2401"
        ],
        [
         "3",
         "3",
         "2016-03-03",
         "2016",
         "11039",
         "49",
         "M",
         "Australia",
         "New South Wales",
         "Accessories",
         "Bike Racks",
         "Hitch Rack - 4-Bike",
         "20",
         "45",
         "120",
         "900",
         "2088"
        ],
        [
         "4",
         "4",
         "2014-04-25",
         "2014",
         "11046",
         "47",
         "F",
         "Australia",
         "New South Wales",
         "Accessories",
         "Bike Racks",
         "Hitch Rack - 4-Bike",
         "4",
         "45",
         "120",
         "180",
         "418"
        ]
       ],
       "shape": {
        "columns": 16,
        "rows": 5
       }
      },
      "text/html": [
       "<div>\n",
       "<style scoped>\n",
       "    .dataframe tbody tr th:only-of-type {\n",
       "        vertical-align: middle;\n",
       "    }\n",
       "\n",
       "    .dataframe tbody tr th {\n",
       "        vertical-align: top;\n",
       "    }\n",
       "\n",
       "    .dataframe thead th {\n",
       "        text-align: right;\n",
       "    }\n",
       "</style>\n",
       "<table border=\"1\" class=\"dataframe\">\n",
       "  <thead>\n",
       "    <tr style=\"text-align: right;\">\n",
       "      <th></th>\n",
       "      <th>Unnamed: 0</th>\n",
       "      <th>Date</th>\n",
       "      <th>Year</th>\n",
       "      <th>Customer ID</th>\n",
       "      <th>Customer Age</th>\n",
       "      <th>Customer Gender</th>\n",
       "      <th>Country</th>\n",
       "      <th>State</th>\n",
       "      <th>Product Category</th>\n",
       "      <th>Sub Category</th>\n",
       "      <th>Product</th>\n",
       "      <th>Order Quantity</th>\n",
       "      <th>Unit Cost</th>\n",
       "      <th>Unit Price</th>\n",
       "      <th>Cost</th>\n",
       "      <th>Revenue</th>\n",
       "    </tr>\n",
       "  </thead>\n",
       "  <tbody>\n",
       "    <tr>\n",
       "      <th>0</th>\n",
       "      <td>0</td>\n",
       "      <td>2013-11-06</td>\n",
       "      <td>2013</td>\n",
       "      <td>11019</td>\n",
       "      <td>19</td>\n",
       "      <td>M</td>\n",
       "      <td>Canada</td>\n",
       "      <td>British Columbia</td>\n",
       "      <td>Accessories</td>\n",
       "      <td>Bike Racks</td>\n",
       "      <td>Hitch Rack - 4-Bike</td>\n",
       "      <td>8</td>\n",
       "      <td>45</td>\n",
       "      <td>120</td>\n",
       "      <td>360</td>\n",
       "      <td>950</td>\n",
       "    </tr>\n",
       "    <tr>\n",
       "      <th>1</th>\n",
       "      <td>1</td>\n",
       "      <td>2015-11-06</td>\n",
       "      <td>2015</td>\n",
       "      <td>11019</td>\n",
       "      <td>19</td>\n",
       "      <td>M</td>\n",
       "      <td>Canada</td>\n",
       "      <td>British Columbia</td>\n",
       "      <td>Accessories</td>\n",
       "      <td>Bike Racks</td>\n",
       "      <td>Hitch Rack - 4-Bike</td>\n",
       "      <td>8</td>\n",
       "      <td>45</td>\n",
       "      <td>120</td>\n",
       "      <td>360</td>\n",
       "      <td>950</td>\n",
       "    </tr>\n",
       "    <tr>\n",
       "      <th>2</th>\n",
       "      <td>2</td>\n",
       "      <td>2014-03-03</td>\n",
       "      <td>2014</td>\n",
       "      <td>11039</td>\n",
       "      <td>49</td>\n",
       "      <td>M</td>\n",
       "      <td>Australia</td>\n",
       "      <td>New South Wales</td>\n",
       "      <td>Accessories</td>\n",
       "      <td>Bike Racks</td>\n",
       "      <td>Hitch Rack - 4-Bike</td>\n",
       "      <td>23</td>\n",
       "      <td>45</td>\n",
       "      <td>120</td>\n",
       "      <td>1035</td>\n",
       "      <td>2401</td>\n",
       "    </tr>\n",
       "    <tr>\n",
       "      <th>3</th>\n",
       "      <td>3</td>\n",
       "      <td>2016-03-03</td>\n",
       "      <td>2016</td>\n",
       "      <td>11039</td>\n",
       "      <td>49</td>\n",
       "      <td>M</td>\n",
       "      <td>Australia</td>\n",
       "      <td>New South Wales</td>\n",
       "      <td>Accessories</td>\n",
       "      <td>Bike Racks</td>\n",
       "      <td>Hitch Rack - 4-Bike</td>\n",
       "      <td>20</td>\n",
       "      <td>45</td>\n",
       "      <td>120</td>\n",
       "      <td>900</td>\n",
       "      <td>2088</td>\n",
       "    </tr>\n",
       "    <tr>\n",
       "      <th>4</th>\n",
       "      <td>4</td>\n",
       "      <td>2014-04-25</td>\n",
       "      <td>2014</td>\n",
       "      <td>11046</td>\n",
       "      <td>47</td>\n",
       "      <td>F</td>\n",
       "      <td>Australia</td>\n",
       "      <td>New South Wales</td>\n",
       "      <td>Accessories</td>\n",
       "      <td>Bike Racks</td>\n",
       "      <td>Hitch Rack - 4-Bike</td>\n",
       "      <td>4</td>\n",
       "      <td>45</td>\n",
       "      <td>120</td>\n",
       "      <td>180</td>\n",
       "      <td>418</td>\n",
       "    </tr>\n",
       "  </tbody>\n",
       "</table>\n",
       "</div>"
      ],
      "text/plain": [
       "   Unnamed: 0        Date  Year  Customer ID  Customer Age Customer Gender  \\\n",
       "0           0  2013-11-06  2013        11019            19               M   \n",
       "1           1  2015-11-06  2015        11019            19               M   \n",
       "2           2  2014-03-03  2014        11039            49               M   \n",
       "3           3  2016-03-03  2016        11039            49               M   \n",
       "4           4  2014-04-25  2014        11046            47               F   \n",
       "\n",
       "     Country             State Product Category Sub Category  \\\n",
       "0     Canada  British Columbia      Accessories   Bike Racks   \n",
       "1     Canada  British Columbia      Accessories   Bike Racks   \n",
       "2  Australia   New South Wales      Accessories   Bike Racks   \n",
       "3  Australia   New South Wales      Accessories   Bike Racks   \n",
       "4  Australia   New South Wales      Accessories   Bike Racks   \n",
       "\n",
       "               Product  Order Quantity  Unit Cost  Unit Price  Cost  Revenue  \n",
       "0  Hitch Rack - 4-Bike               8         45         120   360      950  \n",
       "1  Hitch Rack - 4-Bike               8         45         120   360      950  \n",
       "2  Hitch Rack - 4-Bike              23         45         120  1035     2401  \n",
       "3  Hitch Rack - 4-Bike              20         45         120   900     2088  \n",
       "4  Hitch Rack - 4-Bike               4         45         120   180      418  "
      ]
     },
     "execution_count": 3,
     "metadata": {},
     "output_type": "execute_result"
    }
   ],
   "source": [
    "salesdata.head()"
   ]
  },
  {
   "cell_type": "markdown",
   "id": "e49c1614",
   "metadata": {},
   "source": [
    "## Types of Statistics\n",
    "\n",
    "1. Descriptive analysis\n",
    "2. Inferential analysis"
   ]
  },
  {
   "cell_type": "code",
   "execution_count": 4,
   "id": "fbca32fd",
   "metadata": {},
   "outputs": [
    {
     "data": {
      "application/vnd.microsoft.datawrangler.viewer.v0+json": {
       "columns": [
        {
         "name": "index",
         "rawType": "object",
         "type": "string"
        },
        {
         "name": "Unnamed: 0",
         "rawType": "float64",
         "type": "float"
        },
        {
         "name": "Year",
         "rawType": "float64",
         "type": "float"
        },
        {
         "name": "Customer ID",
         "rawType": "float64",
         "type": "float"
        },
        {
         "name": "Customer Age",
         "rawType": "float64",
         "type": "float"
        },
        {
         "name": "Order Quantity",
         "rawType": "float64",
         "type": "float"
        },
        {
         "name": "Unit Cost",
         "rawType": "float64",
         "type": "float"
        },
        {
         "name": "Unit Price",
         "rawType": "float64",
         "type": "float"
        },
        {
         "name": "Cost",
         "rawType": "float64",
         "type": "float"
        },
        {
         "name": "Revenue",
         "rawType": "float64",
         "type": "float"
        }
       ],
       "conversionMethod": "pd.DataFrame",
       "ref": "f8bdf96c-5d5e-4ca3-a943-7710bdbaaaff",
       "rows": [
        [
         "count",
         "113036.0",
         "113036.0",
         "113036.0",
         "113036.0",
         "113036.0",
         "113036.0",
         "113036.0",
         "113036.0",
         "113036.0"
        ],
        [
         "mean",
         "56517.5",
         "2014.4017392689054",
         "19227.874340917937",
         "35.91921157861212",
         "11.901659648253654",
         "267.296365759581",
         "452.9384266959199",
         "469.3186949290492",
         "754.3703598853463"
        ],
        [
         "std",
         "32630.826851307338",
         "1.2725103861597218",
         "5307.581301690609",
         "11.021935623682856",
         "9.56185675955091",
         "549.8354831077943",
         "922.0712193271768",
         "884.8661177053738",
         "1309.0946735270197"
        ],
        [
         "min",
         "0.0",
         "2011.0",
         "11000.0",
         "17.0",
         "1.0",
         "1.0",
         "2.0",
         "1.0",
         "2.0"
        ],
        [
         "25%",
         "28258.75",
         "2013.0",
         "14611.0",
         "28.0",
         "2.0",
         "2.0",
         "5.0",
         "28.0",
         "63.0"
        ],
        [
         "50%",
         "56517.5",
         "2014.0",
         "18664.0",
         "35.0",
         "10.0",
         "9.0",
         "24.0",
         "108.0",
         "223.0"
        ],
        [
         "75%",
         "84776.25",
         "2016.0",
         "23475.0",
         "43.0",
         "20.0",
         "42.0",
         "70.0",
         "432.0",
         "800.0"
        ],
        [
         "max",
         "113035.0",
         "2016.0",
         "29483.0",
         "87.0",
         "32.0",
         "2171.0",
         "3578.0",
         "42978.0",
         "58074.0"
        ]
       ],
       "shape": {
        "columns": 9,
        "rows": 8
       }
      },
      "text/html": [
       "<div>\n",
       "<style scoped>\n",
       "    .dataframe tbody tr th:only-of-type {\n",
       "        vertical-align: middle;\n",
       "    }\n",
       "\n",
       "    .dataframe tbody tr th {\n",
       "        vertical-align: top;\n",
       "    }\n",
       "\n",
       "    .dataframe thead th {\n",
       "        text-align: right;\n",
       "    }\n",
       "</style>\n",
       "<table border=\"1\" class=\"dataframe\">\n",
       "  <thead>\n",
       "    <tr style=\"text-align: right;\">\n",
       "      <th></th>\n",
       "      <th>Unnamed: 0</th>\n",
       "      <th>Year</th>\n",
       "      <th>Customer ID</th>\n",
       "      <th>Customer Age</th>\n",
       "      <th>Order Quantity</th>\n",
       "      <th>Unit Cost</th>\n",
       "      <th>Unit Price</th>\n",
       "      <th>Cost</th>\n",
       "      <th>Revenue</th>\n",
       "    </tr>\n",
       "  </thead>\n",
       "  <tbody>\n",
       "    <tr>\n",
       "      <th>count</th>\n",
       "      <td>113036.000000</td>\n",
       "      <td>113036.000000</td>\n",
       "      <td>113036.000000</td>\n",
       "      <td>113036.000000</td>\n",
       "      <td>113036.000000</td>\n",
       "      <td>113036.000000</td>\n",
       "      <td>113036.000000</td>\n",
       "      <td>113036.000000</td>\n",
       "      <td>113036.000000</td>\n",
       "    </tr>\n",
       "    <tr>\n",
       "      <th>mean</th>\n",
       "      <td>56517.500000</td>\n",
       "      <td>2014.401739</td>\n",
       "      <td>19227.874341</td>\n",
       "      <td>35.919212</td>\n",
       "      <td>11.901660</td>\n",
       "      <td>267.296366</td>\n",
       "      <td>452.938427</td>\n",
       "      <td>469.318695</td>\n",
       "      <td>754.370360</td>\n",
       "    </tr>\n",
       "    <tr>\n",
       "      <th>std</th>\n",
       "      <td>32630.826851</td>\n",
       "      <td>1.272510</td>\n",
       "      <td>5307.581302</td>\n",
       "      <td>11.021936</td>\n",
       "      <td>9.561857</td>\n",
       "      <td>549.835483</td>\n",
       "      <td>922.071219</td>\n",
       "      <td>884.866118</td>\n",
       "      <td>1309.094674</td>\n",
       "    </tr>\n",
       "    <tr>\n",
       "      <th>min</th>\n",
       "      <td>0.000000</td>\n",
       "      <td>2011.000000</td>\n",
       "      <td>11000.000000</td>\n",
       "      <td>17.000000</td>\n",
       "      <td>1.000000</td>\n",
       "      <td>1.000000</td>\n",
       "      <td>2.000000</td>\n",
       "      <td>1.000000</td>\n",
       "      <td>2.000000</td>\n",
       "    </tr>\n",
       "    <tr>\n",
       "      <th>25%</th>\n",
       "      <td>28258.750000</td>\n",
       "      <td>2013.000000</td>\n",
       "      <td>14611.000000</td>\n",
       "      <td>28.000000</td>\n",
       "      <td>2.000000</td>\n",
       "      <td>2.000000</td>\n",
       "      <td>5.000000</td>\n",
       "      <td>28.000000</td>\n",
       "      <td>63.000000</td>\n",
       "    </tr>\n",
       "    <tr>\n",
       "      <th>50%</th>\n",
       "      <td>56517.500000</td>\n",
       "      <td>2014.000000</td>\n",
       "      <td>18664.000000</td>\n",
       "      <td>35.000000</td>\n",
       "      <td>10.000000</td>\n",
       "      <td>9.000000</td>\n",
       "      <td>24.000000</td>\n",
       "      <td>108.000000</td>\n",
       "      <td>223.000000</td>\n",
       "    </tr>\n",
       "    <tr>\n",
       "      <th>75%</th>\n",
       "      <td>84776.250000</td>\n",
       "      <td>2016.000000</td>\n",
       "      <td>23475.000000</td>\n",
       "      <td>43.000000</td>\n",
       "      <td>20.000000</td>\n",
       "      <td>42.000000</td>\n",
       "      <td>70.000000</td>\n",
       "      <td>432.000000</td>\n",
       "      <td>800.000000</td>\n",
       "    </tr>\n",
       "    <tr>\n",
       "      <th>max</th>\n",
       "      <td>113035.000000</td>\n",
       "      <td>2016.000000</td>\n",
       "      <td>29483.000000</td>\n",
       "      <td>87.000000</td>\n",
       "      <td>32.000000</td>\n",
       "      <td>2171.000000</td>\n",
       "      <td>3578.000000</td>\n",
       "      <td>42978.000000</td>\n",
       "      <td>58074.000000</td>\n",
       "    </tr>\n",
       "  </tbody>\n",
       "</table>\n",
       "</div>"
      ],
      "text/plain": [
       "          Unnamed: 0           Year    Customer ID   Customer Age  \\\n",
       "count  113036.000000  113036.000000  113036.000000  113036.000000   \n",
       "mean    56517.500000    2014.401739   19227.874341      35.919212   \n",
       "std     32630.826851       1.272510    5307.581302      11.021936   \n",
       "min         0.000000    2011.000000   11000.000000      17.000000   \n",
       "25%     28258.750000    2013.000000   14611.000000      28.000000   \n",
       "50%     56517.500000    2014.000000   18664.000000      35.000000   \n",
       "75%     84776.250000    2016.000000   23475.000000      43.000000   \n",
       "max    113035.000000    2016.000000   29483.000000      87.000000   \n",
       "\n",
       "       Order Quantity      Unit Cost     Unit Price           Cost  \\\n",
       "count   113036.000000  113036.000000  113036.000000  113036.000000   \n",
       "mean        11.901660     267.296366     452.938427     469.318695   \n",
       "std          9.561857     549.835483     922.071219     884.866118   \n",
       "min          1.000000       1.000000       2.000000       1.000000   \n",
       "25%          2.000000       2.000000       5.000000      28.000000   \n",
       "50%         10.000000       9.000000      24.000000     108.000000   \n",
       "75%         20.000000      42.000000      70.000000     432.000000   \n",
       "max         32.000000    2171.000000    3578.000000   42978.000000   \n",
       "\n",
       "             Revenue  \n",
       "count  113036.000000  \n",
       "mean      754.370360  \n",
       "std      1309.094674  \n",
       "min         2.000000  \n",
       "25%        63.000000  \n",
       "50%       223.000000  \n",
       "75%       800.000000  \n",
       "max     58074.000000  "
      ]
     },
     "execution_count": 4,
     "metadata": {},
     "output_type": "execute_result"
    }
   ],
   "source": [
    "# 1. Descriptive analysis = it helps to describe a data\n",
    "\n",
    "salesdata.describe()\n"
   ]
  },
  {
   "cell_type": "code",
   "execution_count": 5,
   "id": "62b49d23",
   "metadata": {},
   "outputs": [
    {
     "data": {
      "application/vnd.microsoft.datawrangler.viewer.v0+json": {
       "columns": [
        {
         "name": "index",
         "rawType": "int64",
         "type": "integer"
        },
        {
         "name": "Unnamed: 0",
         "rawType": "int64",
         "type": "integer"
        },
        {
         "name": "Date",
         "rawType": "object",
         "type": "string"
        },
        {
         "name": "Year",
         "rawType": "int64",
         "type": "integer"
        },
        {
         "name": "Customer ID",
         "rawType": "int64",
         "type": "integer"
        },
        {
         "name": "Customer Age",
         "rawType": "int64",
         "type": "integer"
        },
        {
         "name": "Customer Gender",
         "rawType": "object",
         "type": "string"
        },
        {
         "name": "Country",
         "rawType": "object",
         "type": "string"
        },
        {
         "name": "State",
         "rawType": "object",
         "type": "string"
        },
        {
         "name": "Product Category",
         "rawType": "object",
         "type": "string"
        },
        {
         "name": "Sub Category",
         "rawType": "object",
         "type": "string"
        },
        {
         "name": "Product",
         "rawType": "object",
         "type": "string"
        },
        {
         "name": "Order Quantity",
         "rawType": "int64",
         "type": "integer"
        },
        {
         "name": "Unit Cost",
         "rawType": "int64",
         "type": "integer"
        },
        {
         "name": "Unit Price",
         "rawType": "int64",
         "type": "integer"
        },
        {
         "name": "Cost",
         "rawType": "int64",
         "type": "integer"
        },
        {
         "name": "Revenue",
         "rawType": "int64",
         "type": "integer"
        }
       ],
       "conversionMethod": "pd.DataFrame",
       "ref": "490ae4c3-2f91-41a7-8eaf-36b1be0ba6a0",
       "rows": [
        [
         "0",
         "0",
         "2013-11-06",
         "2013",
         "11019",
         "19",
         "M",
         "Canada",
         "British Columbia",
         "Accessories",
         "Bike Racks",
         "Hitch Rack - 4-Bike",
         "8",
         "45",
         "120",
         "360",
         "950"
        ],
        [
         "1",
         "1",
         "2015-11-06",
         "2015",
         "11019",
         "19",
         "M",
         "Canada",
         "British Columbia",
         "Accessories",
         "Bike Racks",
         "Hitch Rack - 4-Bike",
         "8",
         "45",
         "120",
         "360",
         "950"
        ],
        [
         "2",
         "2",
         "2014-03-03",
         "2014",
         "11039",
         "49",
         "M",
         "Australia",
         "New South Wales",
         "Accessories",
         "Bike Racks",
         "Hitch Rack - 4-Bike",
         "23",
         "45",
         "120",
         "1035",
         "2401"
        ],
        [
         "3",
         "3",
         "2016-03-03",
         "2016",
         "11039",
         "49",
         "M",
         "Australia",
         "New South Wales",
         "Accessories",
         "Bike Racks",
         "Hitch Rack - 4-Bike",
         "20",
         "45",
         "120",
         "900",
         "2088"
        ],
        [
         "4",
         "4",
         "2014-04-25",
         "2014",
         "11046",
         "47",
         "F",
         "Australia",
         "New South Wales",
         "Accessories",
         "Bike Racks",
         "Hitch Rack - 4-Bike",
         "4",
         "45",
         "120",
         "180",
         "418"
        ]
       ],
       "shape": {
        "columns": 16,
        "rows": 5
       }
      },
      "text/html": [
       "<div>\n",
       "<style scoped>\n",
       "    .dataframe tbody tr th:only-of-type {\n",
       "        vertical-align: middle;\n",
       "    }\n",
       "\n",
       "    .dataframe tbody tr th {\n",
       "        vertical-align: top;\n",
       "    }\n",
       "\n",
       "    .dataframe thead th {\n",
       "        text-align: right;\n",
       "    }\n",
       "</style>\n",
       "<table border=\"1\" class=\"dataframe\">\n",
       "  <thead>\n",
       "    <tr style=\"text-align: right;\">\n",
       "      <th></th>\n",
       "      <th>Unnamed: 0</th>\n",
       "      <th>Date</th>\n",
       "      <th>Year</th>\n",
       "      <th>Customer ID</th>\n",
       "      <th>Customer Age</th>\n",
       "      <th>Customer Gender</th>\n",
       "      <th>Country</th>\n",
       "      <th>State</th>\n",
       "      <th>Product Category</th>\n",
       "      <th>Sub Category</th>\n",
       "      <th>Product</th>\n",
       "      <th>Order Quantity</th>\n",
       "      <th>Unit Cost</th>\n",
       "      <th>Unit Price</th>\n",
       "      <th>Cost</th>\n",
       "      <th>Revenue</th>\n",
       "    </tr>\n",
       "  </thead>\n",
       "  <tbody>\n",
       "    <tr>\n",
       "      <th>0</th>\n",
       "      <td>0</td>\n",
       "      <td>2013-11-06</td>\n",
       "      <td>2013</td>\n",
       "      <td>11019</td>\n",
       "      <td>19</td>\n",
       "      <td>M</td>\n",
       "      <td>Canada</td>\n",
       "      <td>British Columbia</td>\n",
       "      <td>Accessories</td>\n",
       "      <td>Bike Racks</td>\n",
       "      <td>Hitch Rack - 4-Bike</td>\n",
       "      <td>8</td>\n",
       "      <td>45</td>\n",
       "      <td>120</td>\n",
       "      <td>360</td>\n",
       "      <td>950</td>\n",
       "    </tr>\n",
       "    <tr>\n",
       "      <th>1</th>\n",
       "      <td>1</td>\n",
       "      <td>2015-11-06</td>\n",
       "      <td>2015</td>\n",
       "      <td>11019</td>\n",
       "      <td>19</td>\n",
       "      <td>M</td>\n",
       "      <td>Canada</td>\n",
       "      <td>British Columbia</td>\n",
       "      <td>Accessories</td>\n",
       "      <td>Bike Racks</td>\n",
       "      <td>Hitch Rack - 4-Bike</td>\n",
       "      <td>8</td>\n",
       "      <td>45</td>\n",
       "      <td>120</td>\n",
       "      <td>360</td>\n",
       "      <td>950</td>\n",
       "    </tr>\n",
       "    <tr>\n",
       "      <th>2</th>\n",
       "      <td>2</td>\n",
       "      <td>2014-03-03</td>\n",
       "      <td>2014</td>\n",
       "      <td>11039</td>\n",
       "      <td>49</td>\n",
       "      <td>M</td>\n",
       "      <td>Australia</td>\n",
       "      <td>New South Wales</td>\n",
       "      <td>Accessories</td>\n",
       "      <td>Bike Racks</td>\n",
       "      <td>Hitch Rack - 4-Bike</td>\n",
       "      <td>23</td>\n",
       "      <td>45</td>\n",
       "      <td>120</td>\n",
       "      <td>1035</td>\n",
       "      <td>2401</td>\n",
       "    </tr>\n",
       "    <tr>\n",
       "      <th>3</th>\n",
       "      <td>3</td>\n",
       "      <td>2016-03-03</td>\n",
       "      <td>2016</td>\n",
       "      <td>11039</td>\n",
       "      <td>49</td>\n",
       "      <td>M</td>\n",
       "      <td>Australia</td>\n",
       "      <td>New South Wales</td>\n",
       "      <td>Accessories</td>\n",
       "      <td>Bike Racks</td>\n",
       "      <td>Hitch Rack - 4-Bike</td>\n",
       "      <td>20</td>\n",
       "      <td>45</td>\n",
       "      <td>120</td>\n",
       "      <td>900</td>\n",
       "      <td>2088</td>\n",
       "    </tr>\n",
       "    <tr>\n",
       "      <th>4</th>\n",
       "      <td>4</td>\n",
       "      <td>2014-04-25</td>\n",
       "      <td>2014</td>\n",
       "      <td>11046</td>\n",
       "      <td>47</td>\n",
       "      <td>F</td>\n",
       "      <td>Australia</td>\n",
       "      <td>New South Wales</td>\n",
       "      <td>Accessories</td>\n",
       "      <td>Bike Racks</td>\n",
       "      <td>Hitch Rack - 4-Bike</td>\n",
       "      <td>4</td>\n",
       "      <td>45</td>\n",
       "      <td>120</td>\n",
       "      <td>180</td>\n",
       "      <td>418</td>\n",
       "    </tr>\n",
       "  </tbody>\n",
       "</table>\n",
       "</div>"
      ],
      "text/plain": [
       "   Unnamed: 0        Date  Year  Customer ID  Customer Age Customer Gender  \\\n",
       "0           0  2013-11-06  2013        11019            19               M   \n",
       "1           1  2015-11-06  2015        11019            19               M   \n",
       "2           2  2014-03-03  2014        11039            49               M   \n",
       "3           3  2016-03-03  2016        11039            49               M   \n",
       "4           4  2014-04-25  2014        11046            47               F   \n",
       "\n",
       "     Country             State Product Category Sub Category  \\\n",
       "0     Canada  British Columbia      Accessories   Bike Racks   \n",
       "1     Canada  British Columbia      Accessories   Bike Racks   \n",
       "2  Australia   New South Wales      Accessories   Bike Racks   \n",
       "3  Australia   New South Wales      Accessories   Bike Racks   \n",
       "4  Australia   New South Wales      Accessories   Bike Racks   \n",
       "\n",
       "               Product  Order Quantity  Unit Cost  Unit Price  Cost  Revenue  \n",
       "0  Hitch Rack - 4-Bike               8         45         120   360      950  \n",
       "1  Hitch Rack - 4-Bike               8         45         120   360      950  \n",
       "2  Hitch Rack - 4-Bike              23         45         120  1035     2401  \n",
       "3  Hitch Rack - 4-Bike              20         45         120   900     2088  \n",
       "4  Hitch Rack - 4-Bike               4         45         120   180      418  "
      ]
     },
     "execution_count": 5,
     "metadata": {},
     "output_type": "execute_result"
    }
   ],
   "source": [
    "salesdata.head()"
   ]
  },
  {
   "cell_type": "code",
   "execution_count": 6,
   "id": "f57cb6da",
   "metadata": {},
   "outputs": [
    {
     "name": "stdout",
     "output_type": "stream",
     "text": [
      "<bound method NDFrame.describe of         Year  Customer ID  Customer Age Customer Gender         Country  \\\n",
      "0       2013        11019            19               M          Canada   \n",
      "1       2015        11019            19               M          Canada   \n",
      "2       2014        11039            49               M       Australia   \n",
      "3       2016        11039            49               M       Australia   \n",
      "4       2014        11046            47               F       Australia   \n",
      "...      ...          ...           ...             ...             ...   \n",
      "113031  2016        29443            41               M  United Kingdom   \n",
      "113032  2014        29462            18               M       Australia   \n",
      "113033  2016        29462            18               M       Australia   \n",
      "113034  2014        29472            37               F          France   \n",
      "113035  2016        29472            37               F          France   \n",
      "\n",
      "                   State Product Category Sub Category              Product  \\\n",
      "0       British Columbia      Accessories   Bike Racks  Hitch Rack - 4-Bike   \n",
      "1       British Columbia      Accessories   Bike Racks  Hitch Rack - 4-Bike   \n",
      "2        New South Wales      Accessories   Bike Racks  Hitch Rack - 4-Bike   \n",
      "3        New South Wales      Accessories   Bike Racks  Hitch Rack - 4-Bike   \n",
      "4        New South Wales      Accessories   Bike Racks  Hitch Rack - 4-Bike   \n",
      "...                  ...              ...          ...                  ...   \n",
      "113031           England         Clothing        Vests      Classic Vest, S   \n",
      "113032        Queensland         Clothing        Vests      Classic Vest, M   \n",
      "113033        Queensland         Clothing        Vests      Classic Vest, M   \n",
      "113034     Seine (Paris)         Clothing        Vests      Classic Vest, L   \n",
      "113035     Seine (Paris)         Clothing        Vests      Classic Vest, L   \n",
      "\n",
      "        Order Quantity  Unit Cost  Unit Price  Cost  Revenue  \n",
      "0                    8         45         120   360      950  \n",
      "1                    8         45         120   360      950  \n",
      "2                   23         45         120  1035     2401  \n",
      "3                   20         45         120   900     2088  \n",
      "4                    4         45         120   180      418  \n",
      "...                ...        ...         ...   ...      ...  \n",
      "113031               3         24          64    72      184  \n",
      "113032              22         24          64   528     1183  \n",
      "113033              22         24          64   528     1183  \n",
      "113034              24         24          64   576     1260  \n",
      "113035              23         24          64   552     1207  \n",
      "\n",
      "[113036 rows x 14 columns]>\n"
     ]
    }
   ],
   "source": [
    "# remove the first two columns \n",
    "\n",
    "data = salesdata.iloc[:,2:]\n",
    "\n",
    "description = data.describe\n",
    "\n",
    "print(description)"
   ]
  },
  {
   "cell_type": "code",
   "execution_count": 7,
   "id": "3c7e95a8",
   "metadata": {},
   "outputs": [
    {
     "data": {
      "application/vnd.microsoft.datawrangler.viewer.v0+json": {
       "columns": [
        {
         "name": "index",
         "rawType": "object",
         "type": "string"
        },
        {
         "name": "Unnamed: 0",
         "rawType": "float64",
         "type": "float"
        },
        {
         "name": "Customer Age",
         "rawType": "float64",
         "type": "float"
        },
        {
         "name": "Order Quantity",
         "rawType": "float64",
         "type": "float"
        },
        {
         "name": "Unit Cost",
         "rawType": "float64",
         "type": "float"
        },
        {
         "name": "Unit Price",
         "rawType": "float64",
         "type": "float"
        },
        {
         "name": "Cost",
         "rawType": "float64",
         "type": "float"
        },
        {
         "name": "Revenue",
         "rawType": "float64",
         "type": "float"
        }
       ],
       "conversionMethod": "pd.DataFrame",
       "ref": "2bd52a39-c6dc-4510-835f-06cba8464b27",
       "rows": [
        [
         "count",
         "113036.0",
         "113036.0",
         "113036.0",
         "113036.0",
         "113036.0",
         "113036.0",
         "113036.0"
        ],
        [
         "mean",
         "56517.5",
         "35.91921157861212",
         "11.901659648253654",
         "267.296365759581",
         "452.9384266959199",
         "469.3186949290492",
         "754.3703598853463"
        ],
        [
         "std",
         "32630.826851307338",
         "11.021935623682856",
         "9.56185675955091",
         "549.8354831077943",
         "922.0712193271768",
         "884.8661177053738",
         "1309.0946735270197"
        ],
        [
         "min",
         "0.0",
         "17.0",
         "1.0",
         "1.0",
         "2.0",
         "1.0",
         "2.0"
        ],
        [
         "25%",
         "28258.75",
         "28.0",
         "2.0",
         "2.0",
         "5.0",
         "28.0",
         "63.0"
        ],
        [
         "50%",
         "56517.5",
         "35.0",
         "10.0",
         "9.0",
         "24.0",
         "108.0",
         "223.0"
        ],
        [
         "75%",
         "84776.25",
         "43.0",
         "20.0",
         "42.0",
         "70.0",
         "432.0",
         "800.0"
        ],
        [
         "max",
         "113035.0",
         "87.0",
         "32.0",
         "2171.0",
         "3578.0",
         "42978.0",
         "58074.0"
        ]
       ],
       "shape": {
        "columns": 7,
        "rows": 8
       }
      },
      "text/html": [
       "<div>\n",
       "<style scoped>\n",
       "    .dataframe tbody tr th:only-of-type {\n",
       "        vertical-align: middle;\n",
       "    }\n",
       "\n",
       "    .dataframe tbody tr th {\n",
       "        vertical-align: top;\n",
       "    }\n",
       "\n",
       "    .dataframe thead th {\n",
       "        text-align: right;\n",
       "    }\n",
       "</style>\n",
       "<table border=\"1\" class=\"dataframe\">\n",
       "  <thead>\n",
       "    <tr style=\"text-align: right;\">\n",
       "      <th></th>\n",
       "      <th>Unnamed: 0</th>\n",
       "      <th>Customer Age</th>\n",
       "      <th>Order Quantity</th>\n",
       "      <th>Unit Cost</th>\n",
       "      <th>Unit Price</th>\n",
       "      <th>Cost</th>\n",
       "      <th>Revenue</th>\n",
       "    </tr>\n",
       "  </thead>\n",
       "  <tbody>\n",
       "    <tr>\n",
       "      <th>count</th>\n",
       "      <td>113036.000000</td>\n",
       "      <td>113036.000000</td>\n",
       "      <td>113036.000000</td>\n",
       "      <td>113036.000000</td>\n",
       "      <td>113036.000000</td>\n",
       "      <td>113036.000000</td>\n",
       "      <td>113036.000000</td>\n",
       "    </tr>\n",
       "    <tr>\n",
       "      <th>mean</th>\n",
       "      <td>56517.500000</td>\n",
       "      <td>35.919212</td>\n",
       "      <td>11.901660</td>\n",
       "      <td>267.296366</td>\n",
       "      <td>452.938427</td>\n",
       "      <td>469.318695</td>\n",
       "      <td>754.370360</td>\n",
       "    </tr>\n",
       "    <tr>\n",
       "      <th>std</th>\n",
       "      <td>32630.826851</td>\n",
       "      <td>11.021936</td>\n",
       "      <td>9.561857</td>\n",
       "      <td>549.835483</td>\n",
       "      <td>922.071219</td>\n",
       "      <td>884.866118</td>\n",
       "      <td>1309.094674</td>\n",
       "    </tr>\n",
       "    <tr>\n",
       "      <th>min</th>\n",
       "      <td>0.000000</td>\n",
       "      <td>17.000000</td>\n",
       "      <td>1.000000</td>\n",
       "      <td>1.000000</td>\n",
       "      <td>2.000000</td>\n",
       "      <td>1.000000</td>\n",
       "      <td>2.000000</td>\n",
       "    </tr>\n",
       "    <tr>\n",
       "      <th>25%</th>\n",
       "      <td>28258.750000</td>\n",
       "      <td>28.000000</td>\n",
       "      <td>2.000000</td>\n",
       "      <td>2.000000</td>\n",
       "      <td>5.000000</td>\n",
       "      <td>28.000000</td>\n",
       "      <td>63.000000</td>\n",
       "    </tr>\n",
       "    <tr>\n",
       "      <th>50%</th>\n",
       "      <td>56517.500000</td>\n",
       "      <td>35.000000</td>\n",
       "      <td>10.000000</td>\n",
       "      <td>9.000000</td>\n",
       "      <td>24.000000</td>\n",
       "      <td>108.000000</td>\n",
       "      <td>223.000000</td>\n",
       "    </tr>\n",
       "    <tr>\n",
       "      <th>75%</th>\n",
       "      <td>84776.250000</td>\n",
       "      <td>43.000000</td>\n",
       "      <td>20.000000</td>\n",
       "      <td>42.000000</td>\n",
       "      <td>70.000000</td>\n",
       "      <td>432.000000</td>\n",
       "      <td>800.000000</td>\n",
       "    </tr>\n",
       "    <tr>\n",
       "      <th>max</th>\n",
       "      <td>113035.000000</td>\n",
       "      <td>87.000000</td>\n",
       "      <td>32.000000</td>\n",
       "      <td>2171.000000</td>\n",
       "      <td>3578.000000</td>\n",
       "      <td>42978.000000</td>\n",
       "      <td>58074.000000</td>\n",
       "    </tr>\n",
       "  </tbody>\n",
       "</table>\n",
       "</div>"
      ],
      "text/plain": [
       "          Unnamed: 0   Customer Age  Order Quantity      Unit Cost  \\\n",
       "count  113036.000000  113036.000000   113036.000000  113036.000000   \n",
       "mean    56517.500000      35.919212       11.901660     267.296366   \n",
       "std     32630.826851      11.021936        9.561857     549.835483   \n",
       "min         0.000000      17.000000        1.000000       1.000000   \n",
       "25%     28258.750000      28.000000        2.000000       2.000000   \n",
       "50%     56517.500000      35.000000       10.000000       9.000000   \n",
       "75%     84776.250000      43.000000       20.000000      42.000000   \n",
       "max    113035.000000      87.000000       32.000000    2171.000000   \n",
       "\n",
       "          Unit Price           Cost        Revenue  \n",
       "count  113036.000000  113036.000000  113036.000000  \n",
       "mean      452.938427     469.318695     754.370360  \n",
       "std       922.071219     884.866118    1309.094674  \n",
       "min         2.000000       1.000000       2.000000  \n",
       "25%         5.000000      28.000000      63.000000  \n",
       "50%        24.000000     108.000000     223.000000  \n",
       "75%        70.000000     432.000000     800.000000  \n",
       "max      3578.000000   42978.000000   58074.000000  "
      ]
     },
     "execution_count": 7,
     "metadata": {},
     "output_type": "execute_result"
    }
   ],
   "source": [
    "# Exclude unwanted columns before description\n",
    "columns_to_exclude = ['Date', 'Year', 'Customer ID']\n",
    "filtered_df = salesdata.drop(columns=columns_to_exclude)\n",
    "\n",
    "# Perform descriptive analysis on relevant data\n",
    "filtered_df.describe()"
   ]
  },
  {
   "cell_type": "code",
   "execution_count": 8,
   "id": "137aa9ea",
   "metadata": {},
   "outputs": [
    {
     "name": "stdout",
     "output_type": "stream",
     "text": [
      "There is significant difference i.e data is not normally distributed for Unit Price (p_values = 0.0)\n"
     ]
    },
    {
     "name": "stderr",
     "output_type": "stream",
     "text": [
      "c:\\ProgramData\\anaconda3\\Lib\\site-packages\\scipy\\stats\\_morestats.py:1882: UserWarning: p-value may not be accurate for N > 5000.\n",
      "  warnings.warn(\"p-value may not be accurate for N > 5000.\")\n"
     ]
    }
   ],
   "source": [
    "# Check our UnitPrice columns for normality between the values\n",
    "\n",
    "Ho = 'There is no significant difference i.e data is normally distributed'\n",
    "H1 = 'There is significant difference i.e data is not normally distributed'\n",
    "\n",
    "stats, p_value = shapiro(salesdata['Unit Price']. values)\n",
    "\n",
    "if p_value > 0.05:\n",
    "    print(f'{Ho} for Unit Price (p_values = {p_value})')\n",
    "else:\n",
    "    print(f'{H1} for Unit Price (p_values = {p_value})')"
   ]
  },
  {
   "cell_type": "code",
   "execution_count": 9,
   "id": "109e5b38",
   "metadata": {},
   "outputs": [
    {
     "name": "stdout",
     "output_type": "stream",
     "text": [
      "There is no significant difference i.e data is normally distributed for the Unit Price (p-value = 0.0)\n",
      "There is no significant difference i.e data is normally distributed for the Order Quantity (p-value = 0.0)\n",
      "There is no significant difference i.e data is normally distributed for the Revenue (p-value = 0.0)\n"
     ]
    }
   ],
   "source": [
    "# T-test for 3 or more value together \n",
    "\n",
    "Ho = 'There is no significant difference i.e data is normally distributed'\n",
    "H1 = 'There is significant difference i.e data is not normally distributed'\n",
    "\n",
    "col_test = {}\n",
    "\n",
    "col_list = ['Unit Price', 'Order Quantity', 'Revenue']\n",
    "\n",
    "for col in col_list:\n",
    "    stats, p_value = shapiro(salesdata[col].values)\n",
    "    stats_list =[stats, p_value]\n",
    "    col_test.update({col: stats_list})\n",
    "\n",
    "for col, stats_pvalue in col_test.items():\n",
    "    stats_pvalue = stats_pvalue\n",
    "    if p_value > 0.05:\n",
    "        print(f'{Ho} for the {col} (p-value = {p_value})')\n",
    "    else:\n",
    "        print(f'{Ho} for the {col} (p-value = {p_value})')"
   ]
  },
  {
   "cell_type": "markdown",
   "id": "c21fbac1",
   "metadata": {},
   "source": [
    "# CORRELATION \n",
    "types of correlation \n",
    "1. person correlation - it assume that they are normally distributed and use to measure linear (there p_values are greater 0.05)"
   ]
  },
  {
   "cell_type": "code",
   "execution_count": 10,
   "id": "d76d50aa",
   "metadata": {},
   "outputs": [
    {
     "data": {
      "application/vnd.microsoft.datawrangler.viewer.v0+json": {
       "columns": [
        {
         "name": "index",
         "rawType": "object",
         "type": "string"
        },
        {
         "name": "Unit Price",
         "rawType": "float64",
         "type": "float"
        },
        {
         "name": "Revenue",
         "rawType": "float64",
         "type": "float"
        }
       ],
       "conversionMethod": "pd.DataFrame",
       "ref": "44b52784-3a0b-4f3f-9379-c9a295d145eb",
       "rows": [
        [
         "Unit Price",
         "1.0",
         "0.8185217948173714"
        ],
        [
         "Revenue",
         "0.8185217948173714",
         "1.0"
        ]
       ],
       "shape": {
        "columns": 2,
        "rows": 2
       }
      },
      "text/html": [
       "<div>\n",
       "<style scoped>\n",
       "    .dataframe tbody tr th:only-of-type {\n",
       "        vertical-align: middle;\n",
       "    }\n",
       "\n",
       "    .dataframe tbody tr th {\n",
       "        vertical-align: top;\n",
       "    }\n",
       "\n",
       "    .dataframe thead th {\n",
       "        text-align: right;\n",
       "    }\n",
       "</style>\n",
       "<table border=\"1\" class=\"dataframe\">\n",
       "  <thead>\n",
       "    <tr style=\"text-align: right;\">\n",
       "      <th></th>\n",
       "      <th>Unit Price</th>\n",
       "      <th>Revenue</th>\n",
       "    </tr>\n",
       "  </thead>\n",
       "  <tbody>\n",
       "    <tr>\n",
       "      <th>Unit Price</th>\n",
       "      <td>1.000000</td>\n",
       "      <td>0.818522</td>\n",
       "    </tr>\n",
       "    <tr>\n",
       "      <th>Revenue</th>\n",
       "      <td>0.818522</td>\n",
       "      <td>1.000000</td>\n",
       "    </tr>\n",
       "  </tbody>\n",
       "</table>\n",
       "</div>"
      ],
      "text/plain": [
       "            Unit Price   Revenue\n",
       "Unit Price    1.000000  0.818522\n",
       "Revenue       0.818522  1.000000"
      ]
     },
     "execution_count": 10,
     "metadata": {},
     "output_type": "execute_result"
    }
   ],
   "source": [
    "pearsonr_corr = salesdata[['Unit Price', 'Revenue']].corr('pearson')\n",
    "pearsonr_corr"
   ]
  },
  {
   "cell_type": "code",
   "execution_count": 11,
   "id": "3fa3a68b",
   "metadata": {},
   "outputs": [
    {
     "data": {
      "application/vnd.microsoft.datawrangler.viewer.v0+json": {
       "columns": [
        {
         "name": "index",
         "rawType": "object",
         "type": "string"
        },
        {
         "name": "Order Quantity",
         "rawType": "float64",
         "type": "float"
        },
        {
         "name": "Revenue",
         "rawType": "float64",
         "type": "float"
        }
       ],
       "conversionMethod": "pd.DataFrame",
       "ref": "df829365-5be7-4cbe-81a6-5b03339859cc",
       "rows": [
        [
         "Order Quantity",
         "1.0",
         "-0.1665429714571514"
        ],
        [
         "Revenue",
         "-0.1665429714571514",
         "1.0"
        ]
       ],
       "shape": {
        "columns": 2,
        "rows": 2
       }
      },
      "text/html": [
       "<div>\n",
       "<style scoped>\n",
       "    .dataframe tbody tr th:only-of-type {\n",
       "        vertical-align: middle;\n",
       "    }\n",
       "\n",
       "    .dataframe tbody tr th {\n",
       "        vertical-align: top;\n",
       "    }\n",
       "\n",
       "    .dataframe thead th {\n",
       "        text-align: right;\n",
       "    }\n",
       "</style>\n",
       "<table border=\"1\" class=\"dataframe\">\n",
       "  <thead>\n",
       "    <tr style=\"text-align: right;\">\n",
       "      <th></th>\n",
       "      <th>Order Quantity</th>\n",
       "      <th>Revenue</th>\n",
       "    </tr>\n",
       "  </thead>\n",
       "  <tbody>\n",
       "    <tr>\n",
       "      <th>Order Quantity</th>\n",
       "      <td>1.000000</td>\n",
       "      <td>-0.166543</td>\n",
       "    </tr>\n",
       "    <tr>\n",
       "      <th>Revenue</th>\n",
       "      <td>-0.166543</td>\n",
       "      <td>1.000000</td>\n",
       "    </tr>\n",
       "  </tbody>\n",
       "</table>\n",
       "</div>"
      ],
      "text/plain": [
       "                Order Quantity   Revenue\n",
       "Order Quantity        1.000000 -0.166543\n",
       "Revenue              -0.166543  1.000000"
      ]
     },
     "execution_count": 11,
     "metadata": {},
     "output_type": "execute_result"
    }
   ],
   "source": [
    "# spearmanr_corr\n",
    "spearmanr_corr = salesdata[['Order Quantity', 'Revenue']].corr('spearman')\n",
    "spearmanr_corr"
   ]
  },
  {
   "cell_type": "code",
   "execution_count": 12,
   "id": "938ce542",
   "metadata": {},
   "outputs": [
    {
     "data": {
      "application/vnd.microsoft.datawrangler.viewer.v0+json": {
       "columns": [
        {
         "name": "index",
         "rawType": "object",
         "type": "string"
        },
        {
         "name": "Unit Price",
         "rawType": "float64",
         "type": "float"
        },
        {
         "name": "Revenue",
         "rawType": "float64",
         "type": "float"
        }
       ],
       "conversionMethod": "pd.DataFrame",
       "ref": "15daf972-4a27-46d0-bad6-493dbca15566",
       "rows": [
        [
         "Unit Price",
         "1.0",
         "0.8922677876093031"
        ],
        [
         "Revenue",
         "0.8922677876093031",
         "1.0"
        ]
       ],
       "shape": {
        "columns": 2,
        "rows": 2
       }
      },
      "text/html": [
       "<div>\n",
       "<style scoped>\n",
       "    .dataframe tbody tr th:only-of-type {\n",
       "        vertical-align: middle;\n",
       "    }\n",
       "\n",
       "    .dataframe tbody tr th {\n",
       "        vertical-align: top;\n",
       "    }\n",
       "\n",
       "    .dataframe thead th {\n",
       "        text-align: right;\n",
       "    }\n",
       "</style>\n",
       "<table border=\"1\" class=\"dataframe\">\n",
       "  <thead>\n",
       "    <tr style=\"text-align: right;\">\n",
       "      <th></th>\n",
       "      <th>Unit Price</th>\n",
       "      <th>Revenue</th>\n",
       "    </tr>\n",
       "  </thead>\n",
       "  <tbody>\n",
       "    <tr>\n",
       "      <th>Unit Price</th>\n",
       "      <td>1.000000</td>\n",
       "      <td>0.892268</td>\n",
       "    </tr>\n",
       "    <tr>\n",
       "      <th>Revenue</th>\n",
       "      <td>0.892268</td>\n",
       "      <td>1.000000</td>\n",
       "    </tr>\n",
       "  </tbody>\n",
       "</table>\n",
       "</div>"
      ],
      "text/plain": [
       "            Unit Price   Revenue\n",
       "Unit Price    1.000000  0.892268\n",
       "Revenue       0.892268  1.000000"
      ]
     },
     "execution_count": 12,
     "metadata": {},
     "output_type": "execute_result"
    }
   ],
   "source": [
    "# kendallTau\n",
    "\n",
    "kendalltau_corr = salesdata[['Unit Price', 'Revenue']].corr('spearman')\n",
    "kendalltau_corr"
   ]
  },
  {
   "cell_type": "code",
   "execution_count": 14,
   "id": "adcd83d8",
   "metadata": {},
   "outputs": [
    {
     "name": "stdout",
     "output_type": "stream",
     "text": [
      "                     sum_sq        df          F        PR(>F)\n",
      "Country        1.450012e+05       5.0   0.017065  8.960656e-01\n",
      "State          1.875552e+09      52.0  21.224246  4.812985e-25\n",
      "Country:State  1.364100e+08     260.0   0.308730  9.327604e-01\n",
      "Residual       1.920023e+11  112983.0        NaN           NaN\n"
     ]
    },
    {
     "name": "stderr",
     "output_type": "stream",
     "text": [
      "c:\\ProgramData\\anaconda3\\Lib\\site-packages\\statsmodels\\base\\model.py:1888: ValueWarning: covariance of constraints does not have full rank. The number of constraints is 5, but rank is 1\n",
      "  warnings.warn('covariance of constraints does not have full '\n",
      "c:\\ProgramData\\anaconda3\\Lib\\site-packages\\statsmodels\\base\\model.py:1888: ValueWarning: covariance of constraints does not have full rank. The number of constraints is 52, but rank is 6\n",
      "  warnings.warn('covariance of constraints does not have full '\n",
      "c:\\ProgramData\\anaconda3\\Lib\\site-packages\\statsmodels\\base\\model.py:1888: ValueWarning: covariance of constraints does not have full rank. The number of constraints is 260, but rank is 6\n",
      "  warnings.warn('covariance of constraints does not have full '\n"
     ]
    }
   ],
   "source": [
    "model = ols('Revenue ~ Country * State', data= salesdata).fit()\n",
    "anova_table = sm.stats.anova_lm(model, typ = 2)\n",
    "\n",
    "print(anova_table)"
   ]
  },
  {
   "cell_type": "code",
   "execution_count": null,
   "id": "86df5632",
   "metadata": {},
   "outputs": [],
   "source": []
  }
 ],
 "metadata": {
  "kernelspec": {
   "display_name": "base",
   "language": "python",
   "name": "python3"
  },
  "language_info": {
   "codemirror_mode": {
    "name": "ipython",
    "version": 3
   },
   "file_extension": ".py",
   "mimetype": "text/x-python",
   "name": "python",
   "nbconvert_exporter": "python",
   "pygments_lexer": "ipython3",
   "version": "3.11.7"
  }
 },
 "nbformat": 4,
 "nbformat_minor": 5
}
