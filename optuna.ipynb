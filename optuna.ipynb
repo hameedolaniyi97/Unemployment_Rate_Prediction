{
 "cells": [
  {
   "cell_type": "code",
   "execution_count": 5,
   "id": "42a7c687",
   "metadata": {},
   "outputs": [
    {
     "name": "stderr",
     "output_type": "stream",
     "text": [
      "[I 2025-06-03 16:24:08,071] A new study created in memory with name: no-name-907996b2-7a54-47fb-af86-ba6c34eee627\n",
      "C:\\Users\\USER\\AppData\\Roaming\\Python\\Python311\\site-packages\\sklearn\\model_selection\\_validation.py:978: UserWarning:\n",
      "\n",
      "Scoring failed. The score on this train-test partition for these parameters will be set to nan. Details: \n",
      "Traceback (most recent call last):\n",
      "  File \"C:\\Users\\USER\\AppData\\Roaming\\Python\\Python311\\site-packages\\sklearn\\metrics\\_scorer.py\", line 140, in __call__\n",
      "    score = scorer._score(\n",
      "            ^^^^^^^^^^^^^^\n",
      "  File \"C:\\Users\\USER\\AppData\\Roaming\\Python\\Python311\\site-packages\\sklearn\\metrics\\_scorer.py\", line 388, in _score\n",
      "    return self._sign * self._score_func(y_true, y_pred, **scoring_kwargs)\n",
      "                        ^^^^^^^^^^^^^^^^^^^^^^^^^^^^^^^^^^^^^^^^^^^^^^^^^^\n",
      "  File \"C:\\Users\\USER\\AppData\\Local\\Temp\\ipykernel_6636\\3857348816.py\", line 16, in neg_mse\n",
      "    return neg_mean_squared_error(y_true, y_pred)\n",
      "           ^^^^^^^^^^^^^^^^^^^^^^\n",
      "NameError: name 'neg_mean_squared_error' is not defined\n",
      "\n",
      "\n",
      "[W 2025-06-03 16:24:12,256] Trial 0 failed with parameters: {'n_estimators': 133, 'max_depth': 17, 'learning_rate': 0.05457071204118426, 'subsample': 0.735907578165131, 'colsample_bytree': 0.9348438212121617} because of the following error: The value nan is not acceptable.\n",
      "[W 2025-06-03 16:24:12,272] Trial 0 failed with value nan.\n",
      "[W 2025-06-03 16:24:15,204] Trial 1 failed with parameters: {'n_estimators': 331, 'max_depth': 9, 'learning_rate': 0.2426532360449813, 'subsample': 0.6249412172255271, 'colsample_bytree': 0.8202482587028381} because of the following error: The value nan is not acceptable.\n",
      "[W 2025-06-03 16:24:15,204] Trial 1 failed with value nan.\n",
      "[W 2025-06-03 16:24:15,602] Trial 2 failed with parameters: {'n_estimators': 132, 'max_depth': 3, 'learning_rate': 0.2755823358285968, 'subsample': 0.5271032286158343, 'colsample_bytree': 0.5203938962234218} because of the following error: The value nan is not acceptable.\n",
      "[W 2025-06-03 16:24:15,602] Trial 2 failed with value nan.\n",
      "[W 2025-06-03 16:24:20,390] Trial 3 failed with parameters: {'n_estimators': 149, 'max_depth': 14, 'learning_rate': 0.05535364186010967, 'subsample': 0.8711203294033645, 'colsample_bytree': 0.7637432120053962} because of the following error: The value nan is not acceptable.\n",
      "[W 2025-06-03 16:24:20,390] Trial 3 failed with value nan.\n",
      "[W 2025-06-03 16:24:27,987] Trial 4 failed with parameters: {'n_estimators': 299, 'max_depth': 13, 'learning_rate': 0.03612705983826555, 'subsample': 0.8758411569463062, 'colsample_bytree': 0.9664158252282509} because of the following error: The value nan is not acceptable.\n",
      "[W 2025-06-03 16:24:27,988] Trial 4 failed with value nan.\n",
      "[W 2025-06-03 16:24:29,987] Trial 5 failed with parameters: {'n_estimators': 157, 'max_depth': 13, 'learning_rate': 0.2817680024924038, 'subsample': 0.6725609519276052, 'colsample_bytree': 0.7545699125096281} because of the following error: The value nan is not acceptable.\n",
      "[W 2025-06-03 16:24:29,987] Trial 5 failed with value nan.\n",
      "[W 2025-06-03 16:24:31,337] Trial 6 failed with parameters: {'n_estimators': 183, 'max_depth': 8, 'learning_rate': 0.2968785775066275, 'subsample': 0.7277416246199103, 'colsample_bytree': 0.8434276659738189} because of the following error: The value nan is not acceptable.\n",
      "[W 2025-06-03 16:24:31,337] Trial 6 failed with value nan.\n",
      "[W 2025-06-03 16:24:35,788] Trial 7 failed with parameters: {'n_estimators': 479, 'max_depth': 10, 'learning_rate': 0.02444557685040908, 'subsample': 0.5056581357890299, 'colsample_bytree': 0.5373970735695184} because of the following error: The value nan is not acceptable.\n",
      "[W 2025-06-03 16:24:35,788] Trial 7 failed with value nan.\n",
      "[W 2025-06-03 16:24:39,115] Trial 8 failed with parameters: {'n_estimators': 178, 'max_depth': 13, 'learning_rate': 0.046399278997543966, 'subsample': 0.8148536184723583, 'colsample_bytree': 0.8522944600365794} because of the following error: The value nan is not acceptable.\n",
      "[W 2025-06-03 16:24:39,115] Trial 8 failed with value nan.\n",
      "[W 2025-06-03 16:24:45,684] Trial 9 failed with parameters: {'n_estimators': 428, 'max_depth': 19, 'learning_rate': 0.05002954622945644, 'subsample': 0.5778100163998761, 'colsample_bytree': 0.519883842045701} because of the following error: The value nan is not acceptable.\n",
      "[W 2025-06-03 16:24:45,685] Trial 9 failed with value nan.\n",
      "[W 2025-06-03 16:24:49,041] Trial 10 failed with parameters: {'n_estimators': 361, 'max_depth': 15, 'learning_rate': 0.20746310511972957, 'subsample': 0.662735745914941, 'colsample_bytree': 0.8136168551367531} because of the following error: The value nan is not acceptable.\n",
      "[W 2025-06-03 16:24:49,043] Trial 10 failed with value nan.\n",
      "[W 2025-06-03 16:24:56,961] Trial 11 failed with parameters: {'n_estimators': 424, 'max_depth': 20, 'learning_rate': 0.05469201449522161, 'subsample': 0.5646766343941512, 'colsample_bytree': 0.8640088913107851} because of the following error: The value nan is not acceptable.\n",
      "[W 2025-06-03 16:24:56,961] Trial 11 failed with value nan.\n",
      "[W 2025-06-03 16:24:58,896] Trial 12 failed with parameters: {'n_estimators': 194, 'max_depth': 9, 'learning_rate': 0.21090747224471118, 'subsample': 0.8737522106682285, 'colsample_bytree': 0.9544906139466194} because of the following error: The value nan is not acceptable.\n",
      "[W 2025-06-03 16:24:58,898] Trial 12 failed with value nan.\n",
      "[W 2025-06-03 16:25:00,665] Trial 13 failed with parameters: {'n_estimators': 236, 'max_depth': 7, 'learning_rate': 0.15499837271273764, 'subsample': 0.54177225392018, 'colsample_bytree': 0.6262714414163428} because of the following error: The value nan is not acceptable.\n",
      "[W 2025-06-03 16:25:00,665] Trial 13 failed with value nan.\n",
      "[W 2025-06-03 16:25:03,162] Trial 14 failed with parameters: {'n_estimators': 233, 'max_depth': 17, 'learning_rate': 0.2806152118986671, 'subsample': 0.8305329642586528, 'colsample_bytree': 0.834447319203282} because of the following error: The value nan is not acceptable.\n",
      "[W 2025-06-03 16:25:03,162] Trial 14 failed with value nan.\n",
      "[W 2025-06-03 16:25:03,627] Trial 15 failed with parameters: {'n_estimators': 158, 'max_depth': 3, 'learning_rate': 0.01621543629003796, 'subsample': 0.5665838209840901, 'colsample_bytree': 0.6567276798177187} because of the following error: The value nan is not acceptable.\n",
      "[W 2025-06-03 16:25:03,627] Trial 15 failed with value nan.\n",
      "[W 2025-06-03 16:25:05,348] Trial 16 failed with parameters: {'n_estimators': 235, 'max_depth': 12, 'learning_rate': 0.27330621344409756, 'subsample': 0.8847603251026537, 'colsample_bytree': 0.5805063560355928} because of the following error: The value nan is not acceptable.\n",
      "[W 2025-06-03 16:25:05,348] Trial 16 failed with value nan.\n",
      "[W 2025-06-03 16:25:09,277] Trial 17 failed with parameters: {'n_estimators': 497, 'max_depth': 16, 'learning_rate': 0.17454754233099215, 'subsample': 0.8442559545157668, 'colsample_bytree': 0.8380484969280422} because of the following error: The value nan is not acceptable.\n",
      "[W 2025-06-03 16:25:09,277] Trial 17 failed with value nan.\n",
      "[W 2025-06-03 16:25:13,894] Trial 18 failed with parameters: {'n_estimators': 163, 'max_depth': 18, 'learning_rate': 0.06156684142111444, 'subsample': 0.9064377580623559, 'colsample_bytree': 0.595174300661573} because of the following error: The value nan is not acceptable.\n",
      "[W 2025-06-03 16:25:13,894] Trial 18 failed with value nan.\n",
      "[W 2025-06-03 16:25:15,478] Trial 19 failed with parameters: {'n_estimators': 62, 'max_depth': 15, 'learning_rate': 0.02198635186158373, 'subsample': 0.8994381538895713, 'colsample_bytree': 0.840794567376657} because of the following error: The value nan is not acceptable.\n",
      "[W 2025-06-03 16:25:15,495] Trial 19 failed with value nan.\n",
      "[W 2025-06-03 16:25:18,544] Trial 20 failed with parameters: {'n_estimators': 331, 'max_depth': 7, 'learning_rate': 0.10597184930696041, 'subsample': 0.9621640893777946, 'colsample_bytree': 0.7092485908906556} because of the following error: The value nan is not acceptable.\n",
      "[W 2025-06-03 16:25:18,546] Trial 20 failed with value nan.\n",
      "[W 2025-06-03 16:25:22,486] Trial 21 failed with parameters: {'n_estimators': 371, 'max_depth': 13, 'learning_rate': 0.15768887884000857, 'subsample': 0.740890380138287, 'colsample_bytree': 0.9529115036798409} because of the following error: The value nan is not acceptable.\n",
      "[W 2025-06-03 16:25:22,487] Trial 21 failed with value nan.\n",
      "[W 2025-06-03 16:25:26,206] Trial 22 failed with parameters: {'n_estimators': 494, 'max_depth': 17, 'learning_rate': 0.19497306430105976, 'subsample': 0.8192753665076234, 'colsample_bytree': 0.7925935710851801} because of the following error: The value nan is not acceptable.\n",
      "[W 2025-06-03 16:25:26,206] Trial 22 failed with value nan.\n",
      "[W 2025-06-03 16:25:31,705] Trial 23 failed with parameters: {'n_estimators': 312, 'max_depth': 11, 'learning_rate': 0.05267450348992427, 'subsample': 0.790855134761703, 'colsample_bytree': 0.9371166477836981} because of the following error: The value nan is not acceptable.\n",
      "[W 2025-06-03 16:25:31,705] Trial 23 failed with value nan.\n",
      "[W 2025-06-03 16:25:37,137] Trial 24 failed with parameters: {'n_estimators': 248, 'max_depth': 17, 'learning_rate': 0.021787947854250533, 'subsample': 0.7699839056277045, 'colsample_bytree': 0.7743388614096498} because of the following error: The value nan is not acceptable.\n",
      "[W 2025-06-03 16:25:37,137] Trial 24 failed with value nan.\n",
      "[W 2025-06-03 16:25:39,336] Trial 25 failed with parameters: {'n_estimators': 279, 'max_depth': 7, 'learning_rate': 0.13313498475863403, 'subsample': 0.5798284488806653, 'colsample_bytree': 0.8605910982504559} because of the following error: The value nan is not acceptable.\n",
      "[W 2025-06-03 16:25:39,336] Trial 25 failed with value nan.\n",
      "[W 2025-06-03 16:25:43,536] Trial 26 failed with parameters: {'n_estimators': 323, 'max_depth': 9, 'learning_rate': 0.06497116653777792, 'subsample': 0.9539578146138665, 'colsample_bytree': 0.7428505318803592} because of the following error: The value nan is not acceptable.\n",
      "[W 2025-06-03 16:25:43,536] Trial 26 failed with value nan.\n",
      "[W 2025-06-03 16:25:45,435] Trial 27 failed with parameters: {'n_estimators': 454, 'max_depth': 5, 'learning_rate': 0.21391754342660055, 'subsample': 0.922609892194354, 'colsample_bytree': 0.8794905000302997} because of the following error: The value nan is not acceptable.\n",
      "[W 2025-06-03 16:25:45,435] Trial 27 failed with value nan.\n",
      "[W 2025-06-03 16:25:54,600] Trial 28 failed with parameters: {'n_estimators': 433, 'max_depth': 15, 'learning_rate': 0.027392569603801036, 'subsample': 0.8705480061896236, 'colsample_bytree': 0.6961946578612541} because of the following error: The value nan is not acceptable.\n",
      "[W 2025-06-03 16:25:54,600] Trial 28 failed with value nan.\n",
      "[W 2025-06-03 16:25:56,733] Trial 29 failed with parameters: {'n_estimators': 435, 'max_depth': 6, 'learning_rate': 0.17522421027207213, 'subsample': 0.757835884489237, 'colsample_bytree': 0.5232686342231749} because of the following error: The value nan is not acceptable.\n",
      "[W 2025-06-03 16:25:56,733] Trial 29 failed with value nan.\n",
      "[W 2025-06-03 16:25:59,338] Trial 30 failed with parameters: {'n_estimators': 112, 'max_depth': 15, 'learning_rate': 0.1917545968811773, 'subsample': 0.8603621779621419, 'colsample_bytree': 0.6646627477463969} because of the following error: The value nan is not acceptable.\n",
      "[W 2025-06-03 16:25:59,338] Trial 30 failed with value nan.\n",
      "[W 2025-06-03 16:26:05,999] Trial 31 failed with parameters: {'n_estimators': 226, 'max_depth': 20, 'learning_rate': 0.03558934392649277, 'subsample': 0.9467514877223667, 'colsample_bytree': 0.563365382903994} because of the following error: The value nan is not acceptable.\n",
      "[W 2025-06-03 16:26:06,001] Trial 31 failed with value nan.\n",
      "[W 2025-06-03 16:26:08,764] Trial 32 failed with parameters: {'n_estimators': 460, 'max_depth': 11, 'learning_rate': 0.29769293299029725, 'subsample': 0.5194728529484245, 'colsample_bytree': 0.5225720244594421} because of the following error: The value nan is not acceptable.\n",
      "[W 2025-06-03 16:26:08,764] Trial 32 failed with value nan.\n",
      "[W 2025-06-03 16:26:12,763] Trial 33 failed with parameters: {'n_estimators': 352, 'max_depth': 9, 'learning_rate': 0.07887614968831086, 'subsample': 0.50990325981553, 'colsample_bytree': 0.938414247591435} because of the following error: The value nan is not acceptable.\n",
      "[W 2025-06-03 16:26:12,763] Trial 33 failed with value nan.\n",
      "[W 2025-06-03 16:26:13,402] Trial 34 failed with parameters: {'n_estimators': 187, 'max_depth': 4, 'learning_rate': 0.19467026334869444, 'subsample': 0.6089736796505929, 'colsample_bytree': 0.500623622222309} because of the following error: The value nan is not acceptable.\n",
      "[W 2025-06-03 16:26:13,402] Trial 34 failed with value nan.\n",
      "[W 2025-06-03 16:26:15,130] Trial 35 failed with parameters: {'n_estimators': 62, 'max_depth': 15, 'learning_rate': 0.0486897563040683, 'subsample': 0.8152954460997692, 'colsample_bytree': 0.8027844673703594} because of the following error: The value nan is not acceptable.\n",
      "[W 2025-06-03 16:26:15,130] Trial 35 failed with value nan.\n",
      "[W 2025-06-03 16:26:17,613] Trial 36 failed with parameters: {'n_estimators': 497, 'max_depth': 7, 'learning_rate': 0.22525920158097223, 'subsample': 0.5145313730575997, 'colsample_bytree': 0.8833773252654247} because of the following error: The value nan is not acceptable.\n",
      "[W 2025-06-03 16:26:17,628] Trial 36 failed with value nan.\n",
      "[W 2025-06-03 16:26:18,679] Trial 37 failed with parameters: {'n_estimators': 161, 'max_depth': 6, 'learning_rate': 0.2397983440914272, 'subsample': 0.9372773948502233, 'colsample_bytree': 0.9894914379285116} because of the following error: The value nan is not acceptable.\n",
      "[W 2025-06-03 16:26:18,694] Trial 37 failed with value nan.\n",
      "[W 2025-06-03 16:26:21,545] Trial 38 failed with parameters: {'n_estimators': 122, 'max_depth': 17, 'learning_rate': 0.04835274342506397, 'subsample': 0.7409263577132663, 'colsample_bytree': 0.9892440450881221} because of the following error: The value nan is not acceptable.\n",
      "[W 2025-06-03 16:26:21,545] Trial 38 failed with value nan.\n",
      "[W 2025-06-03 16:26:25,495] Trial 39 failed with parameters: {'n_estimators': 148, 'max_depth': 16, 'learning_rate': 0.11299640413219147, 'subsample': 0.9341887797017021, 'colsample_bytree': 0.8694818801681603} because of the following error: The value nan is not acceptable.\n",
      "[W 2025-06-03 16:26:25,495] Trial 39 failed with value nan.\n",
      "[W 2025-06-03 16:26:28,294] Trial 40 failed with parameters: {'n_estimators': 329, 'max_depth': 14, 'learning_rate': 0.22603459793097438, 'subsample': 0.6920824810925781, 'colsample_bytree': 0.636294133628263} because of the following error: The value nan is not acceptable.\n",
      "[W 2025-06-03 16:26:28,294] Trial 40 failed with value nan.\n",
      "[W 2025-06-03 16:26:31,310] Trial 41 failed with parameters: {'n_estimators': 418, 'max_depth': 20, 'learning_rate': 0.273213755696649, 'subsample': 0.5884961990559641, 'colsample_bytree': 0.5088055759856926} because of the following error: The value nan is not acceptable.\n",
      "[W 2025-06-03 16:26:31,310] Trial 41 failed with value nan.\n",
      "[W 2025-06-03 16:26:36,444] Trial 42 failed with parameters: {'n_estimators': 392, 'max_depth': 11, 'learning_rate': 0.08113690645765126, 'subsample': 0.7571136458923685, 'colsample_bytree': 0.6359735299030045} because of the following error: The value nan is not acceptable.\n",
      "[W 2025-06-03 16:26:36,446] Trial 42 failed with value nan.\n",
      "[W 2025-06-03 16:26:41,024] Trial 43 failed with parameters: {'n_estimators': 303, 'max_depth': 11, 'learning_rate': 0.03768885103154225, 'subsample': 0.7823146318406029, 'colsample_bytree': 0.7409281467557389} because of the following error: The value nan is not acceptable.\n",
      "[W 2025-06-03 16:26:41,024] Trial 43 failed with value nan.\n",
      "[W 2025-06-03 16:26:43,674] Trial 44 failed with parameters: {'n_estimators': 184, 'max_depth': 11, 'learning_rate': 0.0716872676580316, 'subsample': 0.7802740734064619, 'colsample_bytree': 0.5286862586233021} because of the following error: The value nan is not acceptable.\n",
      "[W 2025-06-03 16:26:43,674] Trial 44 failed with value nan.\n",
      "[W 2025-06-03 16:26:46,441] Trial 45 failed with parameters: {'n_estimators': 195, 'max_depth': 10, 'learning_rate': 0.04949554362073624, 'subsample': 0.8296917977374291, 'colsample_bytree': 0.8768471981010233} because of the following error: The value nan is not acceptable.\n",
      "[W 2025-06-03 16:26:46,441] Trial 45 failed with value nan.\n",
      "[W 2025-06-03 16:26:47,978] Trial 46 failed with parameters: {'n_estimators': 345, 'max_depth': 5, 'learning_rate': 0.2202463874043869, 'subsample': 0.8122008209468983, 'colsample_bytree': 0.7633044132465885} because of the following error: The value nan is not acceptable.\n",
      "[W 2025-06-03 16:26:47,978] Trial 46 failed with value nan.\n",
      "[W 2025-06-03 16:26:48,507] Trial 47 failed with parameters: {'n_estimators': 270, 'max_depth': 2, 'learning_rate': 0.01639169422400083, 'subsample': 0.7737642926288795, 'colsample_bytree': 0.8349221774678122} because of the following error: The value nan is not acceptable.\n",
      "[W 2025-06-03 16:26:48,507] Trial 47 failed with value nan.\n",
      "[W 2025-06-03 16:26:53,105] Trial 48 failed with parameters: {'n_estimators': 258, 'max_depth': 19, 'learning_rate': 0.1192617713363498, 'subsample': 0.5045822277705816, 'colsample_bytree': 0.8343333948299562} because of the following error: The value nan is not acceptable.\n",
      "[W 2025-06-03 16:26:53,121] Trial 48 failed with value nan.\n",
      "[W 2025-06-03 16:26:54,673] Trial 49 failed with parameters: {'n_estimators': 113, 'max_depth': 9, 'learning_rate': 0.037299147663124116, 'subsample': 0.8892398738658259, 'colsample_bytree': 0.5712630239184096} because of the following error: The value nan is not acceptable.\n",
      "[W 2025-06-03 16:26:54,673] Trial 49 failed with value nan.\n"
     ]
    }
   ],
   "source": [
    "import optuna\n",
    "from sklearn.datasets import load_diabetes\n",
    "from sklearn.model_selection import cross_val_score\n",
    "from sklearn.model_selection import KFold\n",
    "import xgboost as xgb\n",
    "from sklearn.metrics import make_scorer, mean_squared_error\n",
    "import numpy as np\n",
    "\n",
    "# Load data\n",
    "data = load_diabetes()\n",
    "X = data.data\n",
    "y = data.target\n",
    "\n",
    "# Define a custom scorer to use with cross_val_score (neg MSE)\n",
    "def neg_mse(y_true, y_pred):\n",
    "    return -mean_squared_error(y_true, y_pred)\n",
    "\n",
    "mse_scorer = make_scorer(neg_mse, greater_is_better=True)\n",
    "\n",
    "def objective(trial):\n",
    "    # Suggest hyperparameters\n",
    "    n_estimators = trial.suggest_int('n_estimators', 20, 500)\n",
    "    max_depth = trial.suggest_int('max_depth', 2, 20)\n",
    "    learning_rate = trial.suggest_float('learning_rate', 0.01, 0.3)\n",
    "    subsample = trial.suggest_float('subsample', 0.5, 1.0)\n",
    "    colsample_bytree = trial.suggest_float('colsample_bytree', 0.5, 1.0)\n",
    "    \n",
    "    # Create the model\n",
    "    model = xgb.XGBRegressor(\n",
    "        n_estimators=n_estimators,\n",
    "        max_depth=max_depth,\n",
    "        learning_rate=learning_rate,\n",
    "        subsample=subsample,\n",
    "        colsample_bytree=colsample_bytree,\n",
    "        objective='reg:squarederror',\n",
    "        random_state=42,\n",
    "        verbosity=0\n",
    "    )\n",
    "    \n",
    "    # 5-fold cross-validation, scoring by negative MSE\n",
    "    score = -cross_val_score(model, X, y, cv=5, scoring=mse_scorer).mean()\n",
    "    \n",
    "    return score  # Optuna maximizes score, so we use negative MSE\n",
    "\n",
    "# Create study and optimize\n",
    "study = optuna.create_study(direction='maximize')\n",
    "study.optimize(objective, n_trials=50)\n"
   ]
  },
  {
   "cell_type": "code",
   "execution_count": null,
   "id": "032d9a4d",
   "metadata": {},
   "outputs": [
    {
     "data": {
      "text/plain": [
       "-3102.2437861038825"
      ]
     },
     "execution_count": 3,
     "metadata": {},
     "output_type": "execute_result"
    }
   ],
   "source": [
    "study.best_value"
   ]
  },
  {
   "cell_type": "code",
   "execution_count": 4,
   "id": "3e84c605",
   "metadata": {},
   "outputs": [
    {
     "data": {
      "application/vnd.plotly.v1+json": {
       "config": {
        "plotlyServerURL": "https://plot.ly"
       },
       "data": [
        {
         "dimensions": [
          {
           "label": "Objective Value",
           "range": [
            -4124.691382480328,
            -3102.2437861038825
           ],
           "values": [
            -3722.301188436487,
            -3453.3887708034526,
            -3682.881351118381,
            -3591.914156496804,
            -3402.101569704765,
            -4076.6019750683517,
            -3757.884941853759,
            -3744.6495444461116,
            -4019.033023416534,
            -3838.3080971564004,
            -3303.065472933557,
            -3312.131694157875,
            -3381.8174947746747,
            -3672.0021769229875,
            -3472.976632653649,
            -3436.670004502379,
            -3666.3726928544324,
            -3980.669189859835,
            -3825.205666083093,
            -3177.557223310412,
            -3191.9452894542214,
            -3217.844913208221,
            -3518.780648492616,
            -3220.867727655653,
            -3797.368428822921,
            -3182.6206508234304,
            -3750.1774886242797,
            -3226.0178384782075,
            -3760.6941231746882,
            -3554.465307389203,
            -3817.8690474148143,
            -3348.8056188405003,
            -3392.6628997010457,
            -3626.5481161063567,
            -3271.95329289235,
            -3662.973328231464,
            -3674.1446098323663,
            -3517.5098230704125,
            -3903.7319278453324,
            -3610.3838083136825,
            -3930.212041564339,
            -3281.766249153913,
            -3741.503889585764,
            -3126.038986480181,
            -3102.2437861038825,
            -3299.814208001776,
            -3270.3575433587175,
            -3216.760337030825,
            -3527.89339894282,
            -4124.691382480328
           ]
          },
          {
           "label": "colsample_bytree",
           "range": [
            0.5014912753488903,
            0.9986474010624768
           ],
           "values": [
            0.8082609543698478,
            0.6117157812717144,
            0.6124200652680578,
            0.9336075142633715,
            0.6110775965532416,
            0.6959848166331932,
            0.5798668394400159,
            0.618315327913664,
            0.5612517150198941,
            0.7775506558288912,
            0.5134057361615693,
            0.5014912753488903,
            0.5029898813481553,
            0.5224572363987975,
            0.7164812315514998,
            0.8835136858655637,
            0.6696253325073473,
            0.530528364698464,
            0.9986474010624768,
            0.6556050330391029,
            0.6671875607747423,
            0.665140308042124,
            0.6700660919662963,
            0.7446508470598893,
            0.6523901121479591,
            0.8134506388030096,
            0.8463360654659702,
            0.7675041929157638,
            0.7159034033191531,
            0.7988195199168433,
            0.8379469558268364,
            0.6471579301888302,
            0.7304426352387541,
            0.6880951728951452,
            0.633059299592437,
            0.5915144496423372,
            0.8323155993069549,
            0.8801338103103802,
            0.6907377875106011,
            0.5550709650970844,
            0.7739029373550235,
            0.7516163951899268,
            0.7315174748704764,
            0.5947626734826131,
            0.6005537640628245,
            0.6067097808148882,
            0.5709339633647752,
            0.6258178666884637,
            0.5969320450134536,
            0.5815458367220092
           ]
          },
          {
           "label": "learning_rate",
           "range": [
            0.010534036808752503,
            0.29327305505979023
           ],
           "values": [
            0.18723341470180324,
            0.054130008809803384,
            0.13126486876612758,
            0.1112447418959298,
            0.01552813979488832,
            0.17814433786999528,
            0.08422465003506831,
            0.29327305505979023,
            0.2140372686367945,
            0.27670275636474895,
            0.010964737362689478,
            0.011395687881099134,
            0.023014267508007044,
            0.06725264524329111,
            0.05360788765590993,
            0.016960405255137187,
            0.10653843546311945,
            0.23804806077252166,
            0.14644894534505304,
            0.0398574335417107,
            0.04368897403233797,
            0.05196708403277406,
            0.08728939928754809,
            0.044138583090591835,
            0.07913410743494148,
            0.041558474395811014,
            0.10373937960677498,
            0.03214904348419328,
            0.13077058271422112,
            0.179620425057984,
            0.041651244414350475,
            0.0637666455712218,
            0.038236581721911675,
            0.06614146363355247,
            0.05432639675871163,
            0.08392020721418758,
            0.12137621203811763,
            0.03395481722423219,
            0.09832938615074066,
            0.05156784423771078,
            0.15270940413560258,
            0.044551634544679364,
            0.07458557055084974,
            0.023125232199125708,
            0.029729064274917318,
            0.026748052079044078,
            0.010534036808752503,
            0.024150804488661477,
            0.09256764545448282,
            0.2039594513327513
           ]
          },
          {
           "label": "max_depth",
           "range": [
            2,
            20
           ],
           "values": [
            18,
            16,
            6,
            11,
            11,
            4,
            5,
            20,
            6,
            20,
            12,
            12,
            14,
            9,
            14,
            8,
            13,
            9,
            12,
            2,
            2,
            2,
            2,
            2,
            4,
            2,
            4,
            3,
            6,
            7,
            3,
            2,
            3,
            5,
            2,
            5,
            17,
            4,
            3,
            6,
            2,
            2,
            4,
            3,
            3,
            5,
            3,
            5,
            7,
            4
           ]
          },
          {
           "label": "n_estimators",
           "range": [
            20,
            499
           ],
           "values": [
            384,
            281,
            114,
            335,
            361,
            423,
            379,
            184,
            161,
            340,
            492,
            499,
            497,
            476,
            448,
            235,
            50,
            431,
            498,
            292,
            284,
            283,
            281,
            247,
            297,
            188,
            187,
            223,
            121,
            328,
            20,
            307,
            268,
            210,
            258,
            143,
            206,
            312,
            364,
            400,
            281,
            268,
            243,
            175,
            172,
            96,
            185,
            152,
            90,
            169
           ]
          },
          {
           "label": "subsample",
           "range": [
            0.5003156831739615,
            0.9759179398061338
           ],
           "values": [
            0.7827864780311383,
            0.7137352735316842,
            0.8095714168901447,
            0.6360117186600898,
            0.6328840380978915,
            0.8430818361192381,
            0.8194612123138867,
            0.9759179398061338,
            0.5503263970522573,
            0.8328935161821847,
            0.5026900966779031,
            0.5003156831739615,
            0.5012880150547732,
            0.5820651606348157,
            0.5044436952492777,
            0.703450801637613,
            0.5926009575714646,
            0.9611257367387175,
            0.664745449133022,
            0.5616373151448218,
            0.5672825681401394,
            0.5516938746006192,
            0.5713489566250874,
            0.613622379986718,
            0.5509616934220791,
            0.6759782133321486,
            0.6896842218411386,
            0.7470194455527126,
            0.8986706618805615,
            0.749000277267189,
            0.6571416857280812,
            0.5471539146948212,
            0.6084624332641871,
            0.5454865070817582,
            0.6681522870922689,
            0.6314532084779299,
            0.7281832895017895,
            0.7874548587373427,
            0.5713963619121951,
            0.5362604315934769,
            0.6271651540118741,
            0.6051259102534695,
            0.648136045989195,
            0.6142785869164381,
            0.5303359508626663,
            0.5857172954943994,
            0.5721775017695623,
            0.5315141994495945,
            0.5218096813691426,
            0.7039926545457735
           ]
          }
         ],
         "labelangle": 30,
         "labelside": "bottom",
         "line": {
          "color": [
           -3722.301188436487,
           -3453.3887708034526,
           -3682.881351118381,
           -3591.914156496804,
           -3402.101569704765,
           -4076.6019750683517,
           -3757.884941853759,
           -3744.6495444461116,
           -4019.033023416534,
           -3838.3080971564004,
           -3303.065472933557,
           -3312.131694157875,
           -3381.8174947746747,
           -3672.0021769229875,
           -3472.976632653649,
           -3436.670004502379,
           -3666.3726928544324,
           -3980.669189859835,
           -3825.205666083093,
           -3177.557223310412,
           -3191.9452894542214,
           -3217.844913208221,
           -3518.780648492616,
           -3220.867727655653,
           -3797.368428822921,
           -3182.6206508234304,
           -3750.1774886242797,
           -3226.0178384782075,
           -3760.6941231746882,
           -3554.465307389203,
           -3817.8690474148143,
           -3348.8056188405003,
           -3392.6628997010457,
           -3626.5481161063567,
           -3271.95329289235,
           -3662.973328231464,
           -3674.1446098323663,
           -3517.5098230704125,
           -3903.7319278453324,
           -3610.3838083136825,
           -3930.212041564339,
           -3281.766249153913,
           -3741.503889585764,
           -3126.038986480181,
           -3102.2437861038825,
           -3299.814208001776,
           -3270.3575433587175,
           -3216.760337030825,
           -3527.89339894282,
           -4124.691382480328
          ],
          "colorbar": {
           "title": {
            "text": "Objective Value"
           }
          },
          "colorscale": [
           [
            0,
            "rgb(247,251,255)"
           ],
           [
            0.125,
            "rgb(222,235,247)"
           ],
           [
            0.25,
            "rgb(198,219,239)"
           ],
           [
            0.375,
            "rgb(158,202,225)"
           ],
           [
            0.5,
            "rgb(107,174,214)"
           ],
           [
            0.625,
            "rgb(66,146,198)"
           ],
           [
            0.75,
            "rgb(33,113,181)"
           ],
           [
            0.875,
            "rgb(8,81,156)"
           ],
           [
            1,
            "rgb(8,48,107)"
           ]
          ],
          "reversescale": false,
          "showscale": true
         },
         "type": "parcoords"
        }
       ],
       "layout": {
        "template": {
         "data": {
          "bar": [
           {
            "error_x": {
             "color": "#2a3f5f"
            },
            "error_y": {
             "color": "#2a3f5f"
            },
            "marker": {
             "line": {
              "color": "#E5ECF6",
              "width": 0.5
             },
             "pattern": {
              "fillmode": "overlay",
              "size": 10,
              "solidity": 0.2
             }
            },
            "type": "bar"
           }
          ],
          "barpolar": [
           {
            "marker": {
             "line": {
              "color": "#E5ECF6",
              "width": 0.5
             },
             "pattern": {
              "fillmode": "overlay",
              "size": 10,
              "solidity": 0.2
             }
            },
            "type": "barpolar"
           }
          ],
          "carpet": [
           {
            "aaxis": {
             "endlinecolor": "#2a3f5f",
             "gridcolor": "white",
             "linecolor": "white",
             "minorgridcolor": "white",
             "startlinecolor": "#2a3f5f"
            },
            "baxis": {
             "endlinecolor": "#2a3f5f",
             "gridcolor": "white",
             "linecolor": "white",
             "minorgridcolor": "white",
             "startlinecolor": "#2a3f5f"
            },
            "type": "carpet"
           }
          ],
          "choropleth": [
           {
            "colorbar": {
             "outlinewidth": 0,
             "ticks": ""
            },
            "type": "choropleth"
           }
          ],
          "contour": [
           {
            "colorbar": {
             "outlinewidth": 0,
             "ticks": ""
            },
            "colorscale": [
             [
              0,
              "#0d0887"
             ],
             [
              0.1111111111111111,
              "#46039f"
             ],
             [
              0.2222222222222222,
              "#7201a8"
             ],
             [
              0.3333333333333333,
              "#9c179e"
             ],
             [
              0.4444444444444444,
              "#bd3786"
             ],
             [
              0.5555555555555556,
              "#d8576b"
             ],
             [
              0.6666666666666666,
              "#ed7953"
             ],
             [
              0.7777777777777778,
              "#fb9f3a"
             ],
             [
              0.8888888888888888,
              "#fdca26"
             ],
             [
              1,
              "#f0f921"
             ]
            ],
            "type": "contour"
           }
          ],
          "contourcarpet": [
           {
            "colorbar": {
             "outlinewidth": 0,
             "ticks": ""
            },
            "type": "contourcarpet"
           }
          ],
          "heatmap": [
           {
            "colorbar": {
             "outlinewidth": 0,
             "ticks": ""
            },
            "colorscale": [
             [
              0,
              "#0d0887"
             ],
             [
              0.1111111111111111,
              "#46039f"
             ],
             [
              0.2222222222222222,
              "#7201a8"
             ],
             [
              0.3333333333333333,
              "#9c179e"
             ],
             [
              0.4444444444444444,
              "#bd3786"
             ],
             [
              0.5555555555555556,
              "#d8576b"
             ],
             [
              0.6666666666666666,
              "#ed7953"
             ],
             [
              0.7777777777777778,
              "#fb9f3a"
             ],
             [
              0.8888888888888888,
              "#fdca26"
             ],
             [
              1,
              "#f0f921"
             ]
            ],
            "type": "heatmap"
           }
          ],
          "heatmapgl": [
           {
            "colorbar": {
             "outlinewidth": 0,
             "ticks": ""
            },
            "colorscale": [
             [
              0,
              "#0d0887"
             ],
             [
              0.1111111111111111,
              "#46039f"
             ],
             [
              0.2222222222222222,
              "#7201a8"
             ],
             [
              0.3333333333333333,
              "#9c179e"
             ],
             [
              0.4444444444444444,
              "#bd3786"
             ],
             [
              0.5555555555555556,
              "#d8576b"
             ],
             [
              0.6666666666666666,
              "#ed7953"
             ],
             [
              0.7777777777777778,
              "#fb9f3a"
             ],
             [
              0.8888888888888888,
              "#fdca26"
             ],
             [
              1,
              "#f0f921"
             ]
            ],
            "type": "heatmapgl"
           }
          ],
          "histogram": [
           {
            "marker": {
             "pattern": {
              "fillmode": "overlay",
              "size": 10,
              "solidity": 0.2
             }
            },
            "type": "histogram"
           }
          ],
          "histogram2d": [
           {
            "colorbar": {
             "outlinewidth": 0,
             "ticks": ""
            },
            "colorscale": [
             [
              0,
              "#0d0887"
             ],
             [
              0.1111111111111111,
              "#46039f"
             ],
             [
              0.2222222222222222,
              "#7201a8"
             ],
             [
              0.3333333333333333,
              "#9c179e"
             ],
             [
              0.4444444444444444,
              "#bd3786"
             ],
             [
              0.5555555555555556,
              "#d8576b"
             ],
             [
              0.6666666666666666,
              "#ed7953"
             ],
             [
              0.7777777777777778,
              "#fb9f3a"
             ],
             [
              0.8888888888888888,
              "#fdca26"
             ],
             [
              1,
              "#f0f921"
             ]
            ],
            "type": "histogram2d"
           }
          ],
          "histogram2dcontour": [
           {
            "colorbar": {
             "outlinewidth": 0,
             "ticks": ""
            },
            "colorscale": [
             [
              0,
              "#0d0887"
             ],
             [
              0.1111111111111111,
              "#46039f"
             ],
             [
              0.2222222222222222,
              "#7201a8"
             ],
             [
              0.3333333333333333,
              "#9c179e"
             ],
             [
              0.4444444444444444,
              "#bd3786"
             ],
             [
              0.5555555555555556,
              "#d8576b"
             ],
             [
              0.6666666666666666,
              "#ed7953"
             ],
             [
              0.7777777777777778,
              "#fb9f3a"
             ],
             [
              0.8888888888888888,
              "#fdca26"
             ],
             [
              1,
              "#f0f921"
             ]
            ],
            "type": "histogram2dcontour"
           }
          ],
          "mesh3d": [
           {
            "colorbar": {
             "outlinewidth": 0,
             "ticks": ""
            },
            "type": "mesh3d"
           }
          ],
          "parcoords": [
           {
            "line": {
             "colorbar": {
              "outlinewidth": 0,
              "ticks": ""
             }
            },
            "type": "parcoords"
           }
          ],
          "pie": [
           {
            "automargin": true,
            "type": "pie"
           }
          ],
          "scatter": [
           {
            "fillpattern": {
             "fillmode": "overlay",
             "size": 10,
             "solidity": 0.2
            },
            "type": "scatter"
           }
          ],
          "scatter3d": [
           {
            "line": {
             "colorbar": {
              "outlinewidth": 0,
              "ticks": ""
             }
            },
            "marker": {
             "colorbar": {
              "outlinewidth": 0,
              "ticks": ""
             }
            },
            "type": "scatter3d"
           }
          ],
          "scattercarpet": [
           {
            "marker": {
             "colorbar": {
              "outlinewidth": 0,
              "ticks": ""
             }
            },
            "type": "scattercarpet"
           }
          ],
          "scattergeo": [
           {
            "marker": {
             "colorbar": {
              "outlinewidth": 0,
              "ticks": ""
             }
            },
            "type": "scattergeo"
           }
          ],
          "scattergl": [
           {
            "marker": {
             "colorbar": {
              "outlinewidth": 0,
              "ticks": ""
             }
            },
            "type": "scattergl"
           }
          ],
          "scattermapbox": [
           {
            "marker": {
             "colorbar": {
              "outlinewidth": 0,
              "ticks": ""
             }
            },
            "type": "scattermapbox"
           }
          ],
          "scatterpolar": [
           {
            "marker": {
             "colorbar": {
              "outlinewidth": 0,
              "ticks": ""
             }
            },
            "type": "scatterpolar"
           }
          ],
          "scatterpolargl": [
           {
            "marker": {
             "colorbar": {
              "outlinewidth": 0,
              "ticks": ""
             }
            },
            "type": "scatterpolargl"
           }
          ],
          "scatterternary": [
           {
            "marker": {
             "colorbar": {
              "outlinewidth": 0,
              "ticks": ""
             }
            },
            "type": "scatterternary"
           }
          ],
          "surface": [
           {
            "colorbar": {
             "outlinewidth": 0,
             "ticks": ""
            },
            "colorscale": [
             [
              0,
              "#0d0887"
             ],
             [
              0.1111111111111111,
              "#46039f"
             ],
             [
              0.2222222222222222,
              "#7201a8"
             ],
             [
              0.3333333333333333,
              "#9c179e"
             ],
             [
              0.4444444444444444,
              "#bd3786"
             ],
             [
              0.5555555555555556,
              "#d8576b"
             ],
             [
              0.6666666666666666,
              "#ed7953"
             ],
             [
              0.7777777777777778,
              "#fb9f3a"
             ],
             [
              0.8888888888888888,
              "#fdca26"
             ],
             [
              1,
              "#f0f921"
             ]
            ],
            "type": "surface"
           }
          ],
          "table": [
           {
            "cells": {
             "fill": {
              "color": "#EBF0F8"
             },
             "line": {
              "color": "white"
             }
            },
            "header": {
             "fill": {
              "color": "#C8D4E3"
             },
             "line": {
              "color": "white"
             }
            },
            "type": "table"
           }
          ]
         },
         "layout": {
          "annotationdefaults": {
           "arrowcolor": "#2a3f5f",
           "arrowhead": 0,
           "arrowwidth": 1
          },
          "autotypenumbers": "strict",
          "coloraxis": {
           "colorbar": {
            "outlinewidth": 0,
            "ticks": ""
           }
          },
          "colorscale": {
           "diverging": [
            [
             0,
             "#8e0152"
            ],
            [
             0.1,
             "#c51b7d"
            ],
            [
             0.2,
             "#de77ae"
            ],
            [
             0.3,
             "#f1b6da"
            ],
            [
             0.4,
             "#fde0ef"
            ],
            [
             0.5,
             "#f7f7f7"
            ],
            [
             0.6,
             "#e6f5d0"
            ],
            [
             0.7,
             "#b8e186"
            ],
            [
             0.8,
             "#7fbc41"
            ],
            [
             0.9,
             "#4d9221"
            ],
            [
             1,
             "#276419"
            ]
           ],
           "sequential": [
            [
             0,
             "#0d0887"
            ],
            [
             0.1111111111111111,
             "#46039f"
            ],
            [
             0.2222222222222222,
             "#7201a8"
            ],
            [
             0.3333333333333333,
             "#9c179e"
            ],
            [
             0.4444444444444444,
             "#bd3786"
            ],
            [
             0.5555555555555556,
             "#d8576b"
            ],
            [
             0.6666666666666666,
             "#ed7953"
            ],
            [
             0.7777777777777778,
             "#fb9f3a"
            ],
            [
             0.8888888888888888,
             "#fdca26"
            ],
            [
             1,
             "#f0f921"
            ]
           ],
           "sequentialminus": [
            [
             0,
             "#0d0887"
            ],
            [
             0.1111111111111111,
             "#46039f"
            ],
            [
             0.2222222222222222,
             "#7201a8"
            ],
            [
             0.3333333333333333,
             "#9c179e"
            ],
            [
             0.4444444444444444,
             "#bd3786"
            ],
            [
             0.5555555555555556,
             "#d8576b"
            ],
            [
             0.6666666666666666,
             "#ed7953"
            ],
            [
             0.7777777777777778,
             "#fb9f3a"
            ],
            [
             0.8888888888888888,
             "#fdca26"
            ],
            [
             1,
             "#f0f921"
            ]
           ]
          },
          "colorway": [
           "#636efa",
           "#EF553B",
           "#00cc96",
           "#ab63fa",
           "#FFA15A",
           "#19d3f3",
           "#FF6692",
           "#B6E880",
           "#FF97FF",
           "#FECB52"
          ],
          "font": {
           "color": "#2a3f5f"
          },
          "geo": {
           "bgcolor": "white",
           "lakecolor": "white",
           "landcolor": "#E5ECF6",
           "showlakes": true,
           "showland": true,
           "subunitcolor": "white"
          },
          "hoverlabel": {
           "align": "left"
          },
          "hovermode": "closest",
          "mapbox": {
           "style": "light"
          },
          "paper_bgcolor": "white",
          "plot_bgcolor": "#E5ECF6",
          "polar": {
           "angularaxis": {
            "gridcolor": "white",
            "linecolor": "white",
            "ticks": ""
           },
           "bgcolor": "#E5ECF6",
           "radialaxis": {
            "gridcolor": "white",
            "linecolor": "white",
            "ticks": ""
           }
          },
          "scene": {
           "xaxis": {
            "backgroundcolor": "#E5ECF6",
            "gridcolor": "white",
            "gridwidth": 2,
            "linecolor": "white",
            "showbackground": true,
            "ticks": "",
            "zerolinecolor": "white"
           },
           "yaxis": {
            "backgroundcolor": "#E5ECF6",
            "gridcolor": "white",
            "gridwidth": 2,
            "linecolor": "white",
            "showbackground": true,
            "ticks": "",
            "zerolinecolor": "white"
           },
           "zaxis": {
            "backgroundcolor": "#E5ECF6",
            "gridcolor": "white",
            "gridwidth": 2,
            "linecolor": "white",
            "showbackground": true,
            "ticks": "",
            "zerolinecolor": "white"
           }
          },
          "shapedefaults": {
           "line": {
            "color": "#2a3f5f"
           }
          },
          "ternary": {
           "aaxis": {
            "gridcolor": "white",
            "linecolor": "white",
            "ticks": ""
           },
           "baxis": {
            "gridcolor": "white",
            "linecolor": "white",
            "ticks": ""
           },
           "bgcolor": "#E5ECF6",
           "caxis": {
            "gridcolor": "white",
            "linecolor": "white",
            "ticks": ""
           }
          },
          "title": {
           "x": 0.05
          },
          "xaxis": {
           "automargin": true,
           "gridcolor": "white",
           "linecolor": "white",
           "ticks": "",
           "title": {
            "standoff": 15
           },
           "zerolinecolor": "white",
           "zerolinewidth": 2
          },
          "yaxis": {
           "automargin": true,
           "gridcolor": "white",
           "linecolor": "white",
           "ticks": "",
           "title": {
            "standoff": 15
           },
           "zerolinecolor": "white",
           "zerolinewidth": 2
          }
         }
        },
        "title": {
         "text": "Parallel Coordinate Plot"
        }
       }
      }
     },
     "metadata": {},
     "output_type": "display_data"
    }
   ],
   "source": [
    "optuna.visualization.plot_parallel_coordinate(study)"
   ]
  },
  {
   "cell_type": "code",
   "execution_count": null,
   "id": "fce0f32a",
   "metadata": {},
   "outputs": [],
   "source": []
  }
 ],
 "metadata": {
  "kernelspec": {
   "display_name": "base",
   "language": "python",
   "name": "python3"
  },
  "language_info": {
   "codemirror_mode": {
    "name": "ipython",
    "version": 3
   },
   "file_extension": ".py",
   "mimetype": "text/x-python",
   "name": "python",
   "nbconvert_exporter": "python",
   "pygments_lexer": "ipython3",
   "version": "3.11.7"
  }
 },
 "nbformat": 4,
 "nbformat_minor": 5
}
