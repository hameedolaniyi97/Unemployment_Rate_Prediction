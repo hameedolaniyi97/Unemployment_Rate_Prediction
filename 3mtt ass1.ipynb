{
 "cells": [
  {
   "cell_type": "code",
   "execution_count": 24,
   "id": "282e0f3e",
   "metadata": {},
   "outputs": [],
   "source": [
    "# load labraries \n",
    "import pandas as pd \n",
    "import numpy as np "
   ]
  },
  {
   "cell_type": "code",
   "execution_count": 26,
   "id": "ccb73734",
   "metadata": {},
   "outputs": [
    {
     "name": "stdout",
     "output_type": "stream",
     "text": [
      "Shape: (26, 11)\n"
     ]
    },
    {
     "data": {
      "application/vnd.microsoft.datawrangler.viewer.v0+json": {
       "columns": [
        {
         "name": "index",
         "rawType": "int64",
         "type": "integer"
        },
        {
         "name": "Website Domain",
         "rawType": "object",
         "type": "string"
        },
        {
         "name": "Effective date",
         "rawType": "object",
         "type": "unknown"
        },
        {
         "name": "Found At",
         "rawType": "object",
         "type": "string"
        },
        {
         "name": "Financing Type",
         "rawType": "object",
         "type": "unknown"
        },
        {
         "name": "Financing Type Normalized",
         "rawType": "object",
         "type": "unknown"
        },
        {
         "name": "Categories",
         "rawType": "object",
         "type": "string"
        },
        {
         "name": "Investors",
         "rawType": "object",
         "type": "unknown"
        },
        {
         "name": "Investors Count",
         "rawType": "float64",
         "type": "float"
        },
        {
         "name": "Amount",
         "rawType": "object",
         "type": "string"
        },
        {
         "name": "Amount Normalized",
         "rawType": "int64",
         "type": "integer"
        },
        {
         "name": "Source Urls",
         "rawType": "object",
         "type": "string"
        }
       ],
       "ref": "8c29eae2-e07a-4f30-b654-35fcc0025a72",
       "rows": [
        [
         "0",
         "trafigura.com",
         null,
         "2024-03-14T01:00:00+01:00",
         null,
         null,
         "[]",
         null,
         null,
         "$1.9b",
         "1900000000",
         "https://www.tradefinanceglobal.com/posts/trafigura-raises-1-9b-in-new-credit-facilities-eyes-expansion"
        ],
        [
         "1",
         "zenobe.com",
         null,
         "2024-05-31T02:00:00+02:00",
         null,
         null,
         "[]",
         "avivainvestors.com, lloydsbankinggroup.com, santander.co.uk, swip.com, cibc.com, societegenerale.com, natwest.us, rabobank.com, mufg.jp",
         "9.0",
         "$522.7 million",
         "522700000",
         "https://realassets.ipe.com/news/aviva-among-lenders-backing-zenob-with-410m-of-new-debt/10073524.article, https://media.startupcentrum.com/weekly-startup-ecosystem-overview-in-europe-may-27-31"
        ],
        [
         "2",
         "zenobe.com",
         null,
         "2024-07-24T02:00:00+02:00",
         null,
         null,
         "[\"private_equity\"]",
         null,
         null,
         "£41.7m",
         "53671000",
         "https://www.innovationnewsnetwork.com/zenobe-awarded-41-7m-to-advance-electric-buses-in-scotland/49521"
        ],
        [
         "3",
         "canva.com",
         null,
         "2024-05-01T02:00:00+02:00",
         null,
         null,
         "[]",
         "stackcapitalgroup.com",
         "1.0",
         "US$8 million",
         "8000000",
         "https://www.globenewswire.com/news-release/2024/05/01/2873118/0/en/Stack-Capital-Invests-8-Million-USD-Into-Canva.html"
        ],
        [
         "4",
         "fidelity.com",
         null,
         "2024-04-11T02:00:00+02:00",
         null,
         null,
         "[]",
         "chevychasetrust.com",
         "1.0",
         "$1.96 million",
         "1960000",
         "https://www.defenseworld.net/2024/04/11/chevy-chase-trust-holdings-llc-makes-new-1-96-million-investment-in-fidelity-msci-consumer-discretionary-index-etf-nysearcafdis.html"
        ]
       ],
       "shape": {
        "columns": 11,
        "rows": 5
       }
      },
      "text/html": [
       "<div>\n",
       "<style scoped>\n",
       "    .dataframe tbody tr th:only-of-type {\n",
       "        vertical-align: middle;\n",
       "    }\n",
       "\n",
       "    .dataframe tbody tr th {\n",
       "        vertical-align: top;\n",
       "    }\n",
       "\n",
       "    .dataframe thead th {\n",
       "        text-align: right;\n",
       "    }\n",
       "</style>\n",
       "<table border=\"1\" class=\"dataframe\">\n",
       "  <thead>\n",
       "    <tr style=\"text-align: right;\">\n",
       "      <th></th>\n",
       "      <th>Website Domain</th>\n",
       "      <th>Effective date</th>\n",
       "      <th>Found At</th>\n",
       "      <th>Financing Type</th>\n",
       "      <th>Financing Type Normalized</th>\n",
       "      <th>Categories</th>\n",
       "      <th>Investors</th>\n",
       "      <th>Investors Count</th>\n",
       "      <th>Amount</th>\n",
       "      <th>Amount Normalized</th>\n",
       "      <th>Source Urls</th>\n",
       "    </tr>\n",
       "  </thead>\n",
       "  <tbody>\n",
       "    <tr>\n",
       "      <th>0</th>\n",
       "      <td>trafigura.com</td>\n",
       "      <td>NaN</td>\n",
       "      <td>2024-03-14T01:00:00+01:00</td>\n",
       "      <td>NaN</td>\n",
       "      <td>NaN</td>\n",
       "      <td>[]</td>\n",
       "      <td>NaN</td>\n",
       "      <td>NaN</td>\n",
       "      <td>$1.9b</td>\n",
       "      <td>1900000000</td>\n",
       "      <td>https://www.tradefinanceglobal.com/posts/trafi...</td>\n",
       "    </tr>\n",
       "    <tr>\n",
       "      <th>1</th>\n",
       "      <td>zenobe.com</td>\n",
       "      <td>NaN</td>\n",
       "      <td>2024-05-31T02:00:00+02:00</td>\n",
       "      <td>NaN</td>\n",
       "      <td>NaN</td>\n",
       "      <td>[]</td>\n",
       "      <td>avivainvestors.com, lloydsbankinggroup.com, sa...</td>\n",
       "      <td>9.0</td>\n",
       "      <td>$522.7 million</td>\n",
       "      <td>522700000</td>\n",
       "      <td>https://realassets.ipe.com/news/aviva-among-le...</td>\n",
       "    </tr>\n",
       "    <tr>\n",
       "      <th>2</th>\n",
       "      <td>zenobe.com</td>\n",
       "      <td>NaN</td>\n",
       "      <td>2024-07-24T02:00:00+02:00</td>\n",
       "      <td>NaN</td>\n",
       "      <td>NaN</td>\n",
       "      <td>[\"private_equity\"]</td>\n",
       "      <td>NaN</td>\n",
       "      <td>NaN</td>\n",
       "      <td>£41.7m</td>\n",
       "      <td>53671000</td>\n",
       "      <td>https://www.innovationnewsnetwork.com/zenobe-a...</td>\n",
       "    </tr>\n",
       "    <tr>\n",
       "      <th>3</th>\n",
       "      <td>canva.com</td>\n",
       "      <td>NaN</td>\n",
       "      <td>2024-05-01T02:00:00+02:00</td>\n",
       "      <td>NaN</td>\n",
       "      <td>NaN</td>\n",
       "      <td>[]</td>\n",
       "      <td>stackcapitalgroup.com</td>\n",
       "      <td>1.0</td>\n",
       "      <td>US$8 million</td>\n",
       "      <td>8000000</td>\n",
       "      <td>https://www.globenewswire.com/news-release/202...</td>\n",
       "    </tr>\n",
       "    <tr>\n",
       "      <th>4</th>\n",
       "      <td>fidelity.com</td>\n",
       "      <td>NaN</td>\n",
       "      <td>2024-04-11T02:00:00+02:00</td>\n",
       "      <td>NaN</td>\n",
       "      <td>NaN</td>\n",
       "      <td>[]</td>\n",
       "      <td>chevychasetrust.com</td>\n",
       "      <td>1.0</td>\n",
       "      <td>$1.96 million</td>\n",
       "      <td>1960000</td>\n",
       "      <td>https://www.defenseworld.net/2024/04/11/chevy-...</td>\n",
       "    </tr>\n",
       "  </tbody>\n",
       "</table>\n",
       "</div>"
      ],
      "text/plain": [
       "  Website Domain Effective date                   Found At Financing Type  \\\n",
       "0  trafigura.com            NaN  2024-03-14T01:00:00+01:00            NaN   \n",
       "1     zenobe.com            NaN  2024-05-31T02:00:00+02:00            NaN   \n",
       "2     zenobe.com            NaN  2024-07-24T02:00:00+02:00            NaN   \n",
       "3      canva.com            NaN  2024-05-01T02:00:00+02:00            NaN   \n",
       "4   fidelity.com            NaN  2024-04-11T02:00:00+02:00            NaN   \n",
       "\n",
       "  Financing Type Normalized          Categories  \\\n",
       "0                       NaN                  []   \n",
       "1                       NaN                  []   \n",
       "2                       NaN  [\"private_equity\"]   \n",
       "3                       NaN                  []   \n",
       "4                       NaN                  []   \n",
       "\n",
       "                                           Investors  Investors Count  \\\n",
       "0                                                NaN              NaN   \n",
       "1  avivainvestors.com, lloydsbankinggroup.com, sa...              9.0   \n",
       "2                                                NaN              NaN   \n",
       "3                              stackcapitalgroup.com              1.0   \n",
       "4                                chevychasetrust.com              1.0   \n",
       "\n",
       "           Amount  Amount Normalized  \\\n",
       "0           $1.9b         1900000000   \n",
       "1  $522.7 million          522700000   \n",
       "2          £41.7m           53671000   \n",
       "3    US$8 million            8000000   \n",
       "4   $1.96 million            1960000   \n",
       "\n",
       "                                         Source Urls  \n",
       "0  https://www.tradefinanceglobal.com/posts/trafi...  \n",
       "1  https://realassets.ipe.com/news/aviva-among-le...  \n",
       "2  https://www.innovationnewsnetwork.com/zenobe-a...  \n",
       "3  https://www.globenewswire.com/news-release/202...  \n",
       "4  https://www.defenseworld.net/2024/04/11/chevy-...  "
      ]
     },
     "execution_count": 26,
     "metadata": {},
     "output_type": "execute_result"
    }
   ],
   "source": [
    "import pandas as pd\n",
    "\n",
    "# Load with latin1 encoding to handle special characters (£, ₦, etc.)\n",
    "data = pd.read_csv(\"BusinessFundingData.csv\", encoding=\"latin1\")\n",
    "\n",
    "# Preview\n",
    "print(\"Shape:\", data.shape)\n",
    "data.head()\n"
   ]
  },
  {
   "cell_type": "markdown",
   "id": "01c4a595",
   "metadata": {},
   "source": [
    "``` Data Loading Observations\n",
    "\n",
    "  The dataset could not be loaded with the default UTF 8 encoding because it contains special characters \n",
    "  Using encoding=\"latin1\" solved the problem and allowed the file to load successfully.  \n",
    "  The dataset has 26 rows and 11 columns.  \n",
    "  At this stage, the raw data is ready for further quality checks and preprocessing.```\n"
   ]
  },
  {
   "cell_type": "code",
   "execution_count": null,
   "id": "94fdf317",
   "metadata": {},
   "outputs": [
    {
     "data": {
      "application/vnd.microsoft.datawrangler.viewer.v0+json": {
       "columns": [
        {
         "name": "index",
         "rawType": "object",
         "type": "string"
        },
        {
         "name": "0",
         "rawType": "int64",
         "type": "integer"
        }
       ],
       "ref": "229d75ec-2bc4-4df7-b58f-c02e6273b11f",
       "rows": [
        [
         "Website Domain",
         "0"
        ],
        [
         "Effective date",
         "20"
        ],
        [
         "Found At",
         "0"
        ],
        [
         "Financing Type",
         "18"
        ],
        [
         "Financing Type Normalized",
         "18"
        ],
        [
         "Categories",
         "0"
        ],
        [
         "Investors",
         "13"
        ],
        [
         "Investors Count",
         "13"
        ],
        [
         "Amount",
         "0"
        ],
        [
         "Amount Normalized",
         "0"
        ],
        [
         "Source Urls",
         "0"
        ]
       ],
       "shape": {
        "columns": 1,
        "rows": 11
       }
      },
      "text/plain": [
       "Website Domain                0\n",
       "Effective date               20\n",
       "Found At                      0\n",
       "Financing Type               18\n",
       "Financing Type Normalized    18\n",
       "Categories                    0\n",
       "Investors                    13\n",
       "Investors Count              13\n",
       "Amount                        0\n",
       "Amount Normalized             0\n",
       "Source Urls                   0\n",
       "dtype: int64"
      ]
     },
     "execution_count": 27,
     "metadata": {},
     "output_type": "execute_result"
    }
   ],
   "source": [
    "# Check missing values in each column\n",
    "data.isna().sum()"
   ]
  },
  {
   "cell_type": "code",
   "execution_count": 28,
   "id": "aa1c7dca",
   "metadata": {},
   "outputs": [
    {
     "name": "stdout",
     "output_type": "stream",
     "text": [
      "<class 'pandas.core.frame.DataFrame'>\n",
      "RangeIndex: 26 entries, 0 to 25\n",
      "Data columns (total 11 columns):\n",
      " #   Column                     Non-Null Count  Dtype  \n",
      "---  ------                     --------------  -----  \n",
      " 0   Website Domain             26 non-null     object \n",
      " 1   Effective date             6 non-null      object \n",
      " 2   Found At                   26 non-null     object \n",
      " 3   Financing Type             8 non-null      object \n",
      " 4   Financing Type Normalized  8 non-null      object \n",
      " 5   Categories                 26 non-null     object \n",
      " 6   Investors                  13 non-null     object \n",
      " 7   Investors Count            13 non-null     float64\n",
      " 8   Amount                     26 non-null     object \n",
      " 9   Amount Normalized          26 non-null     int64  \n",
      " 10  Source Urls                26 non-null     object \n",
      "dtypes: float64(1), int64(1), object(9)\n",
      "memory usage: 2.4+ KB\n"
     ]
    }
   ],
   "source": [
    "# Check column data types and non-null counts\n",
    "data.info()"
   ]
  },
  {
   "cell_type": "code",
   "execution_count": 29,
   "id": "510307e7",
   "metadata": {},
   "outputs": [
    {
     "data": {
      "application/vnd.microsoft.datawrangler.viewer.v0+json": {
       "columns": [
        {
         "name": "index",
         "rawType": "object",
         "type": "string"
        },
        {
         "name": "0",
         "rawType": "int64",
         "type": "integer"
        }
       ],
       "ref": "b93d68c0-bc6d-4da0-80a8-f735fc084a2e",
       "rows": [
        [
         "Website Domain",
         "21"
        ],
        [
         "Effective date",
         "6"
        ],
        [
         "Found At",
         "23"
        ],
        [
         "Financing Type",
         "5"
        ],
        [
         "Financing Type Normalized",
         "5"
        ],
        [
         "Categories",
         "9"
        ],
        [
         "Investors",
         "13"
        ],
        [
         "Investors Count",
         "4"
        ],
        [
         "Amount",
         "26"
        ],
        [
         "Amount Normalized",
         "24"
        ],
        [
         "Source Urls",
         "26"
        ]
       ],
       "shape": {
        "columns": 1,
        "rows": 11
       }
      },
      "text/plain": [
       "Website Domain               21\n",
       "Effective date                6\n",
       "Found At                     23\n",
       "Financing Type                5\n",
       "Financing Type Normalized     5\n",
       "Categories                    9\n",
       "Investors                    13\n",
       "Investors Count               4\n",
       "Amount                       26\n",
       "Amount Normalized            24\n",
       "Source Urls                  26\n",
       "dtype: int64"
      ]
     },
     "execution_count": 29,
     "metadata": {},
     "output_type": "execute_result"
    }
   ],
   "source": [
    "# Check number of unique values per column\n",
    "data.nunique()"
   ]
  },
  {
   "cell_type": "markdown",
   "id": "9a9cd66f",
   "metadata": {},
   "source": [
    "``` ###  Data Quality Checks\n",
    " Missing Values:\n",
    "   `Effective date` has mostly missing values.\n",
    "   `Financing Type` and `Financing Type Normalized` also contain many missing entries.\n",
    "   Other columns are more complete.\n",
    "\n",
    "Data Types:\n",
    "  `Amount` is stored as an object (string) even though it represents money.\n",
    "   `Found At` and `Effective date` are stored as strings instead of datetime.\n",
    "   `Investors` is a text field with multiple names, while `Investors Count` is numeric.\n",
    "\n",
    " Unique Values:\n",
    "   Columns like `Website Domain` and `Categories` have several repeated entries.\n",
    "   `Amount Normalized` is already numeric and can serve as a reference when cleaning `Amount`.\n",
    "\n",
    " Conclusion:  \n",
    "The dataset is small (26 rows) but needs cleaning:\n",
    " Dates must be converted into datetime format.\n",
    " `Amount` must be cleaned into numeric.\n",
    " `Investors` and `Categories` should be structured properly.```\n"
   ]
  },
  {
   "cell_type": "code",
   "execution_count": 30,
   "id": "304eff2a",
   "metadata": {},
   "outputs": [
    {
     "data": {
      "text/plain": [
       "Index(['website_domain', 'effective_date', 'found_at', 'financing_type',\n",
       "       'financing_type_normalized', 'categories', 'investors',\n",
       "       'investors_count', 'amount', 'amount_normalized', 'source_urls'],\n",
       "      dtype='object')"
      ]
     },
     "execution_count": 30,
     "metadata": {},
     "output_type": "execute_result"
    }
   ],
   "source": [
    "# Standardize column names\n",
    "data.columns = (\n",
    "    data.columns.str.strip()  # remove leading/trailing spaces\n",
    "             .str.lower()   # make all lowercase\n",
    "             .str.replace(r'[^0-9a-zA-Z]+', '_', regex=True)  # replace spaces/symbols with _\n",
    "             .str.strip('_')  # remove leading/trailing underscores\n",
    ")\n",
    "data.columns\n"
   ]
  },
  {
   "cell_type": "markdown",
   "id": "1c41e06f",
   "metadata": {},
   "source": [
    "``` Column Name Standardization\n",
    "\n",
    " All column names have been converted to **lowercase** for consistency.\n",
    " Spaces and special characters were replaced with **underscores** (e.g., `Website Domain` → `website_domain`).\n",
    " Leading and trailing underscores were removed.\n",
    " This makes it easier to reference columns in code without errors.\n",
    "\n",
    "Example:  \n",
    "`Website Domain` → `website_domain`  \n",
    "`Effective date` → `effective_date`  \n",
    "`Amount Normalized` → `amount_normalized` ```\n"
   ]
  },
  {
   "cell_type": "code",
   "execution_count": 31,
   "id": "96667a8d",
   "metadata": {},
   "outputs": [
    {
     "name": "stderr",
     "output_type": "stream",
     "text": [
      "C:\\Users\\USER\\AppData\\Local\\Temp\\ipykernel_1860\\279617900.py:4: FutureWarning: In a future version of pandas, parsing datetimes with mixed time zones will raise an error unless `utc=True`. Please specify `utc=True` to opt in to the new behaviour and silence this warning. To create a `Series` with mixed offsets and `object` dtype, please use `apply` and `datetime.datetime.strptime`\n",
      "  data[col] = pd.to_datetime(data[col], errors='coerce')\n"
     ]
    }
   ],
   "source": [
    "# Convert date columns to datetime \n",
    "for col in ['found_at', 'effective_date']:\n",
    "    if col in data.columns:\n",
    "        data[col] = pd.to_datetime(data[col], errors='coerce')\n",
    "\n"
   ]
  },
  {
   "cell_type": "markdown",
   "id": "d79823e1",
   "metadata": {},
   "source": [
    "``` Date Handling\n",
    "\n",
    " Both `found_at` and `effective_date` columns were converted from **string** to **datetime** format.  \n",
    " `errors=\"coerce\"` was used to safely handle invalid or missing values, turning them into `NaT` (Not a Time).  \n",
    " This conversion makes it easier to:\n",
    "   Perform **time based analysis** (e.g., trends over time).  \n",
    "   Calculate time differences (e.g., funding gap between events).  \n",
    "\n",
    "Example:  \n",
    "`2024-03-14T01:00:00+01:00` → `2024-03-14 01:00:00` (datetime object)``` \n"
   ]
  },
  {
   "cell_type": "code",
   "execution_count": 35,
   "id": "9f02f588",
   "metadata": {},
   "outputs": [
    {
     "data": {
      "application/vnd.microsoft.datawrangler.viewer.v0+json": {
       "columns": [
        {
         "name": "index",
         "rawType": "int64",
         "type": "integer"
        },
        {
         "name": "categories",
         "rawType": "object",
         "type": "string"
        },
        {
         "name": "categories_list",
         "rawType": "object",
         "type": "unknown"
        },
        {
         "name": "n_categories",
         "rawType": "int64",
         "type": "integer"
        }
       ],
       "ref": "6d8df628-f241-4371-931f-589fe13b10b0",
       "rows": [
        [
         "0",
         "[]",
         "[]",
         "0"
        ],
        [
         "1",
         "[]",
         "[]",
         "0"
        ],
        [
         "2",
         "[\"private_equity\"]",
         "['private_equity']",
         "1"
        ],
        [
         "3",
         "[]",
         "[]",
         "0"
        ],
        [
         "4",
         "[]",
         "[]",
         "0"
        ]
       ],
       "shape": {
        "columns": 3,
        "rows": 5
       }
      },
      "text/html": [
       "<div>\n",
       "<style scoped>\n",
       "    .dataframe tbody tr th:only-of-type {\n",
       "        vertical-align: middle;\n",
       "    }\n",
       "\n",
       "    .dataframe tbody tr th {\n",
       "        vertical-align: top;\n",
       "    }\n",
       "\n",
       "    .dataframe thead th {\n",
       "        text-align: right;\n",
       "    }\n",
       "</style>\n",
       "<table border=\"1\" class=\"dataframe\">\n",
       "  <thead>\n",
       "    <tr style=\"text-align: right;\">\n",
       "      <th></th>\n",
       "      <th>categories</th>\n",
       "      <th>categories_list</th>\n",
       "      <th>n_categories</th>\n",
       "    </tr>\n",
       "  </thead>\n",
       "  <tbody>\n",
       "    <tr>\n",
       "      <th>0</th>\n",
       "      <td>[]</td>\n",
       "      <td>[]</td>\n",
       "      <td>0</td>\n",
       "    </tr>\n",
       "    <tr>\n",
       "      <th>1</th>\n",
       "      <td>[]</td>\n",
       "      <td>[]</td>\n",
       "      <td>0</td>\n",
       "    </tr>\n",
       "    <tr>\n",
       "      <th>2</th>\n",
       "      <td>[\"private_equity\"]</td>\n",
       "      <td>[private_equity]</td>\n",
       "      <td>1</td>\n",
       "    </tr>\n",
       "    <tr>\n",
       "      <th>3</th>\n",
       "      <td>[]</td>\n",
       "      <td>[]</td>\n",
       "      <td>0</td>\n",
       "    </tr>\n",
       "    <tr>\n",
       "      <th>4</th>\n",
       "      <td>[]</td>\n",
       "      <td>[]</td>\n",
       "      <td>0</td>\n",
       "    </tr>\n",
       "  </tbody>\n",
       "</table>\n",
       "</div>"
      ],
      "text/plain": [
       "           categories   categories_list  n_categories\n",
       "0                  []                []             0\n",
       "1                  []                []             0\n",
       "2  [\"private_equity\"]  [private_equity]             1\n",
       "3                  []                []             0\n",
       "4                  []                []             0"
      ]
     },
     "execution_count": 35,
     "metadata": {},
     "output_type": "execute_result"
    }
   ],
   "source": [
    "import ast, re\n",
    "\n",
    "# Function to clean and parse categories\n",
    "def parse_categories(x):\n",
    "    if pd.isna(x):\n",
    "        return []\n",
    "    s = str(x).strip()\n",
    "    if s == \"[]\":\n",
    "        return []\n",
    "    # Try to parse stringified list\n",
    "    try:\n",
    "        val = ast.literal_eval(s)\n",
    "        if isinstance(val, list):\n",
    "            return [str(v).strip().lower() for v in val]\n",
    "    except (ValueError, SyntaxError):\n",
    "        pass\n",
    "    # Fallback: split by comma or semicolon\n",
    "    return [p.strip().lower() for p in re.split(r\"[;,]\", s) if p.strip()]\n",
    "\n",
    "# Apply function\n",
    "data[\"categories_list\"] = data[\"categories\"].apply(parse_categories)\n",
    "data[\"n_categories\"] = data[\"categories_list\"].apply(len)\n",
    "\n",
    "# Preview result\n",
    "data[[\"categories\", \"categories_list\", \"n_categories\"]].head()\n"
   ]
  },
  {
   "cell_type": "markdown",
   "id": "e6f97edf",
   "metadata": {},
   "source": [
    "``` Cleaning Categories\n",
    "\n",
    " The `categories` column originally stored values as text that looked like lists (e.g., `[\"private_equity\"]`) or as empty brackets (`[]`).  \n",
    " Using a custom function, we:\n",
    "   Parsed stringified lists into **true Python lists**.  \n",
    "   Normalized text to **lowercase** and removed extra spaces.  \n",
    "   Counted the number of categories per row in a new column `n_categories`.  \n",
    "\n",
    "✅ Example:  \n",
    "`[\"private_equity\"]` → `['private_equity']` with `n_categories = 1`  \n",
    "`[]` → `[]` with `n_categories = 0`\n",
    "```"
   ]
  },
  {
   "cell_type": "code",
   "execution_count": 36,
   "id": "4101bff6",
   "metadata": {},
   "outputs": [
    {
     "data": {
      "application/vnd.microsoft.datawrangler.viewer.v0+json": {
       "columns": [
        {
         "name": "index",
         "rawType": "int64",
         "type": "integer"
        },
        {
         "name": "investors",
         "rawType": "object",
         "type": "unknown"
        },
        {
         "name": "investors_list",
         "rawType": "object",
         "type": "unknown"
        },
        {
         "name": "investors_count",
         "rawType": "float64",
         "type": "float"
        },
        {
         "name": "investors_count_derived",
         "rawType": "int64",
         "type": "integer"
        }
       ],
       "ref": "d0ce20fe-29d9-4d5a-8ad7-f2c3d444cd64",
       "rows": [
        [
         "0",
         null,
         "[]",
         null,
         "0"
        ],
        [
         "1",
         "avivainvestors.com, lloydsbankinggroup.com, santander.co.uk, swip.com, cibc.com, societegenerale.com, natwest.us, rabobank.com, mufg.jp",
         "['avivainvestors.com', 'lloydsbankinggroup.com', 'santander.co.uk', 'swip.com', 'cibc.com', 'societegenerale.com', 'natwest.us', 'rabobank.com', 'mufg.jp']",
         "9.0",
         "9"
        ],
        [
         "2",
         null,
         "[]",
         null,
         "0"
        ],
        [
         "3",
         "stackcapitalgroup.com",
         "['stackcapitalgroup.com']",
         "1.0",
         "1"
        ],
        [
         "4",
         "chevychasetrust.com",
         "['chevychasetrust.com']",
         "1.0",
         "1"
        ]
       ],
       "shape": {
        "columns": 4,
        "rows": 5
       }
      },
      "text/html": [
       "<div>\n",
       "<style scoped>\n",
       "    .dataframe tbody tr th:only-of-type {\n",
       "        vertical-align: middle;\n",
       "    }\n",
       "\n",
       "    .dataframe tbody tr th {\n",
       "        vertical-align: top;\n",
       "    }\n",
       "\n",
       "    .dataframe thead th {\n",
       "        text-align: right;\n",
       "    }\n",
       "</style>\n",
       "<table border=\"1\" class=\"dataframe\">\n",
       "  <thead>\n",
       "    <tr style=\"text-align: right;\">\n",
       "      <th></th>\n",
       "      <th>investors</th>\n",
       "      <th>investors_list</th>\n",
       "      <th>investors_count</th>\n",
       "      <th>investors_count_derived</th>\n",
       "    </tr>\n",
       "  </thead>\n",
       "  <tbody>\n",
       "    <tr>\n",
       "      <th>0</th>\n",
       "      <td>NaN</td>\n",
       "      <td>[]</td>\n",
       "      <td>NaN</td>\n",
       "      <td>0</td>\n",
       "    </tr>\n",
       "    <tr>\n",
       "      <th>1</th>\n",
       "      <td>avivainvestors.com, lloydsbankinggroup.com, sa...</td>\n",
       "      <td>[avivainvestors.com, lloydsbankinggroup.com, s...</td>\n",
       "      <td>9.0</td>\n",
       "      <td>9</td>\n",
       "    </tr>\n",
       "    <tr>\n",
       "      <th>2</th>\n",
       "      <td>NaN</td>\n",
       "      <td>[]</td>\n",
       "      <td>NaN</td>\n",
       "      <td>0</td>\n",
       "    </tr>\n",
       "    <tr>\n",
       "      <th>3</th>\n",
       "      <td>stackcapitalgroup.com</td>\n",
       "      <td>[stackcapitalgroup.com]</td>\n",
       "      <td>1.0</td>\n",
       "      <td>1</td>\n",
       "    </tr>\n",
       "    <tr>\n",
       "      <th>4</th>\n",
       "      <td>chevychasetrust.com</td>\n",
       "      <td>[chevychasetrust.com]</td>\n",
       "      <td>1.0</td>\n",
       "      <td>1</td>\n",
       "    </tr>\n",
       "  </tbody>\n",
       "</table>\n",
       "</div>"
      ],
      "text/plain": [
       "                                           investors  \\\n",
       "0                                                NaN   \n",
       "1  avivainvestors.com, lloydsbankinggroup.com, sa...   \n",
       "2                                                NaN   \n",
       "3                              stackcapitalgroup.com   \n",
       "4                                chevychasetrust.com   \n",
       "\n",
       "                                      investors_list  investors_count  \\\n",
       "0                                                 []              NaN   \n",
       "1  [avivainvestors.com, lloydsbankinggroup.com, s...              9.0   \n",
       "2                                                 []              NaN   \n",
       "3                            [stackcapitalgroup.com]              1.0   \n",
       "4                              [chevychasetrust.com]              1.0   \n",
       "\n",
       "   investors_count_derived  \n",
       "0                        0  \n",
       "1                        9  \n",
       "2                        0  \n",
       "3                        1  \n",
       "4                        1  "
      ]
     },
     "execution_count": 36,
     "metadata": {},
     "output_type": "execute_result"
    }
   ],
   "source": [
    "# split and clean investors\n",
    "def split_investors(text):\n",
    "    if pd.isna(text) or str(text).strip() == \"\":\n",
    "        return []\n",
    "    # Split by commas, 'and', or '&'\n",
    "    parts = re.split(r\",| and | & \", str(text), flags=re.IGNORECASE)\n",
    "    cleaned = [p.strip() for p in parts if p.strip()]\n",
    "    # Deduplicate while keeping order\n",
    "    seen = set()\n",
    "    unique = []\n",
    "    for p in cleaned:\n",
    "        if p.lower() not in seen:\n",
    "            seen.add(p.lower())\n",
    "            unique.append(p)\n",
    "    return unique\n",
    "\n",
    "# Apply function\n",
    "data[\"investors_list\"] = data[\"investors\"].apply(split_investors)\n",
    "data[\"investors_count_derived\"] = data[\"investors_list\"].apply(len)\n",
    "\n",
    "# Compare with original investors_count column\n",
    "data[[\"investors\", \"investors_list\", \"investors_count\", \"investors_count_derived\"]].head()\n"
   ]
  },
  {
   "cell_type": "markdown",
   "id": "592701b7",
   "metadata": {},
   "source": [
    "``` Cleaning Investors\n",
    "\n",
    " The `investors` column was originally a long text string with multiple investor names separated by commas, \"and\", or \"&\".  \n",
    " We cleaned it by:\n",
    "   Splitting text into **individual investor names**.  \n",
    "   Stripping extra spaces and normalizing case.  \n",
    "   Removing duplicates while keeping the first occurrence.  \n",
    " A new column `investors_list` stores investors as a Python list.  \n",
    " A derived column `investors_count_derived` was added to compare with the original `investors_count`.  \n",
    "\n",
    "✅ Example:  \n",
    "`\"avivainvestors.com, lloydsbankinggroup.com, santander.com\"`  \n",
    "→ `['avivainvestors.com', 'lloydsbankinggroup.com', 'santander.com']` with `investors_count_derived = 3`\n",
    "```"
   ]
  },
  {
   "cell_type": "code",
   "execution_count": 37,
   "id": "96ed6cc9",
   "metadata": {},
   "outputs": [
    {
     "data": {
      "application/vnd.microsoft.datawrangler.viewer.v0+json": {
       "columns": [
        {
         "name": "index",
         "rawType": "int64",
         "type": "integer"
        },
        {
         "name": "amount",
         "rawType": "object",
         "type": "string"
        },
        {
         "name": "amount_parsed",
         "rawType": "float64",
         "type": "float"
        },
        {
         "name": "amount_normalized",
         "rawType": "int64",
         "type": "integer"
        }
       ],
       "ref": "81c9a1ce-bf6f-4ea9-9837-613f7fd61867",
       "rows": [
        [
         "0",
         "$1.9b",
         "1900000000.0",
         "1900000000"
        ],
        [
         "1",
         "$522.7 million",
         "522700000.00000006",
         "522700000"
        ],
        [
         "2",
         "£41.7m",
         "41700000.0",
         "53671000"
        ],
        [
         "3",
         "US$8 million",
         "8000000.0",
         "8000000"
        ],
        [
         "4",
         "$1.96 million",
         "1960000.0",
         "1960000"
        ]
       ],
       "shape": {
        "columns": 3,
        "rows": 5
       }
      },
      "text/html": [
       "<div>\n",
       "<style scoped>\n",
       "    .dataframe tbody tr th:only-of-type {\n",
       "        vertical-align: middle;\n",
       "    }\n",
       "\n",
       "    .dataframe tbody tr th {\n",
       "        vertical-align: top;\n",
       "    }\n",
       "\n",
       "    .dataframe thead th {\n",
       "        text-align: right;\n",
       "    }\n",
       "</style>\n",
       "<table border=\"1\" class=\"dataframe\">\n",
       "  <thead>\n",
       "    <tr style=\"text-align: right;\">\n",
       "      <th></th>\n",
       "      <th>amount</th>\n",
       "      <th>amount_parsed</th>\n",
       "      <th>amount_normalized</th>\n",
       "    </tr>\n",
       "  </thead>\n",
       "  <tbody>\n",
       "    <tr>\n",
       "      <th>0</th>\n",
       "      <td>$1.9b</td>\n",
       "      <td>1.900000e+09</td>\n",
       "      <td>1900000000</td>\n",
       "    </tr>\n",
       "    <tr>\n",
       "      <th>1</th>\n",
       "      <td>$522.7 million</td>\n",
       "      <td>5.227000e+08</td>\n",
       "      <td>522700000</td>\n",
       "    </tr>\n",
       "    <tr>\n",
       "      <th>2</th>\n",
       "      <td>£41.7m</td>\n",
       "      <td>4.170000e+07</td>\n",
       "      <td>53671000</td>\n",
       "    </tr>\n",
       "    <tr>\n",
       "      <th>3</th>\n",
       "      <td>US$8 million</td>\n",
       "      <td>8.000000e+06</td>\n",
       "      <td>8000000</td>\n",
       "    </tr>\n",
       "    <tr>\n",
       "      <th>4</th>\n",
       "      <td>$1.96 million</td>\n",
       "      <td>1.960000e+06</td>\n",
       "      <td>1960000</td>\n",
       "    </tr>\n",
       "  </tbody>\n",
       "</table>\n",
       "</div>"
      ],
      "text/plain": [
       "           amount  amount_parsed  amount_normalized\n",
       "0           $1.9b   1.900000e+09         1900000000\n",
       "1  $522.7 million   5.227000e+08          522700000\n",
       "2          £41.7m   4.170000e+07           53671000\n",
       "3    US$8 million   8.000000e+06            8000000\n",
       "4   $1.96 million   1.960000e+06            1960000"
      ]
     },
     "execution_count": 37,
     "metadata": {},
     "output_type": "execute_result"
    }
   ],
   "source": [
    "# clean and parse 'amount' values\n",
    "def parse_amount(value):\n",
    "    if pd.isna(value):\n",
    "        return np.nan\n",
    "    s = str(value).lower().replace(\",\", \"\").strip()\n",
    "\n",
    "    # Multiplier for scale\n",
    "    mult = 1\n",
    "    if \"billion\" in s:\n",
    "        mult = 1e9\n",
    "        s = s.replace(\"billion\", \"\")\n",
    "    elif \"million\" in s:\n",
    "        mult = 1e6\n",
    "        s = s.replace(\"million\", \"\")\n",
    "    elif s.endswith(\"b\"):\n",
    "        mult = 1e9\n",
    "        s = s[:-1]\n",
    "    elif s.endswith(\"m\"):\n",
    "        mult = 1e6\n",
    "        s = s[:-1]\n",
    "\n",
    "    # Remove currency symbols\n",
    "    s = re.sub(r\"[^0-9.]\", \"\", s)\n",
    "\n",
    "    # Convert to float\n",
    "    return float(s) * mult if s else np.nan\n",
    "\n",
    "# Apply function\n",
    "data[\"amount_parsed\"] = data[\"amount\"].apply(parse_amount)\n",
    "\n",
    "# Compare original vs parsed vs normalized\n",
    "data[[\"amount\", \"amount_parsed\", \"amount_normalized\"]].head()\n"
   ]
  },
  {
   "cell_type": "markdown",
   "id": "32b47cca",
   "metadata": {},
   "source": [
    "``` Cleaning Amounts\n",
    "\n",
    " The `amount` column was inconsistent, with formats such as `$1.9b`, `£41.7m`, `US$8 million`.  \n",
    " We built a parser that:\n",
    "   Recognizes suffixes (`b`, `m`, `billion`, `million`).  \n",
    "   Removes currency symbols ($, £, ₦, €).  \n",
    "   Converts everything into a clean **numeric value** (`amount_parsed`).  \n",
    " We then compared it with the provided `amount_normalized` to ensure consistency.  \n",
    "\n",
    "✅ Example:  \n",
    " `$1.9b` → `1,900,000,000`  \n",
    " `£41.7m` → `41,700,000`  \n",
    " `US$8 million` → `8,000,000`\n",
    "```"
   ]
  },
  {
   "cell_type": "code",
   "execution_count": 38,
   "id": "28338d56",
   "metadata": {},
   "outputs": [
    {
     "name": "stdout",
     "output_type": "stream",
     "text": [
      "✅ Cleaned dataset saved successfully as 'business_funding_cleaned.csv'\n"
     ]
    }
   ],
   "source": [
    "#Save the cleaned dataset\n",
    "data.to_csv(\"business_ataunding_cleaned.csv\", index=False)\n",
    "\n",
    "print(\"✅ Cleaned dataset saved successfully as 'business_funding_cleaned.csv'\")\n"
   ]
  },
  {
   "cell_type": "markdown",
   "id": "d755634c",
   "metadata": {},
   "source": [
    "``` Saving the Cleaned Dataset\n",
    "\n",
    " After cleaning and transforming the data, we exported it to a new file called **`business_funding_cleaned.csv`**.  \n",
    " This file is now:\n",
    "   Free from messy formats in `Amount`.  \n",
    "   Equipped with structured lists for `Categories` and `Investors`.  \n",
    "   Has proper datetime columns for `found_at` and `effective_date`.  \n",
    "   Includes derived helper columns such as `n_categories`, `investors_list`, `investors_count_derived`, and `amount_parsed`.  \n",
    " This dataset is **ready for analysis** in further assignments or machine learning projects.\n",
    "```"
   ]
  },
  {
   "cell_type": "code",
   "execution_count": null,
   "id": "30d5c51b",
   "metadata": {},
   "outputs": [],
   "source": []
  }
 ],
 "metadata": {
  "kernelspec": {
   "display_name": "Python 3",
   "language": "python",
   "name": "python3"
  },
  "language_info": {
   "codemirror_mode": {
    "name": "ipython",
    "version": 3
   },
   "file_extension": ".py",
   "mimetype": "text/x-python",
   "name": "python",
   "nbconvert_exporter": "python",
   "pygments_lexer": "ipython3",
   "version": "3.12.0"
  }
 },
 "nbformat": 4,
 "nbformat_minor": 5
}
