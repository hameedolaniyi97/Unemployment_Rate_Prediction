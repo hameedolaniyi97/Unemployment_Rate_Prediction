{
 "cells": [
  {
   "cell_type": "code",
   "execution_count": 1,
   "id": "afbaa2a8",
   "metadata": {},
   "outputs": [],
   "source": [
    "import optuna \n",
    "import lazypredict\n",
    "\n",
    "import pandas as pd \n",
    "import numpy as np \n",
    "from sklearn.model_selection import train_test_split,cross_val_score, StratifiedKFold\n",
    "from sklearn.ensemble import RandomForestClassifier\n",
    "from sklearn.metrics import classification_report, confusion_matrix, make_scorer, f1_score\n",
    "from sklearn.preprocessing import LabelEncoder, StandardScaler\n",
    "\n",
    "\n"
   ]
  },
  {
   "cell_type": "code",
   "execution_count": 2,
   "id": "495bad46",
   "metadata": {},
   "outputs": [
    {
     "data": {
      "text/plain": [
       "<bound method NDFrame.head of        num_passengers sales_channel  trip_type  purchase_lead  length_of_stay  \\\n",
       "0                   2      Internet  RoundTrip            262              19   \n",
       "1                   1      Internet  RoundTrip            112              20   \n",
       "2                   2      Internet  RoundTrip            243              22   \n",
       "3                   1      Internet  RoundTrip             96              31   \n",
       "4                   2      Internet  RoundTrip             68              22   \n",
       "...               ...           ...        ...            ...             ...   \n",
       "49995               2      Internet  RoundTrip             27               6   \n",
       "49996               1      Internet  RoundTrip            111               6   \n",
       "49997               1      Internet  RoundTrip             24               6   \n",
       "49998               1      Internet  RoundTrip             15               6   \n",
       "49999               1      Internet  RoundTrip             19               6   \n",
       "\n",
       "       flight_hour flight_day   route booking_origin  wants_extra_baggage  \\\n",
       "0                7        Sat  AKLDEL    New Zealand                    1   \n",
       "1                3        Sat  AKLDEL    New Zealand                    0   \n",
       "2               17        Wed  AKLDEL          India                    1   \n",
       "3                4        Sat  AKLDEL    New Zealand                    0   \n",
       "4               15        Wed  AKLDEL          India                    1   \n",
       "...            ...        ...     ...            ...                  ...   \n",
       "49995            9        Sat  PERPNH      Australia                    1   \n",
       "49996            4        Sun  PERPNH      Australia                    0   \n",
       "49997           22        Sat  PERPNH      Australia                    0   \n",
       "49998           11        Mon  PERPNH      Australia                    1   \n",
       "49999           10        Thu  PERPNH      Australia                    0   \n",
       "\n",
       "       wants_preferred_seat  wants_in_flight_meals  flight_duration  \\\n",
       "0                         0                      0             5.52   \n",
       "1                         0                      0             5.52   \n",
       "2                         1                      0             5.52   \n",
       "3                         0                      1             5.52   \n",
       "4                         0                      1             5.52   \n",
       "...                     ...                    ...              ...   \n",
       "49995                     0                      1             5.62   \n",
       "49996                     0                      0             5.62   \n",
       "49997                     0                      1             5.62   \n",
       "49998                     0                      1             5.62   \n",
       "49999                     1                      0             5.62   \n",
       "\n",
       "       booking_complete  \n",
       "0                     0  \n",
       "1                     0  \n",
       "2                     0  \n",
       "3                     0  \n",
       "4                     0  \n",
       "...                 ...  \n",
       "49995                 0  \n",
       "49996                 0  \n",
       "49997                 0  \n",
       "49998                 0  \n",
       "49999                 0  \n",
       "\n",
       "[50000 rows x 14 columns]>"
      ]
     },
     "execution_count": 2,
     "metadata": {},
     "output_type": "execute_result"
    }
   ],
   "source": [
    "data = pd.read_csv(\"customer_booking.csv\", encoding=\"ISO-8859-1\")\n",
    "data.head"
   ]
  },
  {
   "cell_type": "code",
   "execution_count": 3,
   "id": "0f6d9e14",
   "metadata": {},
   "outputs": [
    {
     "name": "stdout",
     "output_type": "stream",
     "text": [
      "<class 'pandas.core.frame.DataFrame'>\n",
      "RangeIndex: 50000 entries, 0 to 49999\n",
      "Data columns (total 14 columns):\n",
      " #   Column                 Non-Null Count  Dtype  \n",
      "---  ------                 --------------  -----  \n",
      " 0   num_passengers         50000 non-null  int64  \n",
      " 1   sales_channel          50000 non-null  object \n",
      " 2   trip_type              50000 non-null  object \n",
      " 3   purchase_lead          50000 non-null  int64  \n",
      " 4   length_of_stay         50000 non-null  int64  \n",
      " 5   flight_hour            50000 non-null  int64  \n",
      " 6   flight_day             50000 non-null  object \n",
      " 7   route                  50000 non-null  object \n",
      " 8   booking_origin         50000 non-null  object \n",
      " 9   wants_extra_baggage    50000 non-null  int64  \n",
      " 10  wants_preferred_seat   50000 non-null  int64  \n",
      " 11  wants_in_flight_meals  50000 non-null  int64  \n",
      " 12  flight_duration        50000 non-null  float64\n",
      " 13  booking_complete       50000 non-null  int64  \n",
      "dtypes: float64(1), int64(8), object(5)\n",
      "memory usage: 5.3+ MB\n"
     ]
    }
   ],
   "source": [
    "data.info()"
   ]
  },
  {
   "cell_type": "code",
   "execution_count": 4,
   "id": "ba73c737",
   "metadata": {},
   "outputs": [
    {
     "data": {
      "text/plain": [
       "array(['Sat', 'Wed', 'Thu', 'Mon', 'Sun', 'Tue', 'Fri'], dtype=object)"
      ]
     },
     "execution_count": 4,
     "metadata": {},
     "output_type": "execute_result"
    }
   ],
   "source": [
    "data[\"flight_day\"].unique()"
   ]
  },
  {
   "cell_type": "code",
   "execution_count": 5,
   "id": "a804ac20",
   "metadata": {},
   "outputs": [],
   "source": [
    "mapping = {\n",
    "    \"Mon\": 1,\n",
    "    \"Tue\": 2,\n",
    "    \"Wed\": 3,\n",
    "    \"Thu\": 4,\n",
    "    \"Fri\": 5,\n",
    "    \"Sat\": 6,\n",
    "    \"Sun\": 7,\n",
    "}\n",
    "\n",
    "data[\"flight_day\"] = data[\"flight_day\"].map(mapping)"
   ]
  },
  {
   "cell_type": "code",
   "execution_count": 6,
   "id": "40541de1",
   "metadata": {},
   "outputs": [
    {
     "data": {
      "text/plain": [
       "array([6, 3, 4, 1, 7, 2, 5], dtype=int64)"
      ]
     },
     "execution_count": 6,
     "metadata": {},
     "output_type": "execute_result"
    }
   ],
   "source": [
    "data[\"flight_day\"].unique()"
   ]
  },
  {
   "cell_type": "code",
   "execution_count": 7,
   "id": "f2b01c85",
   "metadata": {},
   "outputs": [
    {
     "data": {
      "application/vnd.microsoft.datawrangler.viewer.v0+json": {
       "columns": [
        {
         "name": "index",
         "rawType": "object",
         "type": "string"
        },
        {
         "name": "num_passengers",
         "rawType": "float64",
         "type": "float"
        },
        {
         "name": "purchase_lead",
         "rawType": "float64",
         "type": "float"
        },
        {
         "name": "length_of_stay",
         "rawType": "float64",
         "type": "float"
        },
        {
         "name": "flight_hour",
         "rawType": "float64",
         "type": "float"
        },
        {
         "name": "flight_day",
         "rawType": "float64",
         "type": "float"
        },
        {
         "name": "wants_extra_baggage",
         "rawType": "float64",
         "type": "float"
        },
        {
         "name": "wants_preferred_seat",
         "rawType": "float64",
         "type": "float"
        },
        {
         "name": "wants_in_flight_meals",
         "rawType": "float64",
         "type": "float"
        },
        {
         "name": "flight_duration",
         "rawType": "float64",
         "type": "float"
        },
        {
         "name": "booking_complete",
         "rawType": "float64",
         "type": "float"
        }
       ],
       "ref": "99b8eb39-9620-4915-9c1f-770cd71e5438",
       "rows": [
        [
         "count",
         "50000.0",
         "50000.0",
         "50000.0",
         "50000.0",
         "50000.0",
         "50000.0",
         "50000.0",
         "50000.0",
         "50000.0",
         "50000.0"
        ],
        [
         "mean",
         "1.59124",
         "84.94048",
         "23.04456",
         "9.06634",
         "3.81442",
         "0.66878",
         "0.29696",
         "0.42714",
         "7.2775608",
         "0.14956"
        ],
        [
         "std",
         "1.0201647303849517",
         "90.45137813436357",
         "33.88767005694912",
         "5.412659692064789",
         "1.992791882758658",
         "0.4706567134916728",
         "0.4569233349027356",
         "0.4946678828529746",
         "1.496862916326865",
         "0.35664316941035484"
        ],
        [
         "min",
         "1.0",
         "0.0",
         "0.0",
         "0.0",
         "1.0",
         "0.0",
         "0.0",
         "0.0",
         "4.67",
         "0.0"
        ],
        [
         "25%",
         "1.0",
         "21.0",
         "5.0",
         "5.0",
         "2.0",
         "0.0",
         "0.0",
         "0.0",
         "5.62",
         "0.0"
        ],
        [
         "50%",
         "1.0",
         "51.0",
         "17.0",
         "9.0",
         "4.0",
         "1.0",
         "0.0",
         "0.0",
         "7.57",
         "0.0"
        ],
        [
         "75%",
         "2.0",
         "115.0",
         "28.0",
         "13.0",
         "5.0",
         "1.0",
         "1.0",
         "1.0",
         "8.83",
         "0.0"
        ],
        [
         "max",
         "9.0",
         "867.0",
         "778.0",
         "23.0",
         "7.0",
         "1.0",
         "1.0",
         "1.0",
         "9.5",
         "1.0"
        ]
       ],
       "shape": {
        "columns": 10,
        "rows": 8
       }
      },
      "text/html": [
       "<div>\n",
       "<style scoped>\n",
       "    .dataframe tbody tr th:only-of-type {\n",
       "        vertical-align: middle;\n",
       "    }\n",
       "\n",
       "    .dataframe tbody tr th {\n",
       "        vertical-align: top;\n",
       "    }\n",
       "\n",
       "    .dataframe thead th {\n",
       "        text-align: right;\n",
       "    }\n",
       "</style>\n",
       "<table border=\"1\" class=\"dataframe\">\n",
       "  <thead>\n",
       "    <tr style=\"text-align: right;\">\n",
       "      <th></th>\n",
       "      <th>num_passengers</th>\n",
       "      <th>purchase_lead</th>\n",
       "      <th>length_of_stay</th>\n",
       "      <th>flight_hour</th>\n",
       "      <th>flight_day</th>\n",
       "      <th>wants_extra_baggage</th>\n",
       "      <th>wants_preferred_seat</th>\n",
       "      <th>wants_in_flight_meals</th>\n",
       "      <th>flight_duration</th>\n",
       "      <th>booking_complete</th>\n",
       "    </tr>\n",
       "  </thead>\n",
       "  <tbody>\n",
       "    <tr>\n",
       "      <th>count</th>\n",
       "      <td>50000.000000</td>\n",
       "      <td>50000.000000</td>\n",
       "      <td>50000.00000</td>\n",
       "      <td>50000.00000</td>\n",
       "      <td>50000.000000</td>\n",
       "      <td>50000.000000</td>\n",
       "      <td>50000.000000</td>\n",
       "      <td>50000.000000</td>\n",
       "      <td>50000.000000</td>\n",
       "      <td>50000.000000</td>\n",
       "    </tr>\n",
       "    <tr>\n",
       "      <th>mean</th>\n",
       "      <td>1.591240</td>\n",
       "      <td>84.940480</td>\n",
       "      <td>23.04456</td>\n",
       "      <td>9.06634</td>\n",
       "      <td>3.814420</td>\n",
       "      <td>0.668780</td>\n",
       "      <td>0.296960</td>\n",
       "      <td>0.427140</td>\n",
       "      <td>7.277561</td>\n",
       "      <td>0.149560</td>\n",
       "    </tr>\n",
       "    <tr>\n",
       "      <th>std</th>\n",
       "      <td>1.020165</td>\n",
       "      <td>90.451378</td>\n",
       "      <td>33.88767</td>\n",
       "      <td>5.41266</td>\n",
       "      <td>1.992792</td>\n",
       "      <td>0.470657</td>\n",
       "      <td>0.456923</td>\n",
       "      <td>0.494668</td>\n",
       "      <td>1.496863</td>\n",
       "      <td>0.356643</td>\n",
       "    </tr>\n",
       "    <tr>\n",
       "      <th>min</th>\n",
       "      <td>1.000000</td>\n",
       "      <td>0.000000</td>\n",
       "      <td>0.00000</td>\n",
       "      <td>0.00000</td>\n",
       "      <td>1.000000</td>\n",
       "      <td>0.000000</td>\n",
       "      <td>0.000000</td>\n",
       "      <td>0.000000</td>\n",
       "      <td>4.670000</td>\n",
       "      <td>0.000000</td>\n",
       "    </tr>\n",
       "    <tr>\n",
       "      <th>25%</th>\n",
       "      <td>1.000000</td>\n",
       "      <td>21.000000</td>\n",
       "      <td>5.00000</td>\n",
       "      <td>5.00000</td>\n",
       "      <td>2.000000</td>\n",
       "      <td>0.000000</td>\n",
       "      <td>0.000000</td>\n",
       "      <td>0.000000</td>\n",
       "      <td>5.620000</td>\n",
       "      <td>0.000000</td>\n",
       "    </tr>\n",
       "    <tr>\n",
       "      <th>50%</th>\n",
       "      <td>1.000000</td>\n",
       "      <td>51.000000</td>\n",
       "      <td>17.00000</td>\n",
       "      <td>9.00000</td>\n",
       "      <td>4.000000</td>\n",
       "      <td>1.000000</td>\n",
       "      <td>0.000000</td>\n",
       "      <td>0.000000</td>\n",
       "      <td>7.570000</td>\n",
       "      <td>0.000000</td>\n",
       "    </tr>\n",
       "    <tr>\n",
       "      <th>75%</th>\n",
       "      <td>2.000000</td>\n",
       "      <td>115.000000</td>\n",
       "      <td>28.00000</td>\n",
       "      <td>13.00000</td>\n",
       "      <td>5.000000</td>\n",
       "      <td>1.000000</td>\n",
       "      <td>1.000000</td>\n",
       "      <td>1.000000</td>\n",
       "      <td>8.830000</td>\n",
       "      <td>0.000000</td>\n",
       "    </tr>\n",
       "    <tr>\n",
       "      <th>max</th>\n",
       "      <td>9.000000</td>\n",
       "      <td>867.000000</td>\n",
       "      <td>778.00000</td>\n",
       "      <td>23.00000</td>\n",
       "      <td>7.000000</td>\n",
       "      <td>1.000000</td>\n",
       "      <td>1.000000</td>\n",
       "      <td>1.000000</td>\n",
       "      <td>9.500000</td>\n",
       "      <td>1.000000</td>\n",
       "    </tr>\n",
       "  </tbody>\n",
       "</table>\n",
       "</div>"
      ],
      "text/plain": [
       "       num_passengers  purchase_lead  length_of_stay  flight_hour  \\\n",
       "count    50000.000000   50000.000000     50000.00000  50000.00000   \n",
       "mean         1.591240      84.940480        23.04456      9.06634   \n",
       "std          1.020165      90.451378        33.88767      5.41266   \n",
       "min          1.000000       0.000000         0.00000      0.00000   \n",
       "25%          1.000000      21.000000         5.00000      5.00000   \n",
       "50%          1.000000      51.000000        17.00000      9.00000   \n",
       "75%          2.000000     115.000000        28.00000     13.00000   \n",
       "max          9.000000     867.000000       778.00000     23.00000   \n",
       "\n",
       "         flight_day  wants_extra_baggage  wants_preferred_seat  \\\n",
       "count  50000.000000         50000.000000          50000.000000   \n",
       "mean       3.814420             0.668780              0.296960   \n",
       "std        1.992792             0.470657              0.456923   \n",
       "min        1.000000             0.000000              0.000000   \n",
       "25%        2.000000             0.000000              0.000000   \n",
       "50%        4.000000             1.000000              0.000000   \n",
       "75%        5.000000             1.000000              1.000000   \n",
       "max        7.000000             1.000000              1.000000   \n",
       "\n",
       "       wants_in_flight_meals  flight_duration  booking_complete  \n",
       "count           50000.000000     50000.000000      50000.000000  \n",
       "mean                0.427140         7.277561          0.149560  \n",
       "std                 0.494668         1.496863          0.356643  \n",
       "min                 0.000000         4.670000          0.000000  \n",
       "25%                 0.000000         5.620000          0.000000  \n",
       "50%                 0.000000         7.570000          0.000000  \n",
       "75%                 1.000000         8.830000          0.000000  \n",
       "max                 1.000000         9.500000          1.000000  "
      ]
     },
     "execution_count": 7,
     "metadata": {},
     "output_type": "execute_result"
    }
   ],
   "source": [
    "data.describe()"
   ]
  },
  {
   "cell_type": "code",
   "execution_count": 8,
   "id": "be3bdd11",
   "metadata": {},
   "outputs": [
    {
     "data": {
      "application/vnd.microsoft.datawrangler.viewer.v0+json": {
       "columns": [
        {
         "name": "index",
         "rawType": "object",
         "type": "string"
        },
        {
         "name": "0",
         "rawType": "object",
         "type": "unknown"
        }
       ],
       "ref": "625533d5-c4f5-4b36-aed7-22c9754e0517",
       "rows": [
        [
         "num_passengers",
         "int64"
        ],
        [
         "sales_channel",
         "object"
        ],
        [
         "trip_type",
         "object"
        ],
        [
         "purchase_lead",
         "int64"
        ],
        [
         "length_of_stay",
         "int64"
        ],
        [
         "flight_hour",
         "int64"
        ],
        [
         "flight_day",
         "int64"
        ],
        [
         "route",
         "object"
        ],
        [
         "booking_origin",
         "object"
        ],
        [
         "wants_extra_baggage",
         "int64"
        ],
        [
         "wants_preferred_seat",
         "int64"
        ],
        [
         "wants_in_flight_meals",
         "int64"
        ],
        [
         "flight_duration",
         "float64"
        ],
        [
         "booking_complete",
         "int64"
        ]
       ],
       "shape": {
        "columns": 1,
        "rows": 14
       }
      },
      "text/plain": [
       "num_passengers             int64\n",
       "sales_channel             object\n",
       "trip_type                 object\n",
       "purchase_lead              int64\n",
       "length_of_stay             int64\n",
       "flight_hour                int64\n",
       "flight_day                 int64\n",
       "route                     object\n",
       "booking_origin            object\n",
       "wants_extra_baggage        int64\n",
       "wants_preferred_seat       int64\n",
       "wants_in_flight_meals      int64\n",
       "flight_duration          float64\n",
       "booking_complete           int64\n",
       "dtype: object"
      ]
     },
     "execution_count": 8,
     "metadata": {},
     "output_type": "execute_result"
    }
   ],
   "source": [
    "data.dtypes"
   ]
  },
  {
   "cell_type": "code",
   "execution_count": 9,
   "id": "552a24e3",
   "metadata": {},
   "outputs": [
    {
     "data": {
      "application/vnd.microsoft.datawrangler.viewer.v0+json": {
       "columns": [
        {
         "name": "booking_complete",
         "rawType": "int64",
         "type": "integer"
        },
        {
         "name": "proportion",
         "rawType": "float64",
         "type": "float"
        }
       ],
       "ref": "2bdce709-9b0a-485c-ae60-2cab49ba8b8d",
       "rows": [
        [
         "0",
         "85.044"
        ],
        [
         "1",
         "14.956"
        ]
       ],
       "shape": {
        "columns": 1,
        "rows": 2
       }
      },
      "text/plain": [
       "booking_complete\n",
       "0    85.044\n",
       "1    14.956\n",
       "Name: proportion, dtype: float64"
      ]
     },
     "execution_count": 9,
     "metadata": {},
     "output_type": "execute_result"
    }
   ],
   "source": [
    "# Check Class Imbalance\n",
    "data['booking_complete'].value_counts(normalize=True) * 100"
   ]
  },
  {
   "cell_type": "code",
   "execution_count": 10,
   "id": "c4a0da26",
   "metadata": {},
   "outputs": [
    {
     "data": {
      "application/vnd.microsoft.datawrangler.viewer.v0+json": {
       "columns": [
        {
         "name": "index",
         "rawType": "object",
         "type": "string"
        },
        {
         "name": "0",
         "rawType": "int64",
         "type": "integer"
        }
       ],
       "ref": "f2d91a9b-4984-48b5-98f2-1f5ea36396ba",
       "rows": [
        [
         "num_passengers",
         "9"
        ],
        [
         "sales_channel",
         "2"
        ],
        [
         "trip_type",
         "3"
        ],
        [
         "purchase_lead",
         "470"
        ],
        [
         "length_of_stay",
         "335"
        ],
        [
         "flight_hour",
         "24"
        ],
        [
         "flight_day",
         "7"
        ],
        [
         "route",
         "799"
        ],
        [
         "booking_origin",
         "104"
        ],
        [
         "wants_extra_baggage",
         "2"
        ],
        [
         "wants_preferred_seat",
         "2"
        ],
        [
         "wants_in_flight_meals",
         "2"
        ],
        [
         "flight_duration",
         "21"
        ],
        [
         "booking_complete",
         "2"
        ]
       ],
       "shape": {
        "columns": 1,
        "rows": 14
       }
      },
      "text/plain": [
       "num_passengers             9\n",
       "sales_channel              2\n",
       "trip_type                  3\n",
       "purchase_lead            470\n",
       "length_of_stay           335\n",
       "flight_hour               24\n",
       "flight_day                 7\n",
       "route                    799\n",
       "booking_origin           104\n",
       "wants_extra_baggage        2\n",
       "wants_preferred_seat       2\n",
       "wants_in_flight_meals      2\n",
       "flight_duration           21\n",
       "booking_complete           2\n",
       "dtype: int64"
      ]
     },
     "execution_count": 10,
     "metadata": {},
     "output_type": "execute_result"
    }
   ],
   "source": [
    "# Check Cardinality of All Features\n",
    "data.nunique()"
   ]
  },
  {
   "cell_type": "code",
   "execution_count": 11,
   "id": "816233cb",
   "metadata": {},
   "outputs": [],
   "source": [
    "# split route into origin and destination \n",
    "data[[\"origin\", 'destination']] = data['route'].str.extract(r'([A-Z]{3})([A-Z]{3})')"
   ]
  },
  {
   "cell_type": "code",
   "execution_count": 12,
   "id": "458f8d17",
   "metadata": {},
   "outputs": [],
   "source": [
    "# create time_of_day from flight_hour\n",
    "def get_time_of_day(hour):\n",
    "    if 5 <= hour < 12:\n",
    "        return \"Morning\"\n",
    "    elif 12 <= hour < 17:\n",
    "        return 'Afternoon'\n",
    "    elif 17 <= hour <21:\n",
    "        return 'Evening'\n",
    "    else:\n",
    "        return \"Night\"\n",
    "    \n",
    "\n",
    "data['time_of_day'] = data['flight_hour'].apply(get_time_of_day)"
   ]
  },
  {
   "cell_type": "code",
   "execution_count": 13,
   "id": "0f609d20",
   "metadata": {},
   "outputs": [],
   "source": [
    "# create long_haul flag from flight_duration \n",
    "data['long_haul'] = data['flight_duration'].apply(lambda x: 1 if x >7 else 0)"
   ]
  },
  {
   "cell_type": "code",
   "execution_count": 14,
   "id": "9e958bdd",
   "metadata": {},
   "outputs": [],
   "source": [
    "# group less frequent as other \n",
    "top_countries = data['booking_origin'].value_counts().nlargest(10).index\n",
    "data['booking_origin_grouped'] = data['booking_origin'].apply(lambda x: x if x in top_countries else 'Other')\n"
   ]
  },
  {
   "cell_type": "code",
   "execution_count": 15,
   "id": "a31c29e7",
   "metadata": {},
   "outputs": [
    {
     "data": {
      "application/vnd.microsoft.datawrangler.viewer.v0+json": {
       "columns": [
        {
         "name": "index",
         "rawType": "int64",
         "type": "integer"
        },
        {
         "name": "route",
         "rawType": "object",
         "type": "string"
        },
        {
         "name": "origin",
         "rawType": "object",
         "type": "string"
        },
        {
         "name": "destination",
         "rawType": "object",
         "type": "string"
        },
        {
         "name": "flight_hour",
         "rawType": "int64",
         "type": "integer"
        },
        {
         "name": "time_of_day",
         "rawType": "object",
         "type": "string"
        },
        {
         "name": "flight_duration",
         "rawType": "float64",
         "type": "float"
        },
        {
         "name": "long_haul",
         "rawType": "int64",
         "type": "integer"
        },
        {
         "name": "booking_origin",
         "rawType": "object",
         "type": "string"
        },
        {
         "name": "booking_origin_grouped",
         "rawType": "object",
         "type": "string"
        }
       ],
       "ref": "afcd58d6-1559-4cdb-ad7f-1a572b5b5286",
       "rows": [
        [
         "0",
         "AKLDEL",
         "AKL",
         "DEL",
         "7",
         "Morning",
         "5.52",
         "0",
         "New Zealand",
         "New Zealand"
        ],
        [
         "1",
         "AKLDEL",
         "AKL",
         "DEL",
         "3",
         "Night",
         "5.52",
         "0",
         "New Zealand",
         "New Zealand"
        ],
        [
         "2",
         "AKLDEL",
         "AKL",
         "DEL",
         "17",
         "Evening",
         "5.52",
         "0",
         "India",
         "India"
        ],
        [
         "3",
         "AKLDEL",
         "AKL",
         "DEL",
         "4",
         "Night",
         "5.52",
         "0",
         "New Zealand",
         "New Zealand"
        ],
        [
         "4",
         "AKLDEL",
         "AKL",
         "DEL",
         "15",
         "Afternoon",
         "5.52",
         "0",
         "India",
         "India"
        ]
       ],
       "shape": {
        "columns": 9,
        "rows": 5
       }
      },
      "text/html": [
       "<div>\n",
       "<style scoped>\n",
       "    .dataframe tbody tr th:only-of-type {\n",
       "        vertical-align: middle;\n",
       "    }\n",
       "\n",
       "    .dataframe tbody tr th {\n",
       "        vertical-align: top;\n",
       "    }\n",
       "\n",
       "    .dataframe thead th {\n",
       "        text-align: right;\n",
       "    }\n",
       "</style>\n",
       "<table border=\"1\" class=\"dataframe\">\n",
       "  <thead>\n",
       "    <tr style=\"text-align: right;\">\n",
       "      <th></th>\n",
       "      <th>route</th>\n",
       "      <th>origin</th>\n",
       "      <th>destination</th>\n",
       "      <th>flight_hour</th>\n",
       "      <th>time_of_day</th>\n",
       "      <th>flight_duration</th>\n",
       "      <th>long_haul</th>\n",
       "      <th>booking_origin</th>\n",
       "      <th>booking_origin_grouped</th>\n",
       "    </tr>\n",
       "  </thead>\n",
       "  <tbody>\n",
       "    <tr>\n",
       "      <th>0</th>\n",
       "      <td>AKLDEL</td>\n",
       "      <td>AKL</td>\n",
       "      <td>DEL</td>\n",
       "      <td>7</td>\n",
       "      <td>Morning</td>\n",
       "      <td>5.52</td>\n",
       "      <td>0</td>\n",
       "      <td>New Zealand</td>\n",
       "      <td>New Zealand</td>\n",
       "    </tr>\n",
       "    <tr>\n",
       "      <th>1</th>\n",
       "      <td>AKLDEL</td>\n",
       "      <td>AKL</td>\n",
       "      <td>DEL</td>\n",
       "      <td>3</td>\n",
       "      <td>Night</td>\n",
       "      <td>5.52</td>\n",
       "      <td>0</td>\n",
       "      <td>New Zealand</td>\n",
       "      <td>New Zealand</td>\n",
       "    </tr>\n",
       "    <tr>\n",
       "      <th>2</th>\n",
       "      <td>AKLDEL</td>\n",
       "      <td>AKL</td>\n",
       "      <td>DEL</td>\n",
       "      <td>17</td>\n",
       "      <td>Evening</td>\n",
       "      <td>5.52</td>\n",
       "      <td>0</td>\n",
       "      <td>India</td>\n",
       "      <td>India</td>\n",
       "    </tr>\n",
       "    <tr>\n",
       "      <th>3</th>\n",
       "      <td>AKLDEL</td>\n",
       "      <td>AKL</td>\n",
       "      <td>DEL</td>\n",
       "      <td>4</td>\n",
       "      <td>Night</td>\n",
       "      <td>5.52</td>\n",
       "      <td>0</td>\n",
       "      <td>New Zealand</td>\n",
       "      <td>New Zealand</td>\n",
       "    </tr>\n",
       "    <tr>\n",
       "      <th>4</th>\n",
       "      <td>AKLDEL</td>\n",
       "      <td>AKL</td>\n",
       "      <td>DEL</td>\n",
       "      <td>15</td>\n",
       "      <td>Afternoon</td>\n",
       "      <td>5.52</td>\n",
       "      <td>0</td>\n",
       "      <td>India</td>\n",
       "      <td>India</td>\n",
       "    </tr>\n",
       "  </tbody>\n",
       "</table>\n",
       "</div>"
      ],
      "text/plain": [
       "    route origin destination  flight_hour time_of_day  flight_duration  \\\n",
       "0  AKLDEL    AKL         DEL            7     Morning             5.52   \n",
       "1  AKLDEL    AKL         DEL            3       Night             5.52   \n",
       "2  AKLDEL    AKL         DEL           17     Evening             5.52   \n",
       "3  AKLDEL    AKL         DEL            4       Night             5.52   \n",
       "4  AKLDEL    AKL         DEL           15   Afternoon             5.52   \n",
       "\n",
       "   long_haul booking_origin booking_origin_grouped  \n",
       "0          0    New Zealand            New Zealand  \n",
       "1          0    New Zealand            New Zealand  \n",
       "2          0          India                  India  \n",
       "3          0    New Zealand            New Zealand  \n",
       "4          0          India                  India  "
      ]
     },
     "execution_count": 15,
     "metadata": {},
     "output_type": "execute_result"
    }
   ],
   "source": [
    "# Preview new features\n",
    "data[['route', 'origin', 'destination', 'flight_hour', 'time_of_day', \n",
    "    'flight_duration', 'long_haul', 'booking_origin', 'booking_origin_grouped']].head()"
   ]
  },
  {
   "cell_type": "code",
   "execution_count": 16,
   "id": "60a48a5a",
   "metadata": {},
   "outputs": [],
   "source": [
    "# drop unused columns \n",
    "cleaned_data = data.drop(columns=[\n",
    "    'route', 'booking_origin', 'flight_hour'\n",
    "])"
   ]
  },
  {
   "cell_type": "code",
   "execution_count": 17,
   "id": "8272b249",
   "metadata": {},
   "outputs": [],
   "source": [
    "encoder = LabelEncoder()\n",
    "categorical_columns = list(cleaned_data.select_dtypes(include='object').columns)\n",
    "for col in categorical_columns:\n",
    "    encoder.fit(cleaned_data[col])\n",
    "    cleaned_data[col] = encoder.transform(cleaned_data[col])"
   ]
  },
  {
   "cell_type": "code",
   "execution_count": 18,
   "id": "bfca3b45",
   "metadata": {},
   "outputs": [
    {
     "data": {
      "application/vnd.microsoft.datawrangler.viewer.v0+json": {
       "columns": [
        {
         "name": "index",
         "rawType": "int64",
         "type": "integer"
        },
        {
         "name": "num_passengers",
         "rawType": "int64",
         "type": "integer"
        },
        {
         "name": "sales_channel",
         "rawType": "int32",
         "type": "integer"
        },
        {
         "name": "trip_type",
         "rawType": "int32",
         "type": "integer"
        },
        {
         "name": "purchase_lead",
         "rawType": "int64",
         "type": "integer"
        },
        {
         "name": "length_of_stay",
         "rawType": "int64",
         "type": "integer"
        },
        {
         "name": "flight_day",
         "rawType": "int64",
         "type": "integer"
        },
        {
         "name": "wants_extra_baggage",
         "rawType": "int64",
         "type": "integer"
        },
        {
         "name": "wants_preferred_seat",
         "rawType": "int64",
         "type": "integer"
        },
        {
         "name": "wants_in_flight_meals",
         "rawType": "int64",
         "type": "integer"
        },
        {
         "name": "flight_duration",
         "rawType": "float64",
         "type": "float"
        },
        {
         "name": "booking_complete",
         "rawType": "int64",
         "type": "integer"
        },
        {
         "name": "origin",
         "rawType": "int32",
         "type": "integer"
        },
        {
         "name": "destination",
         "rawType": "int32",
         "type": "integer"
        },
        {
         "name": "time_of_day",
         "rawType": "int32",
         "type": "integer"
        },
        {
         "name": "long_haul",
         "rawType": "int64",
         "type": "integer"
        },
        {
         "name": "booking_origin_grouped",
         "rawType": "int32",
         "type": "integer"
        }
       ],
       "ref": "5cef48b4-990c-4c9b-b4ba-d30cc5273206",
       "rows": [
        [
         "0",
         "2",
         "0",
         "2",
         "262",
         "19",
         "6",
         "1",
         "0",
         "0",
         "5.52",
         "0",
         "0",
         "4",
         "2",
         "0",
         "6"
        ],
        [
         "1",
         "1",
         "0",
         "2",
         "112",
         "20",
         "6",
         "0",
         "0",
         "0",
         "5.52",
         "0",
         "0",
         "4",
         "3",
         "0",
         "6"
        ],
        [
         "2",
         "2",
         "0",
         "2",
         "243",
         "22",
         "3",
         "1",
         "1",
         "0",
         "5.52",
         "0",
         "0",
         "4",
         "1",
         "0",
         "2"
        ],
        [
         "3",
         "1",
         "0",
         "2",
         "96",
         "31",
         "6",
         "0",
         "0",
         "1",
         "5.52",
         "0",
         "0",
         "4",
         "3",
         "0",
         "6"
        ],
        [
         "4",
         "2",
         "0",
         "2",
         "68",
         "22",
         "3",
         "1",
         "0",
         "1",
         "5.52",
         "0",
         "0",
         "4",
         "0",
         "0",
         "2"
        ]
       ],
       "shape": {
        "columns": 16,
        "rows": 5
       }
      },
      "text/html": [
       "<div>\n",
       "<style scoped>\n",
       "    .dataframe tbody tr th:only-of-type {\n",
       "        vertical-align: middle;\n",
       "    }\n",
       "\n",
       "    .dataframe tbody tr th {\n",
       "        vertical-align: top;\n",
       "    }\n",
       "\n",
       "    .dataframe thead th {\n",
       "        text-align: right;\n",
       "    }\n",
       "</style>\n",
       "<table border=\"1\" class=\"dataframe\">\n",
       "  <thead>\n",
       "    <tr style=\"text-align: right;\">\n",
       "      <th></th>\n",
       "      <th>num_passengers</th>\n",
       "      <th>sales_channel</th>\n",
       "      <th>trip_type</th>\n",
       "      <th>purchase_lead</th>\n",
       "      <th>length_of_stay</th>\n",
       "      <th>flight_day</th>\n",
       "      <th>wants_extra_baggage</th>\n",
       "      <th>wants_preferred_seat</th>\n",
       "      <th>wants_in_flight_meals</th>\n",
       "      <th>flight_duration</th>\n",
       "      <th>booking_complete</th>\n",
       "      <th>origin</th>\n",
       "      <th>destination</th>\n",
       "      <th>time_of_day</th>\n",
       "      <th>long_haul</th>\n",
       "      <th>booking_origin_grouped</th>\n",
       "    </tr>\n",
       "  </thead>\n",
       "  <tbody>\n",
       "    <tr>\n",
       "      <th>0</th>\n",
       "      <td>2</td>\n",
       "      <td>0</td>\n",
       "      <td>2</td>\n",
       "      <td>262</td>\n",
       "      <td>19</td>\n",
       "      <td>6</td>\n",
       "      <td>1</td>\n",
       "      <td>0</td>\n",
       "      <td>0</td>\n",
       "      <td>5.52</td>\n",
       "      <td>0</td>\n",
       "      <td>0</td>\n",
       "      <td>4</td>\n",
       "      <td>2</td>\n",
       "      <td>0</td>\n",
       "      <td>6</td>\n",
       "    </tr>\n",
       "    <tr>\n",
       "      <th>1</th>\n",
       "      <td>1</td>\n",
       "      <td>0</td>\n",
       "      <td>2</td>\n",
       "      <td>112</td>\n",
       "      <td>20</td>\n",
       "      <td>6</td>\n",
       "      <td>0</td>\n",
       "      <td>0</td>\n",
       "      <td>0</td>\n",
       "      <td>5.52</td>\n",
       "      <td>0</td>\n",
       "      <td>0</td>\n",
       "      <td>4</td>\n",
       "      <td>3</td>\n",
       "      <td>0</td>\n",
       "      <td>6</td>\n",
       "    </tr>\n",
       "    <tr>\n",
       "      <th>2</th>\n",
       "      <td>2</td>\n",
       "      <td>0</td>\n",
       "      <td>2</td>\n",
       "      <td>243</td>\n",
       "      <td>22</td>\n",
       "      <td>3</td>\n",
       "      <td>1</td>\n",
       "      <td>1</td>\n",
       "      <td>0</td>\n",
       "      <td>5.52</td>\n",
       "      <td>0</td>\n",
       "      <td>0</td>\n",
       "      <td>4</td>\n",
       "      <td>1</td>\n",
       "      <td>0</td>\n",
       "      <td>2</td>\n",
       "    </tr>\n",
       "    <tr>\n",
       "      <th>3</th>\n",
       "      <td>1</td>\n",
       "      <td>0</td>\n",
       "      <td>2</td>\n",
       "      <td>96</td>\n",
       "      <td>31</td>\n",
       "      <td>6</td>\n",
       "      <td>0</td>\n",
       "      <td>0</td>\n",
       "      <td>1</td>\n",
       "      <td>5.52</td>\n",
       "      <td>0</td>\n",
       "      <td>0</td>\n",
       "      <td>4</td>\n",
       "      <td>3</td>\n",
       "      <td>0</td>\n",
       "      <td>6</td>\n",
       "    </tr>\n",
       "    <tr>\n",
       "      <th>4</th>\n",
       "      <td>2</td>\n",
       "      <td>0</td>\n",
       "      <td>2</td>\n",
       "      <td>68</td>\n",
       "      <td>22</td>\n",
       "      <td>3</td>\n",
       "      <td>1</td>\n",
       "      <td>0</td>\n",
       "      <td>1</td>\n",
       "      <td>5.52</td>\n",
       "      <td>0</td>\n",
       "      <td>0</td>\n",
       "      <td>4</td>\n",
       "      <td>0</td>\n",
       "      <td>0</td>\n",
       "      <td>2</td>\n",
       "    </tr>\n",
       "  </tbody>\n",
       "</table>\n",
       "</div>"
      ],
      "text/plain": [
       "   num_passengers  sales_channel  trip_type  purchase_lead  length_of_stay  \\\n",
       "0               2              0          2            262              19   \n",
       "1               1              0          2            112              20   \n",
       "2               2              0          2            243              22   \n",
       "3               1              0          2             96              31   \n",
       "4               2              0          2             68              22   \n",
       "\n",
       "   flight_day  wants_extra_baggage  wants_preferred_seat  \\\n",
       "0           6                    1                     0   \n",
       "1           6                    0                     0   \n",
       "2           3                    1                     1   \n",
       "3           6                    0                     0   \n",
       "4           3                    1                     0   \n",
       "\n",
       "   wants_in_flight_meals  flight_duration  booking_complete  origin  \\\n",
       "0                      0             5.52                 0       0   \n",
       "1                      0             5.52                 0       0   \n",
       "2                      0             5.52                 0       0   \n",
       "3                      1             5.52                 0       0   \n",
       "4                      1             5.52                 0       0   \n",
       "\n",
       "   destination  time_of_day  long_haul  booking_origin_grouped  \n",
       "0            4            2          0                       6  \n",
       "1            4            3          0                       6  \n",
       "2            4            1          0                       2  \n",
       "3            4            3          0                       6  \n",
       "4            4            0          0                       2  "
      ]
     },
     "execution_count": 18,
     "metadata": {},
     "output_type": "execute_result"
    }
   ],
   "source": [
    "cleaned_data.head()"
   ]
  },
  {
   "cell_type": "code",
   "execution_count": 19,
   "id": "59539e99",
   "metadata": {},
   "outputs": [],
   "source": [
    "data = cleaned_data"
   ]
  },
  {
   "cell_type": "code",
   "execution_count": 20,
   "id": "a166a7bd",
   "metadata": {},
   "outputs": [
    {
     "data": {
      "application/vnd.microsoft.datawrangler.viewer.v0+json": {
       "columns": [
        {
         "name": "index",
         "rawType": "int64",
         "type": "integer"
        },
        {
         "name": "num_passengers",
         "rawType": "int64",
         "type": "integer"
        },
        {
         "name": "sales_channel",
         "rawType": "int32",
         "type": "integer"
        },
        {
         "name": "trip_type",
         "rawType": "int32",
         "type": "integer"
        },
        {
         "name": "purchase_lead",
         "rawType": "int64",
         "type": "integer"
        },
        {
         "name": "length_of_stay",
         "rawType": "int64",
         "type": "integer"
        },
        {
         "name": "flight_day",
         "rawType": "int64",
         "type": "integer"
        },
        {
         "name": "wants_extra_baggage",
         "rawType": "int64",
         "type": "integer"
        },
        {
         "name": "wants_preferred_seat",
         "rawType": "int64",
         "type": "integer"
        },
        {
         "name": "wants_in_flight_meals",
         "rawType": "int64",
         "type": "integer"
        },
        {
         "name": "flight_duration",
         "rawType": "float64",
         "type": "float"
        },
        {
         "name": "booking_complete",
         "rawType": "int64",
         "type": "integer"
        },
        {
         "name": "origin",
         "rawType": "int32",
         "type": "integer"
        },
        {
         "name": "destination",
         "rawType": "int32",
         "type": "integer"
        },
        {
         "name": "time_of_day",
         "rawType": "int32",
         "type": "integer"
        },
        {
         "name": "long_haul",
         "rawType": "int64",
         "type": "integer"
        },
        {
         "name": "booking_origin_grouped",
         "rawType": "int32",
         "type": "integer"
        }
       ],
       "ref": "419e8a3a-14e3-4889-a039-0f0c7cc6ade1",
       "rows": [
        [
         "0",
         "2",
         "0",
         "2",
         "262",
         "19",
         "6",
         "1",
         "0",
         "0",
         "5.52",
         "0",
         "0",
         "4",
         "2",
         "0",
         "6"
        ],
        [
         "1",
         "1",
         "0",
         "2",
         "112",
         "20",
         "6",
         "0",
         "0",
         "0",
         "5.52",
         "0",
         "0",
         "4",
         "3",
         "0",
         "6"
        ],
        [
         "2",
         "2",
         "0",
         "2",
         "243",
         "22",
         "3",
         "1",
         "1",
         "0",
         "5.52",
         "0",
         "0",
         "4",
         "1",
         "0",
         "2"
        ],
        [
         "3",
         "1",
         "0",
         "2",
         "96",
         "31",
         "6",
         "0",
         "0",
         "1",
         "5.52",
         "0",
         "0",
         "4",
         "3",
         "0",
         "6"
        ],
        [
         "4",
         "2",
         "0",
         "2",
         "68",
         "22",
         "3",
         "1",
         "0",
         "1",
         "5.52",
         "0",
         "0",
         "4",
         "0",
         "0",
         "2"
        ]
       ],
       "shape": {
        "columns": 16,
        "rows": 5
       }
      },
      "text/html": [
       "<div>\n",
       "<style scoped>\n",
       "    .dataframe tbody tr th:only-of-type {\n",
       "        vertical-align: middle;\n",
       "    }\n",
       "\n",
       "    .dataframe tbody tr th {\n",
       "        vertical-align: top;\n",
       "    }\n",
       "\n",
       "    .dataframe thead th {\n",
       "        text-align: right;\n",
       "    }\n",
       "</style>\n",
       "<table border=\"1\" class=\"dataframe\">\n",
       "  <thead>\n",
       "    <tr style=\"text-align: right;\">\n",
       "      <th></th>\n",
       "      <th>num_passengers</th>\n",
       "      <th>sales_channel</th>\n",
       "      <th>trip_type</th>\n",
       "      <th>purchase_lead</th>\n",
       "      <th>length_of_stay</th>\n",
       "      <th>flight_day</th>\n",
       "      <th>wants_extra_baggage</th>\n",
       "      <th>wants_preferred_seat</th>\n",
       "      <th>wants_in_flight_meals</th>\n",
       "      <th>flight_duration</th>\n",
       "      <th>booking_complete</th>\n",
       "      <th>origin</th>\n",
       "      <th>destination</th>\n",
       "      <th>time_of_day</th>\n",
       "      <th>long_haul</th>\n",
       "      <th>booking_origin_grouped</th>\n",
       "    </tr>\n",
       "  </thead>\n",
       "  <tbody>\n",
       "    <tr>\n",
       "      <th>0</th>\n",
       "      <td>2</td>\n",
       "      <td>0</td>\n",
       "      <td>2</td>\n",
       "      <td>262</td>\n",
       "      <td>19</td>\n",
       "      <td>6</td>\n",
       "      <td>1</td>\n",
       "      <td>0</td>\n",
       "      <td>0</td>\n",
       "      <td>5.52</td>\n",
       "      <td>0</td>\n",
       "      <td>0</td>\n",
       "      <td>4</td>\n",
       "      <td>2</td>\n",
       "      <td>0</td>\n",
       "      <td>6</td>\n",
       "    </tr>\n",
       "    <tr>\n",
       "      <th>1</th>\n",
       "      <td>1</td>\n",
       "      <td>0</td>\n",
       "      <td>2</td>\n",
       "      <td>112</td>\n",
       "      <td>20</td>\n",
       "      <td>6</td>\n",
       "      <td>0</td>\n",
       "      <td>0</td>\n",
       "      <td>0</td>\n",
       "      <td>5.52</td>\n",
       "      <td>0</td>\n",
       "      <td>0</td>\n",
       "      <td>4</td>\n",
       "      <td>3</td>\n",
       "      <td>0</td>\n",
       "      <td>6</td>\n",
       "    </tr>\n",
       "    <tr>\n",
       "      <th>2</th>\n",
       "      <td>2</td>\n",
       "      <td>0</td>\n",
       "      <td>2</td>\n",
       "      <td>243</td>\n",
       "      <td>22</td>\n",
       "      <td>3</td>\n",
       "      <td>1</td>\n",
       "      <td>1</td>\n",
       "      <td>0</td>\n",
       "      <td>5.52</td>\n",
       "      <td>0</td>\n",
       "      <td>0</td>\n",
       "      <td>4</td>\n",
       "      <td>1</td>\n",
       "      <td>0</td>\n",
       "      <td>2</td>\n",
       "    </tr>\n",
       "    <tr>\n",
       "      <th>3</th>\n",
       "      <td>1</td>\n",
       "      <td>0</td>\n",
       "      <td>2</td>\n",
       "      <td>96</td>\n",
       "      <td>31</td>\n",
       "      <td>6</td>\n",
       "      <td>0</td>\n",
       "      <td>0</td>\n",
       "      <td>1</td>\n",
       "      <td>5.52</td>\n",
       "      <td>0</td>\n",
       "      <td>0</td>\n",
       "      <td>4</td>\n",
       "      <td>3</td>\n",
       "      <td>0</td>\n",
       "      <td>6</td>\n",
       "    </tr>\n",
       "    <tr>\n",
       "      <th>4</th>\n",
       "      <td>2</td>\n",
       "      <td>0</td>\n",
       "      <td>2</td>\n",
       "      <td>68</td>\n",
       "      <td>22</td>\n",
       "      <td>3</td>\n",
       "      <td>1</td>\n",
       "      <td>0</td>\n",
       "      <td>1</td>\n",
       "      <td>5.52</td>\n",
       "      <td>0</td>\n",
       "      <td>0</td>\n",
       "      <td>4</td>\n",
       "      <td>0</td>\n",
       "      <td>0</td>\n",
       "      <td>2</td>\n",
       "    </tr>\n",
       "  </tbody>\n",
       "</table>\n",
       "</div>"
      ],
      "text/plain": [
       "   num_passengers  sales_channel  trip_type  purchase_lead  length_of_stay  \\\n",
       "0               2              0          2            262              19   \n",
       "1               1              0          2            112              20   \n",
       "2               2              0          2            243              22   \n",
       "3               1              0          2             96              31   \n",
       "4               2              0          2             68              22   \n",
       "\n",
       "   flight_day  wants_extra_baggage  wants_preferred_seat  \\\n",
       "0           6                    1                     0   \n",
       "1           6                    0                     0   \n",
       "2           3                    1                     1   \n",
       "3           6                    0                     0   \n",
       "4           3                    1                     0   \n",
       "\n",
       "   wants_in_flight_meals  flight_duration  booking_complete  origin  \\\n",
       "0                      0             5.52                 0       0   \n",
       "1                      0             5.52                 0       0   \n",
       "2                      0             5.52                 0       0   \n",
       "3                      1             5.52                 0       0   \n",
       "4                      1             5.52                 0       0   \n",
       "\n",
       "   destination  time_of_day  long_haul  booking_origin_grouped  \n",
       "0            4            2          0                       6  \n",
       "1            4            3          0                       6  \n",
       "2            4            1          0                       2  \n",
       "3            4            3          0                       6  \n",
       "4            4            0          0                       2  "
      ]
     },
     "execution_count": 20,
     "metadata": {},
     "output_type": "execute_result"
    }
   ],
   "source": [
    "data.head()"
   ]
  },
  {
   "cell_type": "code",
   "execution_count": 21,
   "id": "5f03f8b0",
   "metadata": {},
   "outputs": [],
   "source": [
    "# split dataset into X and y\n",
    "X = data.drop(columns='booking_complete')\n",
    "y = data['booking_complete']"
   ]
  },
  {
   "cell_type": "code",
   "execution_count": 22,
   "id": "ed786f54",
   "metadata": {},
   "outputs": [],
   "source": [
    "# split dataset into train and test and stratify to maintain class balance \n",
    "X_train, X_test, y_train, y_test= train_test_split(X,y, test_size=0.2, random_state= 23, stratify= y)"
   ]
  },
  {
   "cell_type": "code",
   "execution_count": 23,
   "id": "c5fd4160",
   "metadata": {},
   "outputs": [],
   "source": [
    "model = RandomForestClassifier(n_estimators=5, random_state=23,class_weight='balanced', max_depth=40)\n",
    "model.fit(X_train,y_train)\n",
    "train_preds = model.predict(X_train)\n",
    "test_preds = model.predict(X_test)"
   ]
  },
  {
   "cell_type": "code",
   "execution_count": 24,
   "id": "7136eed5",
   "metadata": {},
   "outputs": [
    {
     "name": "stdout",
     "output_type": "stream",
     "text": [
      "Train Classification Report\n",
      "              precision    recall  f1-score   support\n",
      "\n",
      "           0       0.98      1.00      0.99     34018\n",
      "           1       0.97      0.86      0.92      5982\n",
      "\n",
      "    accuracy                           0.98     40000\n",
      "   macro avg       0.97      0.93      0.95     40000\n",
      "weighted avg       0.98      0.98      0.98     40000\n",
      "\n",
      "Test Classification Report\n",
      "              precision    recall  f1-score   support\n",
      "\n",
      "           0       0.87      0.95      0.91      8504\n",
      "           1       0.40      0.20      0.27      1496\n",
      "\n",
      "    accuracy                           0.84     10000\n",
      "   macro avg       0.64      0.57      0.59     10000\n",
      "weighted avg       0.80      0.84      0.81     10000\n",
      "\n",
      "Confusion Matrix (Test)\n",
      "[[8066  438]\n",
      " [1198  298]]\n"
     ]
    }
   ],
   "source": [
    "# Evaluate the model\n",
    "print(f'Train Classification Report')\n",
    "print(classification_report(y_train, train_preds))\n",
    "\n",
    "print(f'Test Classification Report')\n",
    "print(classification_report(y_test, test_preds))\n",
    "\n",
    "print(f'Confusion Matrix (Test)')\n",
    "print(confusion_matrix(y_test, test_preds))"
   ]
  },
  {
   "cell_type": "code",
   "execution_count": null,
   "id": "82c63dd1",
   "metadata": {},
   "outputs": [
    {
     "name": "stdout",
     "output_type": "stream",
     "text": [
      "Cross-validated F1 scores: [0.24511545 0.24517288 0.24822695 0.27756161 0.25314183]\n",
      "Average F1 score: 0.253843744227331\n"
     ]
    }
   ],
   "source": [
    "\n",
    "# Best model (example: Random Forest)\n",
    "model = RandomForestClassifier(n_estimators=5, class_weight='balanced', random_state=23, max_depth=40)\n",
    "\n",
    "# F1 scorer\n",
    "f1 = make_scorer(f1_score, pos_label=1)\n",
    "\n",
    "# Stratified 5-fold cross-validation\n",
    "cv = StratifiedKFold(n_splits=5, shuffle=True, random_state=42)\n",
    "\n",
    "# Run cross-validation\n",
    "scores = cross_val_score(model, X, y, scoring=f1, cv=cv)\n",
    "\n",
    "print(\"Cross-validated F1 scores:\", scores)\n",
    "print(\"Average F1 score:\", scores.mean())\n"
   ]
  },
  {
   "cell_type": "code",
   "execution_count": 28,
   "id": "43afb303",
   "metadata": {},
   "outputs": [
    {
     "data": {
      "image/png": "[encoded data removed]",
      "text/plain": [
       "<Figure size 800x600 with 1 Axes>"
      ]
     },
     "metadata": {},
     "output_type": "display_data"
    }
   ],
   "source": [
    "# Train on full data for importance plot\n",
    "model.fit(X, y)\n",
    "\n",
    "# Plot feature importances\n",
    "import matplotlib.pyplot as plt\n",
    "import seaborn as sns\n",
    "\n",
    "# Create importance DataFrame\n",
    "importances = pd.Series(model.feature_importances_, index=X.columns)\n",
    "top_importances = importances.sort_values(ascending=False).head(10)\n",
    "\n",
    "# Plot\n",
    "plt.figure(figsize=(8, 6))\n",
    "sns.barplot(x=top_importances.values, y=top_importances.index, palette='viridis')\n",
    "plt.title(\"Top 10 Feature Importances\")\n",
    "plt.xlabel(\"Importance Score\")\n",
    "plt.ylabel(\"Feature\")\n",
    "plt.tight_layout()\n",
    "plt.show()\n"
   ]
  }
 ],
 "metadata": {
  "kernelspec": {
   "display_name": "base",
   "language": "python",
   "name": "python3"
  },
  "language_info": {
   "codemirror_mode": {
    "name": "ipython",
    "version": 3
   },
   "file_extension": ".py",
   "mimetype": "text/x-python",
   "name": "python",
   "nbconvert_exporter": "python",
   "pygments_lexer": "ipython3",
   "version": "3.11.7"
  }
 },
 "nbformat": 4,
 "nbformat_minor": 5
}
