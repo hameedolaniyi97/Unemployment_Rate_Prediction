{
 "cells": [
  {
   "cell_type": "code",
   "execution_count": 4,
   "id": "ce502660",
   "metadata": {},
   "outputs": [],
   "source": [
    "import pandas as pd \n",
    "import numpy as np\n",
    "import seaborn as sns\n",
    "import matplotlib.pyplot as plt\n",
    "import plotly.express as px\n",
    "from plotly.subplots import make_subplots"
   ]
  },
  {
   "cell_type": "code",
   "execution_count": 5,
   "id": "f4b9ac44",
   "metadata": {},
   "outputs": [],
   "source": [
    "salesdata = pd.read_csv('Sales.csv')"
   ]
  },
  {
   "cell_type": "code",
   "execution_count": null,
   "id": "c35c3a1e",
   "metadata": {},
   "outputs": [],
   "source": [
    "fig, axes = plt.subplot(3,1, figsize(15,15))"
   ]
  }
 ],
 "metadata": {
  "kernelspec": {
   "display_name": "base",
   "language": "python",
   "name": "python3"
  },
  "language_info": {
   "codemirror_mode": {
    "name": "ipython",
    "version": 3
   },
   "file_extension": ".py",
   "mimetype": "text/x-python",
   "name": "python",
   "nbconvert_exporter": "python",
   "pygments_lexer": "ipython3",
   "version": "3.11.7"
  }
 },
 "nbformat": 4,
 "nbformat_minor": 5
}
