{
 "cells": [
  {
   "cell_type": "code",
   "execution_count": 1,
   "id": "41cde213",
   "metadata": {},
   "outputs": [],
   "source": [
    "import pandas as pd \n",
    "import numpy as np\n",
    "\n",
    "from sklearn.ensemble import RandomForestClassifier\n",
    "from sklearn.metrics import classification_report\n",
    "from sklearn.preprocessing import LabelEncoder, StandardScaler\n",
    "from sklearn.model_selection import train_test_split"
   ]
  },
  {
   "cell_type": "code",
   "execution_count": 2,
   "id": "ae8872c7",
   "metadata": {},
   "outputs": [
    {
     "data": {
      "application/vnd.microsoft.datawrangler.viewer.v0+json": {
       "columns": [
        {
         "name": "index",
         "rawType": "int64",
         "type": "integer"
        },
        {
         "name": "person_age",
         "rawType": "float64",
         "type": "float"
        },
        {
         "name": "person_gender",
         "rawType": "object",
         "type": "string"
        },
        {
         "name": "person_education",
         "rawType": "object",
         "type": "string"
        },
        {
         "name": "person_income",
         "rawType": "float64",
         "type": "float"
        },
        {
         "name": "person_emp_exp",
         "rawType": "int64",
         "type": "integer"
        },
        {
         "name": "person_home_ownership",
         "rawType": "object",
         "type": "string"
        },
        {
         "name": "loan_amnt",
         "rawType": "float64",
         "type": "float"
        },
        {
         "name": "loan_intent",
         "rawType": "object",
         "type": "string"
        },
        {
         "name": "loan_int_rate",
         "rawType": "float64",
         "type": "float"
        },
        {
         "name": "loan_percent_income",
         "rawType": "float64",
         "type": "float"
        },
        {
         "name": "cb_person_cred_hist_length",
         "rawType": "float64",
         "type": "float"
        },
        {
         "name": "credit_score",
         "rawType": "int64",
         "type": "integer"
        },
        {
         "name": "previous_loan_defaults_on_file",
         "rawType": "object",
         "type": "string"
        },
        {
         "name": "loan_status",
         "rawType": "int64",
         "type": "integer"
        }
       ],
       "ref": "cd8fcde8-17dd-4447-974c-0963c256119a",
       "rows": [
        [
         "0",
         "22.0",
         "female",
         "Master",
         "71948.0",
         "0",
         "RENT",
         "35000.0",
         "PERSONAL",
         "16.02",
         "0.49",
         "3.0",
         "561",
         "No",
         "1"
        ],
        [
         "1",
         "21.0",
         "female",
         "High School",
         "12282.0",
         "0",
         "OWN",
         "1000.0",
         "EDUCATION",
         "11.14",
         "0.08",
         "2.0",
         "504",
         "Yes",
         "0"
        ],
        [
         "2",
         "25.0",
         "female",
         "High School",
         "12438.0",
         "3",
         "MORTGAGE",
         "5500.0",
         "MEDICAL",
         "12.87",
         "0.44",
         "3.0",
         "635",
         "No",
         "1"
        ],
        [
         "3",
         "23.0",
         "female",
         "Bachelor",
         "79753.0",
         "0",
         "RENT",
         "35000.0",
         "MEDICAL",
         "15.23",
         "0.44",
         "2.0",
         "675",
         "No",
         "1"
        ],
        [
         "4",
         "24.0",
         "male",
         "Master",
         "66135.0",
         "1",
         "RENT",
         "35000.0",
         "MEDICAL",
         "14.27",
         "0.53",
         "4.0",
         "586",
         "No",
         "1"
        ]
       ],
       "shape": {
        "columns": 14,
        "rows": 5
       }
      },
      "text/html": [
       "<div>\n",
       "<style scoped>\n",
       "    .dataframe tbody tr th:only-of-type {\n",
       "        vertical-align: middle;\n",
       "    }\n",
       "\n",
       "    .dataframe tbody tr th {\n",
       "        vertical-align: top;\n",
       "    }\n",
       "\n",
       "    .dataframe thead th {\n",
       "        text-align: right;\n",
       "    }\n",
       "</style>\n",
       "<table border=\"1\" class=\"dataframe\">\n",
       "  <thead>\n",
       "    <tr style=\"text-align: right;\">\n",
       "      <th></th>\n",
       "      <th>person_age</th>\n",
       "      <th>person_gender</th>\n",
       "      <th>person_education</th>\n",
       "      <th>person_income</th>\n",
       "      <th>person_emp_exp</th>\n",
       "      <th>person_home_ownership</th>\n",
       "      <th>loan_amnt</th>\n",
       "      <th>loan_intent</th>\n",
       "      <th>loan_int_rate</th>\n",
       "      <th>loan_percent_income</th>\n",
       "      <th>cb_person_cred_hist_length</th>\n",
       "      <th>credit_score</th>\n",
       "      <th>previous_loan_defaults_on_file</th>\n",
       "      <th>loan_status</th>\n",
       "    </tr>\n",
       "  </thead>\n",
       "  <tbody>\n",
       "    <tr>\n",
       "      <th>0</th>\n",
       "      <td>22.0</td>\n",
       "      <td>female</td>\n",
       "      <td>Master</td>\n",
       "      <td>71948.0</td>\n",
       "      <td>0</td>\n",
       "      <td>RENT</td>\n",
       "      <td>35000.0</td>\n",
       "      <td>PERSONAL</td>\n",
       "      <td>16.02</td>\n",
       "      <td>0.49</td>\n",
       "      <td>3.0</td>\n",
       "      <td>561</td>\n",
       "      <td>No</td>\n",
       "      <td>1</td>\n",
       "    </tr>\n",
       "    <tr>\n",
       "      <th>1</th>\n",
       "      <td>21.0</td>\n",
       "      <td>female</td>\n",
       "      <td>High School</td>\n",
       "      <td>12282.0</td>\n",
       "      <td>0</td>\n",
       "      <td>OWN</td>\n",
       "      <td>1000.0</td>\n",
       "      <td>EDUCATION</td>\n",
       "      <td>11.14</td>\n",
       "      <td>0.08</td>\n",
       "      <td>2.0</td>\n",
       "      <td>504</td>\n",
       "      <td>Yes</td>\n",
       "      <td>0</td>\n",
       "    </tr>\n",
       "    <tr>\n",
       "      <th>2</th>\n",
       "      <td>25.0</td>\n",
       "      <td>female</td>\n",
       "      <td>High School</td>\n",
       "      <td>12438.0</td>\n",
       "      <td>3</td>\n",
       "      <td>MORTGAGE</td>\n",
       "      <td>5500.0</td>\n",
       "      <td>MEDICAL</td>\n",
       "      <td>12.87</td>\n",
       "      <td>0.44</td>\n",
       "      <td>3.0</td>\n",
       "      <td>635</td>\n",
       "      <td>No</td>\n",
       "      <td>1</td>\n",
       "    </tr>\n",
       "    <tr>\n",
       "      <th>3</th>\n",
       "      <td>23.0</td>\n",
       "      <td>female</td>\n",
       "      <td>Bachelor</td>\n",
       "      <td>79753.0</td>\n",
       "      <td>0</td>\n",
       "      <td>RENT</td>\n",
       "      <td>35000.0</td>\n",
       "      <td>MEDICAL</td>\n",
       "      <td>15.23</td>\n",
       "      <td>0.44</td>\n",
       "      <td>2.0</td>\n",
       "      <td>675</td>\n",
       "      <td>No</td>\n",
       "      <td>1</td>\n",
       "    </tr>\n",
       "    <tr>\n",
       "      <th>4</th>\n",
       "      <td>24.0</td>\n",
       "      <td>male</td>\n",
       "      <td>Master</td>\n",
       "      <td>66135.0</td>\n",
       "      <td>1</td>\n",
       "      <td>RENT</td>\n",
       "      <td>35000.0</td>\n",
       "      <td>MEDICAL</td>\n",
       "      <td>14.27</td>\n",
       "      <td>0.53</td>\n",
       "      <td>4.0</td>\n",
       "      <td>586</td>\n",
       "      <td>No</td>\n",
       "      <td>1</td>\n",
       "    </tr>\n",
       "  </tbody>\n",
       "</table>\n",
       "</div>"
      ],
      "text/plain": [
       "   person_age person_gender person_education  person_income  person_emp_exp  \\\n",
       "0        22.0        female           Master        71948.0               0   \n",
       "1        21.0        female      High School        12282.0               0   \n",
       "2        25.0        female      High School        12438.0               3   \n",
       "3        23.0        female         Bachelor        79753.0               0   \n",
       "4        24.0          male           Master        66135.0               1   \n",
       "\n",
       "  person_home_ownership  loan_amnt loan_intent  loan_int_rate  \\\n",
       "0                  RENT    35000.0    PERSONAL          16.02   \n",
       "1                   OWN     1000.0   EDUCATION          11.14   \n",
       "2              MORTGAGE     5500.0     MEDICAL          12.87   \n",
       "3                  RENT    35000.0     MEDICAL          15.23   \n",
       "4                  RENT    35000.0     MEDICAL          14.27   \n",
       "\n",
       "   loan_percent_income  cb_person_cred_hist_length  credit_score  \\\n",
       "0                 0.49                         3.0           561   \n",
       "1                 0.08                         2.0           504   \n",
       "2                 0.44                         3.0           635   \n",
       "3                 0.44                         2.0           675   \n",
       "4                 0.53                         4.0           586   \n",
       "\n",
       "  previous_loan_defaults_on_file  loan_status  \n",
       "0                             No            1  \n",
       "1                            Yes            0  \n",
       "2                             No            1  \n",
       "3                             No            1  \n",
       "4                             No            1  "
      ]
     },
     "execution_count": 2,
     "metadata": {},
     "output_type": "execute_result"
    }
   ],
   "source": [
    "data = pd.read_csv('loan_data.csv')\n",
    "data.head()"
   ]
  },
  {
   "cell_type": "code",
   "execution_count": 3,
   "id": "4a8687a4",
   "metadata": {},
   "outputs": [
    {
     "data": {
      "application/vnd.microsoft.datawrangler.viewer.v0+json": {
       "columns": [
        {
         "name": "index",
         "rawType": "object",
         "type": "string"
        },
        {
         "name": "0",
         "rawType": "int64",
         "type": "integer"
        }
       ],
       "ref": "adaa1b3c-54e3-40e1-b4ea-558ca9b699bd",
       "rows": [
        [
         "person_age",
         "0"
        ],
        [
         "person_gender",
         "0"
        ],
        [
         "person_education",
         "0"
        ],
        [
         "person_income",
         "0"
        ],
        [
         "person_emp_exp",
         "0"
        ],
        [
         "person_home_ownership",
         "0"
        ],
        [
         "loan_amnt",
         "0"
        ],
        [
         "loan_intent",
         "0"
        ],
        [
         "loan_int_rate",
         "0"
        ],
        [
         "loan_percent_income",
         "0"
        ],
        [
         "cb_person_cred_hist_length",
         "0"
        ],
        [
         "credit_score",
         "0"
        ],
        [
         "previous_loan_defaults_on_file",
         "0"
        ],
        [
         "loan_status",
         "0"
        ]
       ],
       "shape": {
        "columns": 1,
        "rows": 14
       }
      },
      "text/plain": [
       "person_age                        0\n",
       "person_gender                     0\n",
       "person_education                  0\n",
       "person_income                     0\n",
       "person_emp_exp                    0\n",
       "person_home_ownership             0\n",
       "loan_amnt                         0\n",
       "loan_intent                       0\n",
       "loan_int_rate                     0\n",
       "loan_percent_income               0\n",
       "cb_person_cred_hist_length        0\n",
       "credit_score                      0\n",
       "previous_loan_defaults_on_file    0\n",
       "loan_status                       0\n",
       "dtype: int64"
      ]
     },
     "execution_count": 3,
     "metadata": {},
     "output_type": "execute_result"
    }
   ],
   "source": [
    "data.isnull().sum()"
   ]
  },
  {
   "cell_type": "code",
   "execution_count": 4,
   "id": "16a87cec",
   "metadata": {},
   "outputs": [],
   "source": [
    "encoder = LabelEncoder()\n",
    "cat_col = list(data.select_dtypes(include='object').columns)\n",
    "for col in cat_col:\n",
    "    encoder.fit(data[col])\n",
    "    data[col] = encoder.transform(data[col])"
   ]
  },
  {
   "cell_type": "code",
   "execution_count": 5,
   "id": "c221c19c",
   "metadata": {},
   "outputs": [],
   "source": [
    "x = data.drop(columns=['loan_status'])\n",
    "y = data['loan_status']"
   ]
  },
  {
   "cell_type": "code",
   "execution_count": 6,
   "id": "a21f6865",
   "metadata": {},
   "outputs": [],
   "source": [
    "x_train, x_test, y_train, y_test = train_test_split(x, y, train_size= 0.25, random_state=20, stratify=y)\n",
    "\n",
    "scaler = StandardScaler()\n",
    "scaler.fit(x_train)\n",
    "x_train = scaler.transform(x_train)\n",
    "x_test = scaler.transform(x_test)"
   ]
  },
  {
   "cell_type": "code",
   "execution_count": 8,
   "id": "f08a5ceb",
   "metadata": {},
   "outputs": [
    {
     "name": "stdout",
     "output_type": "stream",
     "text": [
      "train:               precision    recall  f1-score   support\n",
      "\n",
      "           0       0.88      0.98      0.93      8750\n",
      "           1       0.90      0.55      0.68      2500\n",
      "\n",
      "    accuracy                           0.89     11250\n",
      "   macro avg       0.89      0.77      0.81     11250\n",
      "weighted avg       0.89      0.89      0.88     11250\n",
      "\n",
      "Test:               precision    recall  f1-score   support\n",
      "\n",
      "           0       0.88      0.98      0.93     26250\n",
      "           1       0.90      0.55      0.68      7500\n",
      "\n",
      "    accuracy                           0.89     33750\n",
      "   macro avg       0.89      0.77      0.81     33750\n",
      "weighted avg       0.89      0.89      0.88     33750\n",
      "\n"
     ]
    }
   ],
   "source": [
    "model = RandomForestClassifier(n_estimators= 5, random_state= 23, max_depth= 4)\n",
    "model.fit(x_train,y_train)\n",
    "train_preds = model.predict(x_train)\n",
    "test_preds = model.predict(x_test)\n",
    "\n",
    "print(f'train: {classification_report(y_train, train_preds)}')\n",
    "print(f'Test: {classification_report(y_test, test_preds)}')"
   ]
  },
  {
   "cell_type": "code",
   "execution_count": null,
   "id": "2f319bf4",
   "metadata": {},
   "outputs": [],
   "source": []
  }
 ],
 "metadata": {
  "kernelspec": {
   "display_name": "base",
   "language": "python",
   "name": "python3"
  },
  "language_info": {
   "codemirror_mode": {
    "name": "ipython",
    "version": 3
   },
   "file_extension": ".py",
   "mimetype": "text/x-python",
   "name": "python",
   "nbconvert_exporter": "python",
   "pygments_lexer": "ipython3",
   "version": "3.11.7"
  }
 },
 "nbformat": 4,
 "nbformat_minor": 5
}
