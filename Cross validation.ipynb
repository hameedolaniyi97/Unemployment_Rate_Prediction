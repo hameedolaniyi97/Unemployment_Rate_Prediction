{
 "cells": [
  {
   "cell_type": "code",
   "execution_count": 1,
   "id": "cdb52b0b",
   "metadata": {},
   "outputs": [],
   "source": [
    "# cross val classifier \n",
    "\n",
    "import pandas as pd \n",
    "import numpy as np \n",
    "\n",
    "from sklearn.ensemble import RandomForestClassifier, RandomForestRegressor\n",
    "from sklearn.datasets import load_breast_cancer\n",
    "from sklearn.metrics import root_mean_squared_error, classification_report\n",
    "from sklearn.model_selection import cross_val_score, KFold"
   ]
  },
  {
   "cell_type": "code",
   "execution_count": 2,
   "id": "805e660e",
   "metadata": {},
   "outputs": [],
   "source": [
    "X = load_breast_cancer(as_frame=True)['data']\n",
    "y = load_breast_cancer()['target']"
   ]
  },
  {
   "cell_type": "code",
   "execution_count": 3,
   "id": "6c2d32ce",
   "metadata": {},
   "outputs": [
    {
     "name": "stderr",
     "output_type": "stream",
     "text": [
      "[Parallel(n_jobs=1)]: Using backend SequentialBackend with 1 concurrent workers.\n"
     ]
    },
    {
     "name": "stdout",
     "output_type": "stream",
     "text": [
      "[CV] END ................................ score: (test=0.986) total time=   0.5s\n"
     ]
    },
    {
     "name": "stderr",
     "output_type": "stream",
     "text": [
      "[Parallel(n_jobs=1)]: Done   1 out of   1 | elapsed:    0.5s remaining:    0.0s\n"
     ]
    },
    {
     "name": "stdout",
     "output_type": "stream",
     "text": [
      "[CV] END ................................ score: (test=0.901) total time=   0.4s\n"
     ]
    },
    {
     "name": "stderr",
     "output_type": "stream",
     "text": [
      "[Parallel(n_jobs=1)]: Done   2 out of   2 | elapsed:    1.0s remaining:    0.0s\n"
     ]
    },
    {
     "name": "stdout",
     "output_type": "stream",
     "text": [
      "[CV] END ................................ score: (test=0.959) total time=   0.4s\n"
     ]
    },
    {
     "name": "stderr",
     "output_type": "stream",
     "text": [
      "[Parallel(n_jobs=1)]: Done   3 out of   3 | elapsed:    1.5s remaining:    0.0s\n"
     ]
    },
    {
     "name": "stdout",
     "output_type": "stream",
     "text": [
      "[CV] END ................................ score: (test=0.960) total time=   0.4s\n"
     ]
    },
    {
     "name": "stderr",
     "output_type": "stream",
     "text": [
      "[Parallel(n_jobs=1)]: Done   4 out of   4 | elapsed:    2.1s remaining:    0.0s\n"
     ]
    },
    {
     "name": "stdout",
     "output_type": "stream",
     "text": [
      "[CV] END ................................ score: (test=1.000) total time=   0.5s\n",
      "[CV] END ................................ score: (test=0.986) total time=   0.3s\n",
      "[CV] END ................................ score: (test=0.986) total time=   0.3s\n",
      "[CV] END ................................ score: (test=0.986) total time=   0.2s\n",
      "[CV] END ................................ score: (test=0.971) total time=   0.2s\n",
      "[CV] END ................................ score: (test=0.986) total time=   0.2s\n"
     ]
    },
    {
     "name": "stderr",
     "output_type": "stream",
     "text": [
      "[Parallel(n_jobs=1)]: Done  10 out of  10 | elapsed:    4.2s finished\n"
     ]
    },
    {
     "data": {
      "text/plain": [
       "0.9721273857159236"
      ]
     },
     "execution_count": 3,
     "metadata": {},
     "output_type": "execute_result"
    }
   ],
   "source": [
    "classification = RandomForestClassifier(random_state=23) \n",
    "final_class = cross_val_score(estimator = classification, X=X, y=y, scoring=\"f1\", \n",
    "                               cv=10, n_jobs= 1,\n",
    "                              verbose=5).mean()\n",
    "\n",
    "\n",
    "final_class"
   ]
  },
  {
   "cell_type": "markdown",
   "id": "e9fcc0ae",
   "metadata": {},
   "source": [
    "### Simple Cross val score "
   ]
  },
  {
   "cell_type": "code",
   "execution_count": 4,
   "id": "214ee08d",
   "metadata": {},
   "outputs": [
    {
     "name": "stderr",
     "output_type": "stream",
     "text": [
      "[Parallel(n_jobs=1)]: Using backend SequentialBackend with 1 concurrent workers.\n"
     ]
    },
    {
     "name": "stdout",
     "output_type": "stream",
     "text": [
      "[CV] END ............................... score: (test=-0.224) total time=   0.6s\n"
     ]
    },
    {
     "name": "stderr",
     "output_type": "stream",
     "text": [
      "[Parallel(n_jobs=1)]: Done   1 out of   1 | elapsed:    0.6s remaining:    0.0s\n"
     ]
    },
    {
     "name": "stdout",
     "output_type": "stream",
     "text": [
      "[CV] END ............................... score: (test=-0.246) total time=   0.6s\n"
     ]
    },
    {
     "name": "stderr",
     "output_type": "stream",
     "text": [
      "[Parallel(n_jobs=1)]: Done   2 out of   2 | elapsed:    1.3s remaining:    0.0s\n"
     ]
    },
    {
     "name": "stdout",
     "output_type": "stream",
     "text": [
      "[CV] END ............................... score: (test=-0.259) total time=   0.6s\n"
     ]
    },
    {
     "name": "stderr",
     "output_type": "stream",
     "text": [
      "[Parallel(n_jobs=1)]: Done   3 out of   3 | elapsed:    2.1s remaining:    0.0s\n"
     ]
    },
    {
     "name": "stdout",
     "output_type": "stream",
     "text": [
      "[CV] END ............................... score: (test=-0.164) total time=   0.6s\n"
     ]
    },
    {
     "name": "stderr",
     "output_type": "stream",
     "text": [
      "[Parallel(n_jobs=1)]: Done   4 out of   4 | elapsed:    2.8s remaining:    0.0s\n"
     ]
    },
    {
     "name": "stdout",
     "output_type": "stream",
     "text": [
      "[CV] END ............................... score: (test=-0.161) total time=   0.7s\n",
      "[CV] END ............................... score: (test=-0.159) total time=   0.6s\n",
      "[CV] END ............................... score: (test=-0.179) total time=   0.6s\n",
      "[CV] END ............................... score: (test=-0.145) total time=   0.6s\n",
      "[CV] END ............................... score: (test=-0.181) total time=   0.6s\n",
      "[CV] END ............................... score: (test=-0.132) total time=   0.6s\n"
     ]
    },
    {
     "name": "stderr",
     "output_type": "stream",
     "text": [
      "[Parallel(n_jobs=1)]: Done  10 out of  10 | elapsed:    7.0s finished\n"
     ]
    },
    {
     "data": {
      "text/plain": [
       "0.18494344364567955"
      ]
     },
     "execution_count": 4,
     "metadata": {},
     "output_type": "execute_result"
    }
   ],
   "source": [
    "regressor = RandomForestRegressor(random_state=23) # init the regressor \n",
    "final_rmse = -cross_val_score(estimator=regressor, X=X, y=y, scoring='neg_root_mean_squared_error',\n",
    "                               cv=10, n_jobs=1, verbose=5).mean()\n",
    "\n",
    "final_rmse"
   ]
  },
  {
   "cell_type": "markdown",
   "id": "d02120b4",
   "metadata": {},
   "source": [
    "### KFOLD AND STRATIFIED KFOLD SCRATCH"
   ]
  },
  {
   "cell_type": "code",
   "execution_count": 5,
   "id": "c6743985",
   "metadata": {},
   "outputs": [
    {
     "name": "stdout",
     "output_type": "stream",
     "text": [
      "Completed fold: 1/8... test score: 0.946236559139785... Train Score: 0.9818780889621087\n",
      "Completed fold: 2/8... test score: 0.9438202247191011... Train Score: 0.9701986754966887\n",
      "Completed fold: 3/8... test score: 0.8888888888888888... Train Score: 0.9873817034700315\n",
      "Completed fold: 4/8... test score: 0.9195402298850575... Train Score: 0.9820554649265906\n",
      "Completed fold: 5/8... test score: 0.9397590361445783... Train Score: 0.9787928221859706\n",
      "Completed fold: 6/8... test score: 0.9111111111111111... Train Score: 0.9768211920529801\n",
      "Completed fold: 7/8... test score: 0.9382716049382716... Train Score: 0.9585406301824212\n",
      "Completed fold: 8/8... test score: 0.8941176470588236... Train Score: 0.9855072463768116\n",
      "Score: [0.946236559139785, 0.9438202247191011, 0.8888888888888888, 0.9195402298850575, 0.9397590361445783, 0.9111111111111111, 0.9382716049382716, 0.8941176470588236]\n",
      "=================================================================\n",
      "Final score: 0.9227181627357022\n"
     ]
    }
   ],
   "source": [
    "from sklearn.metrics import f1_score\n",
    "\n",
    "# init the kfold object\n",
    "folds = 8 \n",
    "fold = 1\n",
    "rfr_kfold = KFold(n_splits=folds, shuffle=True, random_state=23)\n",
    "scores = [] # track score list \n",
    "# init the model \n",
    "classifier = RandomForestClassifier(random_state=23, n_estimators=2)\n",
    "\n",
    "for train_index, test_index in rfr_kfold.split(X=X):\n",
    "    X_train, X_test = X.iloc[train_index], X.iloc[test_index]\n",
    "    y_train, y_test = y[train_index], y[test_index]\n",
    "\n",
    "# fit the model \n",
    "    classifier.fit(X_train, y_train)\n",
    "    test_preds = classifier.predict(X_test) # predict test\n",
    "    train_preds = classifier.predict(X_train) # predict train \n",
    "    score = f1_score(y_test, test_preds) # get the test score\n",
    "    train_score = f1_score(y_train, train_preds) # get the train score \n",
    "    scores.append(score) # update score \n",
    "    print(f'Completed fold: {fold}/{folds}... test score: {score}... Train Score: {train_score}')\n",
    "    fold += 1\n",
    "\n",
    "\n",
    "\n",
    "print(f'Score: {scores}')\n",
    "print(f'='*65)\n",
    "print(f'Final score: {sum(scores)/len(scores)}')"
   ]
  },
  {
   "cell_type": "markdown",
   "id": "63e721d3",
   "metadata": {},
   "source": [
    "### KFold with cross val without shuffle "
   ]
  },
  {
   "cell_type": "code",
   "execution_count": 7,
   "id": "d305872f",
   "metadata": {},
   "outputs": [
    {
     "name": "stderr",
     "output_type": "stream",
     "text": [
      "[Parallel(n_jobs=1)]: Using backend SequentialBackend with 1 concurrent workers.\n"
     ]
    },
    {
     "name": "stdout",
     "output_type": "stream",
     "text": [
      "[CV] END ................................ score: (test=0.889) total time=   0.2s\n"
     ]
    },
    {
     "name": "stderr",
     "output_type": "stream",
     "text": [
      "[Parallel(n_jobs=1)]: Done   1 out of   1 | elapsed:    0.2s remaining:    0.0s\n"
     ]
    },
    {
     "name": "stdout",
     "output_type": "stream",
     "text": [
      "[CV] END ................................ score: (test=0.921) total time=   0.2s\n"
     ]
    },
    {
     "name": "stderr",
     "output_type": "stream",
     "text": [
      "[Parallel(n_jobs=1)]: Done   2 out of   2 | elapsed:    0.5s remaining:    0.0s\n"
     ]
    },
    {
     "name": "stdout",
     "output_type": "stream",
     "text": [
      "[CV] END ................................ score: (test=0.949) total time=   0.2s\n",
      "[CV] END ................................ score: (test=0.986) total time=   0.2s\n",
      "[CV] END ................................ score: (test=0.966) total time=   0.2s\n",
      "[CV] END ................................ score: (test=0.988) total time=   0.2s\n",
      "[CV] END ................................ score: (test=0.970) total time=   0.2s\n",
      "[CV] END ................................ score: (test=0.979) total time=   0.3s\n",
      "[CV] END ................................ score: (test=1.000) total time=   0.4s\n"
     ]
    },
    {
     "name": "stderr",
     "output_type": "stream",
     "text": [
      "[Parallel(n_jobs=1)]: Done   9 out of   9 | elapsed:    2.9s finished\n"
     ]
    },
    {
     "data": {
      "text/plain": [
       "0.9607395775699012"
      ]
     },
     "execution_count": 7,
     "metadata": {},
     "output_type": "execute_result"
    }
   ],
   "source": [
    "\n",
    "rf_kfold = KFold(n_splits=9)\n",
    "\n",
    "regressor = RandomForestClassifier(random_state=23) # init the regressor\n",
    "final_score = cross_val_score(estimator=regressor, X=X, y=y,\n",
    "                scoring=\"f1\", cv=rf_kfold.split(X), n_jobs=1,\n",
    "                verbose= 3).mean()\n",
    "final_score"
   ]
  },
  {
   "cell_type": "markdown",
   "id": "84cc02ff",
   "metadata": {},
   "source": [
    "### STRATIFIED "
   ]
  },
  {
   "cell_type": "code",
   "execution_count": null,
   "id": "a3bccd56",
   "metadata": {},
   "outputs": [],
   "source": []
  }
 ],
 "metadata": {
  "kernelspec": {
   "display_name": "base",
   "language": "python",
   "name": "python3"
  },
  "language_info": {
   "codemirror_mode": {
    "name": "ipython",
    "version": 3
   },
   "file_extension": ".py",
   "mimetype": "text/x-python",
   "name": "python",
   "nbconvert_exporter": "python",
   "pygments_lexer": "ipython3",
   "version": "3.11.7"
  }
 },
 "nbformat": 4,
 "nbformat_minor": 5
}
