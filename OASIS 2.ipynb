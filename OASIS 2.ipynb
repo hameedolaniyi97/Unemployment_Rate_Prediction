{
 "cells": [
  {
   "cell_type": "code",
   "execution_count": 1,
   "id": "4f565798",
   "metadata": {},
   "outputs": [],
   "source": [
    "import pandas as pd \n",
    "import numpy as np "
   ]
  },
  {
   "cell_type": "code",
   "execution_count": 2,
   "id": "162f5dfb",
   "metadata": {},
   "outputs": [
    {
     "data": {
      "application/vnd.microsoft.datawrangler.viewer.v0+json": {
       "columns": [
        {
         "name": "index",
         "rawType": "int64",
         "type": "integer"
        },
        {
         "name": "Region",
         "rawType": "object",
         "type": "string"
        },
        {
         "name": " Date",
         "rawType": "object",
         "type": "string"
        },
        {
         "name": " Frequency",
         "rawType": "object",
         "type": "string"
        },
        {
         "name": " Estimated Unemployment Rate (%)",
         "rawType": "float64",
         "type": "float"
        },
        {
         "name": " Estimated Employed",
         "rawType": "float64",
         "type": "float"
        },
        {
         "name": " Estimated Labour Participation Rate (%)",
         "rawType": "float64",
         "type": "float"
        },
        {
         "name": "Area",
         "rawType": "object",
         "type": "string"
        }
       ],
       "ref": "38671063-3b46-4a38-b934-4eb68b6fd869",
       "rows": [
        [
         "0",
         "Andhra Pradesh",
         " 31-05-2019",
         " Monthly",
         "3.65",
         "11999139.0",
         "43.24",
         "Rural"
        ],
        [
         "1",
         "Andhra Pradesh",
         " 30-06-2019",
         " Monthly",
         "3.05",
         "11755881.0",
         "42.05",
         "Rural"
        ],
        [
         "2",
         "Andhra Pradesh",
         " 31-07-2019",
         " Monthly",
         "3.75",
         "12086707.0",
         "43.5",
         "Rural"
        ],
        [
         "3",
         "Andhra Pradesh",
         " 31-08-2019",
         " Monthly",
         "3.32",
         "12285693.0",
         "43.97",
         "Rural"
        ],
        [
         "4",
         "Andhra Pradesh",
         " 30-09-2019",
         " Monthly",
         "5.17",
         "12256762.0",
         "44.68",
         "Rural"
        ]
       ],
       "shape": {
        "columns": 7,
        "rows": 5
       }
      },
      "text/html": [
       "<div>\n",
       "<style scoped>\n",
       "    .dataframe tbody tr th:only-of-type {\n",
       "        vertical-align: middle;\n",
       "    }\n",
       "\n",
       "    .dataframe tbody tr th {\n",
       "        vertical-align: top;\n",
       "    }\n",
       "\n",
       "    .dataframe thead th {\n",
       "        text-align: right;\n",
       "    }\n",
       "</style>\n",
       "<table border=\"1\" class=\"dataframe\">\n",
       "  <thead>\n",
       "    <tr style=\"text-align: right;\">\n",
       "      <th></th>\n",
       "      <th>Region</th>\n",
       "      <th>Date</th>\n",
       "      <th>Frequency</th>\n",
       "      <th>Estimated Unemployment Rate (%)</th>\n",
       "      <th>Estimated Employed</th>\n",
       "      <th>Estimated Labour Participation Rate (%)</th>\n",
       "      <th>Area</th>\n",
       "    </tr>\n",
       "  </thead>\n",
       "  <tbody>\n",
       "    <tr>\n",
       "      <th>0</th>\n",
       "      <td>Andhra Pradesh</td>\n",
       "      <td>31-05-2019</td>\n",
       "      <td>Monthly</td>\n",
       "      <td>3.65</td>\n",
       "      <td>11999139.0</td>\n",
       "      <td>43.24</td>\n",
       "      <td>Rural</td>\n",
       "    </tr>\n",
       "    <tr>\n",
       "      <th>1</th>\n",
       "      <td>Andhra Pradesh</td>\n",
       "      <td>30-06-2019</td>\n",
       "      <td>Monthly</td>\n",
       "      <td>3.05</td>\n",
       "      <td>11755881.0</td>\n",
       "      <td>42.05</td>\n",
       "      <td>Rural</td>\n",
       "    </tr>\n",
       "    <tr>\n",
       "      <th>2</th>\n",
       "      <td>Andhra Pradesh</td>\n",
       "      <td>31-07-2019</td>\n",
       "      <td>Monthly</td>\n",
       "      <td>3.75</td>\n",
       "      <td>12086707.0</td>\n",
       "      <td>43.50</td>\n",
       "      <td>Rural</td>\n",
       "    </tr>\n",
       "    <tr>\n",
       "      <th>3</th>\n",
       "      <td>Andhra Pradesh</td>\n",
       "      <td>31-08-2019</td>\n",
       "      <td>Monthly</td>\n",
       "      <td>3.32</td>\n",
       "      <td>12285693.0</td>\n",
       "      <td>43.97</td>\n",
       "      <td>Rural</td>\n",
       "    </tr>\n",
       "    <tr>\n",
       "      <th>4</th>\n",
       "      <td>Andhra Pradesh</td>\n",
       "      <td>30-09-2019</td>\n",
       "      <td>Monthly</td>\n",
       "      <td>5.17</td>\n",
       "      <td>12256762.0</td>\n",
       "      <td>44.68</td>\n",
       "      <td>Rural</td>\n",
       "    </tr>\n",
       "  </tbody>\n",
       "</table>\n",
       "</div>"
      ],
      "text/plain": [
       "           Region         Date  Frequency   Estimated Unemployment Rate (%)  \\\n",
       "0  Andhra Pradesh   31-05-2019    Monthly                              3.65   \n",
       "1  Andhra Pradesh   30-06-2019    Monthly                              3.05   \n",
       "2  Andhra Pradesh   31-07-2019    Monthly                              3.75   \n",
       "3  Andhra Pradesh   31-08-2019    Monthly                              3.32   \n",
       "4  Andhra Pradesh   30-09-2019    Monthly                              5.17   \n",
       "\n",
       "    Estimated Employed   Estimated Labour Participation Rate (%)   Area  \n",
       "0           11999139.0                                     43.24  Rural  \n",
       "1           11755881.0                                     42.05  Rural  \n",
       "2           12086707.0                                     43.50  Rural  \n",
       "3           12285693.0                                     43.97  Rural  \n",
       "4           12256762.0                                     44.68  Rural  "
      ]
     },
     "execution_count": 2,
     "metadata": {},
     "output_type": "execute_result"
    }
   ],
   "source": [
    "data = pd.read_csv(r\"C:\\Users\\USER\\Downloads\\archive (2)\\Unemployment in India.csv\")\n",
    "data.head()"
   ]
  },
  {
   "cell_type": "code",
   "execution_count": 3,
   "id": "e58ececf",
   "metadata": {},
   "outputs": [
    {
     "name": "stdout",
     "output_type": "stream",
     "text": [
      "<class 'pandas.core.frame.DataFrame'>\n",
      "RangeIndex: 768 entries, 0 to 767\n",
      "Data columns (total 7 columns):\n",
      " #   Column                                    Non-Null Count  Dtype  \n",
      "---  ------                                    --------------  -----  \n",
      " 0   Region                                    740 non-null    object \n",
      " 1    Date                                     740 non-null    object \n",
      " 2    Frequency                                740 non-null    object \n",
      " 3    Estimated Unemployment Rate (%)          740 non-null    float64\n",
      " 4    Estimated Employed                       740 non-null    float64\n",
      " 5    Estimated Labour Participation Rate (%)  740 non-null    float64\n",
      " 6   Area                                      740 non-null    object \n",
      "dtypes: float64(3), object(4)\n",
      "memory usage: 42.1+ KB\n"
     ]
    }
   ],
   "source": [
    "data.info()"
   ]
  },
  {
   "cell_type": "code",
   "execution_count": 4,
   "id": "74ad313b",
   "metadata": {},
   "outputs": [
    {
     "data": {
      "application/vnd.microsoft.datawrangler.viewer.v0+json": {
       "columns": [
        {
         "name": "index",
         "rawType": "object",
         "type": "string"
        },
        {
         "name": "0",
         "rawType": "int64",
         "type": "integer"
        }
       ],
       "ref": "17185fff-4f7b-4175-b32a-0c9ca74582eb",
       "rows": [
        [
         "Region",
         "28"
        ],
        [
         " Date",
         "28"
        ],
        [
         " Frequency",
         "28"
        ],
        [
         " Estimated Unemployment Rate (%)",
         "28"
        ],
        [
         " Estimated Employed",
         "28"
        ],
        [
         " Estimated Labour Participation Rate (%)",
         "28"
        ],
        [
         "Area",
         "28"
        ]
       ],
       "shape": {
        "columns": 1,
        "rows": 7
       }
      },
      "text/plain": [
       "Region                                      28\n",
       " Date                                       28\n",
       " Frequency                                  28\n",
       " Estimated Unemployment Rate (%)            28\n",
       " Estimated Employed                         28\n",
       " Estimated Labour Participation Rate (%)    28\n",
       "Area                                        28\n",
       "dtype: int64"
      ]
     },
     "execution_count": 4,
     "metadata": {},
     "output_type": "execute_result"
    }
   ],
   "source": [
    "data.isnull().sum()"
   ]
  },
  {
   "cell_type": "code",
   "execution_count": 5,
   "id": "0b386bc8",
   "metadata": {},
   "outputs": [],
   "source": [
    "data = data.dropna(how='all')"
   ]
  },
  {
   "cell_type": "code",
   "execution_count": 6,
   "id": "1554ed4b",
   "metadata": {},
   "outputs": [
    {
     "data": {
      "application/vnd.microsoft.datawrangler.viewer.v0+json": {
       "columns": [
        {
         "name": "index",
         "rawType": "object",
         "type": "string"
        },
        {
         "name": "0",
         "rawType": "int64",
         "type": "integer"
        }
       ],
       "ref": "8f8c5177-c936-45ae-b697-53d78f104956",
       "rows": [
        [
         "Region",
         "0"
        ],
        [
         " Date",
         "0"
        ],
        [
         " Frequency",
         "0"
        ],
        [
         " Estimated Unemployment Rate (%)",
         "0"
        ],
        [
         " Estimated Employed",
         "0"
        ],
        [
         " Estimated Labour Participation Rate (%)",
         "0"
        ],
        [
         "Area",
         "0"
        ]
       ],
       "shape": {
        "columns": 1,
        "rows": 7
       }
      },
      "text/plain": [
       "Region                                      0\n",
       " Date                                       0\n",
       " Frequency                                  0\n",
       " Estimated Unemployment Rate (%)            0\n",
       " Estimated Employed                         0\n",
       " Estimated Labour Participation Rate (%)    0\n",
       "Area                                        0\n",
       "dtype: int64"
      ]
     },
     "execution_count": 6,
     "metadata": {},
     "output_type": "execute_result"
    }
   ],
   "source": [
    "data.isnull().sum()\n"
   ]
  },
  {
   "cell_type": "code",
   "execution_count": 7,
   "id": "7691f2d3",
   "metadata": {},
   "outputs": [
    {
     "data": {
      "application/vnd.microsoft.datawrangler.viewer.v0+json": {
       "columns": [
        {
         "name": "index",
         "rawType": "object",
         "type": "string"
        },
        {
         "name": " Estimated Unemployment Rate (%)",
         "rawType": "float64",
         "type": "float"
        },
        {
         "name": " Estimated Employed",
         "rawType": "float64",
         "type": "float"
        },
        {
         "name": " Estimated Labour Participation Rate (%)",
         "rawType": "float64",
         "type": "float"
        }
       ],
       "ref": "918390d7-9836-46e0-b7b6-14747e36b69c",
       "rows": [
        [
         "count",
         "740.0",
         "740.0",
         "740.0"
        ],
        [
         "mean",
         "11.787945945945946",
         "7204460.025675676",
         "42.630121621621626"
        ],
        [
         "std",
         "10.721298373157786",
         "8087988.429457784",
         "8.111094365865874"
        ],
        [
         "min",
         "0.0",
         "49420.0",
         "13.33"
        ],
        [
         "25%",
         "4.657500000000001",
         "1190404.5",
         "38.0625"
        ],
        [
         "50%",
         "8.35",
         "4744178.5",
         "41.16"
        ],
        [
         "75%",
         "15.887500000000001",
         "11275489.5",
         "45.505"
        ],
        [
         "max",
         "76.74",
         "45777509.0",
         "72.57"
        ]
       ],
       "shape": {
        "columns": 3,
        "rows": 8
       }
      },
      "text/html": [
       "<div>\n",
       "<style scoped>\n",
       "    .dataframe tbody tr th:only-of-type {\n",
       "        vertical-align: middle;\n",
       "    }\n",
       "\n",
       "    .dataframe tbody tr th {\n",
       "        vertical-align: top;\n",
       "    }\n",
       "\n",
       "    .dataframe thead th {\n",
       "        text-align: right;\n",
       "    }\n",
       "</style>\n",
       "<table border=\"1\" class=\"dataframe\">\n",
       "  <thead>\n",
       "    <tr style=\"text-align: right;\">\n",
       "      <th></th>\n",
       "      <th>Estimated Unemployment Rate (%)</th>\n",
       "      <th>Estimated Employed</th>\n",
       "      <th>Estimated Labour Participation Rate (%)</th>\n",
       "    </tr>\n",
       "  </thead>\n",
       "  <tbody>\n",
       "    <tr>\n",
       "      <th>count</th>\n",
       "      <td>740.000000</td>\n",
       "      <td>7.400000e+02</td>\n",
       "      <td>740.000000</td>\n",
       "    </tr>\n",
       "    <tr>\n",
       "      <th>mean</th>\n",
       "      <td>11.787946</td>\n",
       "      <td>7.204460e+06</td>\n",
       "      <td>42.630122</td>\n",
       "    </tr>\n",
       "    <tr>\n",
       "      <th>std</th>\n",
       "      <td>10.721298</td>\n",
       "      <td>8.087988e+06</td>\n",
       "      <td>8.111094</td>\n",
       "    </tr>\n",
       "    <tr>\n",
       "      <th>min</th>\n",
       "      <td>0.000000</td>\n",
       "      <td>4.942000e+04</td>\n",
       "      <td>13.330000</td>\n",
       "    </tr>\n",
       "    <tr>\n",
       "      <th>25%</th>\n",
       "      <td>4.657500</td>\n",
       "      <td>1.190404e+06</td>\n",
       "      <td>38.062500</td>\n",
       "    </tr>\n",
       "    <tr>\n",
       "      <th>50%</th>\n",
       "      <td>8.350000</td>\n",
       "      <td>4.744178e+06</td>\n",
       "      <td>41.160000</td>\n",
       "    </tr>\n",
       "    <tr>\n",
       "      <th>75%</th>\n",
       "      <td>15.887500</td>\n",
       "      <td>1.127549e+07</td>\n",
       "      <td>45.505000</td>\n",
       "    </tr>\n",
       "    <tr>\n",
       "      <th>max</th>\n",
       "      <td>76.740000</td>\n",
       "      <td>4.577751e+07</td>\n",
       "      <td>72.570000</td>\n",
       "    </tr>\n",
       "  </tbody>\n",
       "</table>\n",
       "</div>"
      ],
      "text/plain": [
       "       Estimated Unemployment Rate (%)  Estimated Employed  \\\n",
       "count                       740.000000        7.400000e+02   \n",
       "mean                         11.787946        7.204460e+06   \n",
       "std                          10.721298        8.087988e+06   \n",
       "min                           0.000000        4.942000e+04   \n",
       "25%                           4.657500        1.190404e+06   \n",
       "50%                           8.350000        4.744178e+06   \n",
       "75%                          15.887500        1.127549e+07   \n",
       "max                          76.740000        4.577751e+07   \n",
       "\n",
       "       Estimated Labour Participation Rate (%)  \n",
       "count                               740.000000  \n",
       "mean                                 42.630122  \n",
       "std                                   8.111094  \n",
       "min                                  13.330000  \n",
       "25%                                  38.062500  \n",
       "50%                                  41.160000  \n",
       "75%                                  45.505000  \n",
       "max                                  72.570000  "
      ]
     },
     "execution_count": 7,
     "metadata": {},
     "output_type": "execute_result"
    }
   ],
   "source": [
    "data.describe()"
   ]
  },
  {
   "cell_type": "code",
   "execution_count": 8,
   "id": "0511f552",
   "metadata": {},
   "outputs": [],
   "source": [
    "data.rename(columns={\" Estimated Unemployment Rate (%)\": \"Estimated Unemployment Rate (%)\", \n",
    "                     ' Date': \"Date\",\n",
    "                     \" Frequency\": \"Frequency\",\n",
    "                     \" Estimated Employed\": \"Estimated Employed\",\n",
    "                     ' Estimated Labour Participation Rate (%)': 'Estimated Labour Participation Rate (%)'},\n",
    "                     inplace=True)\n"
   ]
  },
  {
   "cell_type": "code",
   "execution_count": 9,
   "id": "e5a9775e",
   "metadata": {},
   "outputs": [
    {
     "data": {
      "text/plain": [
       "Index(['Region', 'Date', 'Frequency', 'Estimated Unemployment Rate (%)',\n",
       "       'Estimated Employed', 'Estimated Labour Participation Rate (%)',\n",
       "       'Area'],\n",
       "      dtype='object')"
      ]
     },
     "execution_count": 9,
     "metadata": {},
     "output_type": "execute_result"
    }
   ],
   "source": [
    "data.columns"
   ]
  },
  {
   "cell_type": "code",
   "execution_count": 10,
   "id": "c9b07346",
   "metadata": {},
   "outputs": [
    {
     "name": "stderr",
     "output_type": "stream",
     "text": [
      "C:\\Users\\USER\\AppData\\Local\\Temp\\ipykernel_24480\\1258276688.py:1: UserWarning: Parsing dates in  %d-%m-%Y format when dayfirst=False (the default) was specified. Pass `dayfirst=True` or specify a format to silence this warning.\n",
      "  data['Date'] = pd.to_datetime(data['Date'])\n"
     ]
    }
   ],
   "source": [
    "data['Date'] = pd.to_datetime(data['Date'])\n"
   ]
  },
  {
   "cell_type": "code",
   "execution_count": 11,
   "id": "5411cd5d",
   "metadata": {},
   "outputs": [
    {
     "name": "stdout",
     "output_type": "stream",
     "text": [
      "<class 'pandas.core.frame.DataFrame'>\n",
      "Index: 740 entries, 0 to 753\n",
      "Data columns (total 7 columns):\n",
      " #   Column                                   Non-Null Count  Dtype         \n",
      "---  ------                                   --------------  -----         \n",
      " 0   Region                                   740 non-null    object        \n",
      " 1   Date                                     740 non-null    datetime64[ns]\n",
      " 2   Frequency                                740 non-null    object        \n",
      " 3   Estimated Unemployment Rate (%)          740 non-null    float64       \n",
      " 4   Estimated Employed                       740 non-null    float64       \n",
      " 5   Estimated Labour Participation Rate (%)  740 non-null    float64       \n",
      " 6   Area                                     740 non-null    object        \n",
      "dtypes: datetime64[ns](1), float64(3), object(3)\n",
      "memory usage: 46.2+ KB\n"
     ]
    }
   ],
   "source": [
    "data.info()"
   ]
  },
  {
   "cell_type": "code",
   "execution_count": 12,
   "id": "c0ca4508",
   "metadata": {},
   "outputs": [],
   "source": [
    "data['year'] = data['Date'].dt.year\n",
    "data['month'] = data['Date'].dt.month\n",
    "data['day'] = data['Date'].dt.day"
   ]
  },
  {
   "cell_type": "code",
   "execution_count": 13,
   "id": "32abb6d3",
   "metadata": {},
   "outputs": [
    {
     "data": {
      "application/vnd.microsoft.datawrangler.viewer.v0+json": {
       "columns": [
        {
         "name": "index",
         "rawType": "int64",
         "type": "integer"
        },
        {
         "name": "Region",
         "rawType": "object",
         "type": "string"
        },
        {
         "name": "Date",
         "rawType": "datetime64[ns]",
         "type": "datetime"
        },
        {
         "name": "Frequency",
         "rawType": "object",
         "type": "string"
        },
        {
         "name": "Estimated Unemployment Rate (%)",
         "rawType": "float64",
         "type": "float"
        },
        {
         "name": "Estimated Employed",
         "rawType": "float64",
         "type": "float"
        },
        {
         "name": "Estimated Labour Participation Rate (%)",
         "rawType": "float64",
         "type": "float"
        },
        {
         "name": "Area",
         "rawType": "object",
         "type": "string"
        },
        {
         "name": "year",
         "rawType": "int32",
         "type": "integer"
        },
        {
         "name": "month",
         "rawType": "int32",
         "type": "integer"
        },
        {
         "name": "day",
         "rawType": "int32",
         "type": "integer"
        }
       ],
       "ref": "4545eb75-6e73-4d08-82b0-2a38b3d11576",
       "rows": [
        [
         "0",
         "Andhra Pradesh",
         "2019-05-31 00:00:00",
         " Monthly",
         "3.65",
         "11999139.0",
         "43.24",
         "Rural",
         "2019",
         "5",
         "31"
        ],
        [
         "1",
         "Andhra Pradesh",
         "2019-06-30 00:00:00",
         " Monthly",
         "3.05",
         "11755881.0",
         "42.05",
         "Rural",
         "2019",
         "6",
         "30"
        ],
        [
         "2",
         "Andhra Pradesh",
         "2019-07-31 00:00:00",
         " Monthly",
         "3.75",
         "12086707.0",
         "43.5",
         "Rural",
         "2019",
         "7",
         "31"
        ],
        [
         "3",
         "Andhra Pradesh",
         "2019-08-31 00:00:00",
         " Monthly",
         "3.32",
         "12285693.0",
         "43.97",
         "Rural",
         "2019",
         "8",
         "31"
        ],
        [
         "4",
         "Andhra Pradesh",
         "2019-09-30 00:00:00",
         " Monthly",
         "5.17",
         "12256762.0",
         "44.68",
         "Rural",
         "2019",
         "9",
         "30"
        ]
       ],
       "shape": {
        "columns": 10,
        "rows": 5
       }
      },
      "text/html": [
       "<div>\n",
       "<style scoped>\n",
       "    .dataframe tbody tr th:only-of-type {\n",
       "        vertical-align: middle;\n",
       "    }\n",
       "\n",
       "    .dataframe tbody tr th {\n",
       "        vertical-align: top;\n",
       "    }\n",
       "\n",
       "    .dataframe thead th {\n",
       "        text-align: right;\n",
       "    }\n",
       "</style>\n",
       "<table border=\"1\" class=\"dataframe\">\n",
       "  <thead>\n",
       "    <tr style=\"text-align: right;\">\n",
       "      <th></th>\n",
       "      <th>Region</th>\n",
       "      <th>Date</th>\n",
       "      <th>Frequency</th>\n",
       "      <th>Estimated Unemployment Rate (%)</th>\n",
       "      <th>Estimated Employed</th>\n",
       "      <th>Estimated Labour Participation Rate (%)</th>\n",
       "      <th>Area</th>\n",
       "      <th>year</th>\n",
       "      <th>month</th>\n",
       "      <th>day</th>\n",
       "    </tr>\n",
       "  </thead>\n",
       "  <tbody>\n",
       "    <tr>\n",
       "      <th>0</th>\n",
       "      <td>Andhra Pradesh</td>\n",
       "      <td>2019-05-31</td>\n",
       "      <td>Monthly</td>\n",
       "      <td>3.65</td>\n",
       "      <td>11999139.0</td>\n",
       "      <td>43.24</td>\n",
       "      <td>Rural</td>\n",
       "      <td>2019</td>\n",
       "      <td>5</td>\n",
       "      <td>31</td>\n",
       "    </tr>\n",
       "    <tr>\n",
       "      <th>1</th>\n",
       "      <td>Andhra Pradesh</td>\n",
       "      <td>2019-06-30</td>\n",
       "      <td>Monthly</td>\n",
       "      <td>3.05</td>\n",
       "      <td>11755881.0</td>\n",
       "      <td>42.05</td>\n",
       "      <td>Rural</td>\n",
       "      <td>2019</td>\n",
       "      <td>6</td>\n",
       "      <td>30</td>\n",
       "    </tr>\n",
       "    <tr>\n",
       "      <th>2</th>\n",
       "      <td>Andhra Pradesh</td>\n",
       "      <td>2019-07-31</td>\n",
       "      <td>Monthly</td>\n",
       "      <td>3.75</td>\n",
       "      <td>12086707.0</td>\n",
       "      <td>43.50</td>\n",
       "      <td>Rural</td>\n",
       "      <td>2019</td>\n",
       "      <td>7</td>\n",
       "      <td>31</td>\n",
       "    </tr>\n",
       "    <tr>\n",
       "      <th>3</th>\n",
       "      <td>Andhra Pradesh</td>\n",
       "      <td>2019-08-31</td>\n",
       "      <td>Monthly</td>\n",
       "      <td>3.32</td>\n",
       "      <td>12285693.0</td>\n",
       "      <td>43.97</td>\n",
       "      <td>Rural</td>\n",
       "      <td>2019</td>\n",
       "      <td>8</td>\n",
       "      <td>31</td>\n",
       "    </tr>\n",
       "    <tr>\n",
       "      <th>4</th>\n",
       "      <td>Andhra Pradesh</td>\n",
       "      <td>2019-09-30</td>\n",
       "      <td>Monthly</td>\n",
       "      <td>5.17</td>\n",
       "      <td>12256762.0</td>\n",
       "      <td>44.68</td>\n",
       "      <td>Rural</td>\n",
       "      <td>2019</td>\n",
       "      <td>9</td>\n",
       "      <td>30</td>\n",
       "    </tr>\n",
       "  </tbody>\n",
       "</table>\n",
       "</div>"
      ],
      "text/plain": [
       "           Region       Date Frequency  Estimated Unemployment Rate (%)  \\\n",
       "0  Andhra Pradesh 2019-05-31   Monthly                             3.65   \n",
       "1  Andhra Pradesh 2019-06-30   Monthly                             3.05   \n",
       "2  Andhra Pradesh 2019-07-31   Monthly                             3.75   \n",
       "3  Andhra Pradesh 2019-08-31   Monthly                             3.32   \n",
       "4  Andhra Pradesh 2019-09-30   Monthly                             5.17   \n",
       "\n",
       "   Estimated Employed  Estimated Labour Participation Rate (%)   Area  year  \\\n",
       "0          11999139.0                                    43.24  Rural  2019   \n",
       "1          11755881.0                                    42.05  Rural  2019   \n",
       "2          12086707.0                                    43.50  Rural  2019   \n",
       "3          12285693.0                                    43.97  Rural  2019   \n",
       "4          12256762.0                                    44.68  Rural  2019   \n",
       "\n",
       "   month  day  \n",
       "0      5   31  \n",
       "1      6   30  \n",
       "2      7   31  \n",
       "3      8   31  \n",
       "4      9   30  "
      ]
     },
     "execution_count": 13,
     "metadata": {},
     "output_type": "execute_result"
    }
   ],
   "source": [
    "data.head()"
   ]
  },
  {
   "cell_type": "code",
   "execution_count": 14,
   "id": "614355f7",
   "metadata": {},
   "outputs": [],
   "source": [
    "data = data.drop(columns=[\"Date\"])"
   ]
  },
  {
   "cell_type": "code",
   "execution_count": 15,
   "id": "93be8cfa",
   "metadata": {},
   "outputs": [],
   "source": [
    "from sklearn.preprocessing import LabelEncoder, StandardScaler\n",
    "from sklearn.model_selection import train_test_split"
   ]
  },
  {
   "cell_type": "code",
   "execution_count": 16,
   "id": "ff4f257f",
   "metadata": {},
   "outputs": [],
   "source": [
    "X = data.drop(columns=['Estimated Unemployment Rate (%)'])\n",
    "y = data['Estimated Unemployment Rate (%)']\n",
    "\n",
    "X_train, X_test, y_train, y_test = train_test_split(X,y, test_size=0.2, random_state=23)"
   ]
  },
  {
   "cell_type": "code",
   "execution_count": 17,
   "id": "b67e1a35",
   "metadata": {},
   "outputs": [],
   "source": [
    "cat_cols = list(X_train.select_dtypes(include=\"object\").columns)\n",
    "\n",
    "for col in cat_cols:\n",
    "    le = LabelEncoder()\n",
    "    X_train[col] = le.fit_transform(X_train[col])\n",
    "    X_test[col] = le.transform(X_test[col])"
   ]
  },
  {
   "cell_type": "code",
   "execution_count": 18,
   "id": "97134e5f",
   "metadata": {},
   "outputs": [],
   "source": [
    "scaler = StandardScaler()\n",
    "X_train = scaler.fit_transform(X_train)  # fit on training data\n",
    "X_test = scaler.transform(X_test)"
   ]
  },
  {
   "cell_type": "code",
   "execution_count": 19,
   "id": "007e85da",
   "metadata": {},
   "outputs": [
    {
     "data": {
      "application/vnd.microsoft.datawrangler.viewer.v0+json": {
       "columns": [
        {
         "name": "index",
         "rawType": "object",
         "type": "string"
        },
        {
         "name": "0",
         "rawType": "object",
         "type": "unknown"
        }
       ],
       "ref": "01692e09-0ef5-41d7-afea-d8cc23968912",
       "rows": [
        [
         "Region",
         "object"
        ],
        [
         "Frequency",
         "object"
        ],
        [
         "Estimated Unemployment Rate (%)",
         "float64"
        ],
        [
         "Estimated Employed",
         "float64"
        ],
        [
         "Estimated Labour Participation Rate (%)",
         "float64"
        ],
        [
         "Area",
         "object"
        ],
        [
         "year",
         "int32"
        ],
        [
         "month",
         "int32"
        ],
        [
         "day",
         "int32"
        ]
       ],
       "shape": {
        "columns": 1,
        "rows": 9
       }
      },
      "text/plain": [
       "Region                                      object\n",
       "Frequency                                   object\n",
       "Estimated Unemployment Rate (%)            float64\n",
       "Estimated Employed                         float64\n",
       "Estimated Labour Participation Rate (%)    float64\n",
       "Area                                        object\n",
       "year                                         int32\n",
       "month                                        int32\n",
       "day                                          int32\n",
       "dtype: object"
      ]
     },
     "execution_count": 19,
     "metadata": {},
     "output_type": "execute_result"
    }
   ],
   "source": [
    "data.dtypes\n"
   ]
  },
  {
   "cell_type": "code",
   "execution_count": 20,
   "id": "46928313",
   "metadata": {},
   "outputs": [
    {
     "data": {
      "application/vnd.microsoft.datawrangler.viewer.v0+json": {
       "columns": [
        {
         "name": "index",
         "rawType": "object",
         "type": "string"
        },
        {
         "name": "0",
         "rawType": "int64",
         "type": "integer"
        }
       ],
       "ref": "a0124e1b-4a2b-4606-80f2-0aa3a1cf7fc9",
       "rows": [
        [
         "Region",
         "740"
        ],
        [
         "Frequency",
         "740"
        ],
        [
         "Estimated Unemployment Rate (%)",
         "0"
        ],
        [
         "Estimated Employed",
         "0"
        ],
        [
         "Estimated Labour Participation Rate (%)",
         "0"
        ],
        [
         "Area",
         "740"
        ],
        [
         "year",
         "0"
        ],
        [
         "month",
         "0"
        ],
        [
         "day",
         "0"
        ]
       ],
       "shape": {
        "columns": 1,
        "rows": 9
       }
      },
      "text/plain": [
       "Region                                     740\n",
       "Frequency                                  740\n",
       "Estimated Unemployment Rate (%)              0\n",
       "Estimated Employed                           0\n",
       "Estimated Labour Participation Rate (%)      0\n",
       "Area                                       740\n",
       "year                                         0\n",
       "month                                        0\n",
       "day                                          0\n",
       "dtype: int64"
      ]
     },
     "execution_count": 20,
     "metadata": {},
     "output_type": "execute_result"
    }
   ],
   "source": [
    "data.apply(lambda col: pd.to_numeric(col, errors='coerce')).isna().sum()\n"
   ]
  },
  {
   "cell_type": "code",
   "execution_count": 21,
   "id": "56a9d7ee",
   "metadata": {},
   "outputs": [],
   "source": [
    "data_encoded = data.copy()\n",
    "label = LabelEncoder()\n",
    "\n",
    "for col in data_encoded.columns:\n",
    "    if data_encoded[col].dtype == 'object' or data_encoded[col].dtype.name == 'category':\n",
    "        data_encoded[col] = label.fit_transform(data_encoded[col].astype(str))\n"
   ]
  },
  {
   "cell_type": "code",
   "execution_count": 22,
   "id": "eed2479b",
   "metadata": {},
   "outputs": [
    {
     "data": {
      "application/vnd.microsoft.datawrangler.viewer.v0+json": {
       "columns": [
        {
         "name": "index",
         "rawType": "object",
         "type": "string"
        },
        {
         "name": "0",
         "rawType": "object",
         "type": "unknown"
        }
       ],
       "ref": "81c9e3be-5abc-4ebc-9735-15ee841f88a9",
       "rows": [
        [
         "Region",
         "int32"
        ],
        [
         "Frequency",
         "int32"
        ],
        [
         "Estimated Unemployment Rate (%)",
         "float64"
        ],
        [
         "Estimated Employed",
         "float64"
        ],
        [
         "Estimated Labour Participation Rate (%)",
         "float64"
        ],
        [
         "Area",
         "int32"
        ],
        [
         "year",
         "int32"
        ],
        [
         "month",
         "int32"
        ],
        [
         "day",
         "int32"
        ]
       ],
       "shape": {
        "columns": 1,
        "rows": 9
       }
      },
      "text/plain": [
       "Region                                       int32\n",
       "Frequency                                    int32\n",
       "Estimated Unemployment Rate (%)            float64\n",
       "Estimated Employed                         float64\n",
       "Estimated Labour Participation Rate (%)    float64\n",
       "Area                                         int32\n",
       "year                                         int32\n",
       "month                                        int32\n",
       "day                                          int32\n",
       "dtype: object"
      ]
     },
     "execution_count": 22,
     "metadata": {},
     "output_type": "execute_result"
    }
   ],
   "source": [
    "data_encoded.dtypes\n"
   ]
  },
  {
   "cell_type": "code",
   "execution_count": 23,
   "id": "81333a91",
   "metadata": {},
   "outputs": [],
   "source": [
    "# Train the model \n",
    "\n",
    "from sklearn.tree import DecisionTreeRegressor\n",
    "\n",
    "model = DecisionTreeRegressor(min_samples_leaf=2, min_samples_split=15,\n",
    "                              random_state=32, splitter= \"best\", \n",
    "                              max_depth= 15, max_features='sqrt', \n",
    "                              criterion='friedman_mse', )\n",
    "\n",
    "model.fit(X_train, y_train)\n",
    "train_preds = model.predict(X_train)\n",
    "test_preds = model.predict(X_test)"
   ]
  },
  {
   "cell_type": "code",
   "execution_count": 24,
   "id": "bcb99fbe",
   "metadata": {},
   "outputs": [
    {
     "name": "stdout",
     "output_type": "stream",
     "text": [
      "Train Score: 6.3664332139293025\n",
      "Test Score: 9.285115240555008\n"
     ]
    }
   ],
   "source": [
    "# evaluate the perfomance of the base model \n",
    "\n",
    "from sklearn.metrics import root_mean_squared_error\n",
    "\n",
    "train_rmse = root_mean_squared_error(y_train, train_preds)\n",
    "test_rmse = root_mean_squared_error(y_test, test_preds)\n",
    "\n",
    "print(f'Train Score: {train_rmse}')\n",
    "print(f'Test Score: {test_rmse}')"
   ]
  },
  {
   "cell_type": "code",
   "execution_count": 30,
   "id": "9d530592",
   "metadata": {},
   "outputs": [
    {
     "name": "stderr",
     "output_type": "stream",
     "text": [
      "c:\\Users\\USER\\AppData\\Local\\Programs\\Python\\Python312\\Lib\\site-packages\\sklearn\\model_selection\\_search.py:317: UserWarning: The total space of parameters 32 is smaller than n_iter=50. Running 32 iterations. For exhaustive searches, use GridSearchCV.\n",
      "  warnings.warn(\n"
     ]
    },
    {
     "name": "stdout",
     "output_type": "stream",
     "text": [
      "Fitting 5 folds for each of 32 candidates, totalling 160 fits\n",
      " Best Parameters: {'n_estimators': 300, 'min_samples_split': 5, 'min_samples_leaf': 2, 'max_features': 'log2', 'max_depth': 12, 'bootstrap': True}\n",
      " Best CV RMSE (Negative): -7.519982403717198\n",
      " True CV RMSE: 7.519982403717198\n",
      "Train RMSE: 4.5317\n",
      "Test RMSE:  8.6183\n",
      " Possible overfitting (train error much lower than test).\n"
     ]
    },
    {
     "data": {
      "image/png": "[encoded data removed]",
      "text/plain": [
       "<Figure size 600x400 with 1 Axes>"
      ]
     },
     "metadata": {},
     "output_type": "display_data"
    }
   ],
   "source": [
    "from sklearn.ensemble import RandomForestRegressor\n",
    "from sklearn.model_selection import RandomizedSearchCV\n",
    "from sklearn.metrics import mean_squared_error\n",
    "import numpy as np\n",
    "import matplotlib.pyplot as plt\n",
    "\n",
    "\n",
    "# Define parameter space\n",
    "\n",
    "param_dist = {\n",
    "    'n_estimators': [300, 500],\n",
    "    'max_depth': [10, 12],\n",
    "    'min_samples_split': [5, 10],\n",
    "    'min_samples_leaf': [2, 4],\n",
    "    'max_features': ['sqrt', 'log2'],\n",
    "    'bootstrap': [True]    \n",
    "}\n",
    "\n",
    "\n",
    "# Initialize model\n",
    "\n",
    "rf = RandomForestRegressor(random_state=32)\n",
    "\n",
    "# Randomized Search CV\n",
    "\n",
    "random_search = RandomizedSearchCV(\n",
    "    estimator=rf,\n",
    "    param_distributions=param_dist,\n",
    "    n_iter=50,                                   \n",
    "    scoring='neg_root_mean_squared_error',       \n",
    "    cv=5,\n",
    "    n_jobs=-1,\n",
    "    verbose=1,\n",
    "    random_state=32\n",
    ")\n",
    "\n",
    "\n",
    "# Fit to training data\n",
    "\n",
    "random_search.fit(X_train, y_train)\n",
    "\n",
    "best_rf = random_search.best_estimator_\n",
    "\n",
    "\n",
    "# Evaluate on train & test\n",
    "\n",
    "train_pred = best_rf.predict(X_train)\n",
    "test_pred = best_rf.predict(X_test)\n",
    "\n",
    "train_rmse = np.sqrt(mean_squared_error(y_train, train_pred))\n",
    "test_rmse = np.sqrt(mean_squared_error(y_test, test_pred))\n",
    "\n",
    "\n",
    "# Display results\n",
    "\n",
    "print(\" Best Parameters:\", random_search.best_params_)\n",
    "print(\" Best CV RMSE (Negative):\", random_search.best_score_)\n",
    "print(\" True CV RMSE:\", abs(random_search.best_score_))\n",
    "\n",
    "\n",
    "print(f\"Train RMSE: {train_rmse:.4f}\")\n",
    "print(f\"Test RMSE:  {test_rmse:.4f}\")\n",
    "\n",
    "\n",
    "if train_rmse < test_rmse * 0.8:\n",
    "    print(\" Possible overfitting (train error much lower than test).\")\n",
    "elif test_rmse < train_rmse * 0.8:\n",
    "    print(\" Possible underfitting (test error much lower than train).\")\n",
    "else:\n",
    "    print(\" Model generalizes well between train and test.\")\n",
    "\n",
    "# Visualize Train vs Test RMSE\n",
    "\n",
    "plt.figure(figsize=(6,4))\n",
    "plt.bar(['Train RMSE', 'Test RMSE'], [train_rmse, test_rmse], color=['skyblue', 'salmon'])\n",
    "plt.title('Random Forest: Train vs Test RMSE')\n",
    "plt.ylabel('RMSE')\n",
    "plt.grid(axis='y', linestyle='--', alpha=0.6)\n",
    "plt.show()\n"
   ]
  },
  {
   "cell_type": "code",
   "execution_count": null,
   "id": "2c50ef63",
   "metadata": {},
   "outputs": [],
   "source": []
  }
 ],
 "metadata": {
  "kernelspec": {
   "display_name": "Python 3",
   "language": "python",
   "name": "python3"
  },
  "language_info": {
   "codemirror_mode": {
    "name": "ipython",
    "version": 3
   },
   "file_extension": ".py",
   "mimetype": "text/x-python",
   "name": "python",
   "nbconvert_exporter": "python",
   "pygments_lexer": "ipython3",
   "version": "3.12.0"
  }
 },
 "nbformat": 4,
 "nbformat_minor": 5
}
